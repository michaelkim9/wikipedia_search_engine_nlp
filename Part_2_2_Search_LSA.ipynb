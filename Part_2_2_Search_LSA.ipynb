{
 "cells": [
  {
   "cell_type": "code",
   "execution_count": 1,
   "metadata": {
    "collapsed": true
   },
   "outputs": [],
   "source": [
    "from sklearn.externals import joblib\n",
    "import matplotlib.pyplot as plt\n",
    "import numpy as np\n",
    "import pandas as pd\n",
    "import seaborn as sns\n",
    "\n",
    "%matplotlib inline"
   ]
  },
  {
   "cell_type": "markdown",
   "metadata": {},
   "source": [
    "### Load TFDIF Vectorizer and Document Term Matrix from previous notebook"
   ]
  },
  {
   "cell_type": "code",
   "execution_count": 2,
   "metadata": {
    "collapsed": true
   },
   "outputs": [],
   "source": [
    "tfidf_vectorizer = joblib.load('pickled_files/tfidf_vectorizer')\n",
    "document_term_matrix_sps = joblib.load('pickled_files/document_term_matrix_sps')\n",
    "df = joblib.load('pickled_files/df')"
   ]
  },
  {
   "cell_type": "code",
   "execution_count": 3,
   "metadata": {
    "collapsed": true
   },
   "outputs": [],
   "source": [
    "document_term_matrix_df = pd.DataFrame(document_term_matrix_sps.toarray(),\n",
    "                                       index=df.index,\n",
    "                                       columns=tfidf_vectorizer.get_feature_names())"
   ]
  },
  {
   "cell_type": "markdown",
   "metadata": {},
   "source": [
    "### Compute SVD of Document Term Matrix\n",
    "\n",
    "$$\\text{Latent Semantic Analysis} = \\text{Document Term Matrix} + \\text{SVD}$$"
   ]
  },
  {
   "cell_type": "code",
   "execution_count": 4,
   "metadata": {
    "collapsed": true
   },
   "outputs": [],
   "source": [
    "from sklearn.decomposition import TruncatedSVD"
   ]
  },
  {
   "cell_type": "code",
   "execution_count": 5,
   "metadata": {
    "collapsed": true
   },
   "outputs": [],
   "source": [
    "n_components=1500\n",
    "SVD = TruncatedSVD(n_components)\n",
    "component_names = [\"component_\"+str(i+1) for i in range(n_components)]"
   ]
  },
  {
   "cell_type": "code",
   "execution_count": 6,
   "metadata": {
    "collapsed": true
   },
   "outputs": [],
   "source": [
    "svd_matrix = SVD.fit_transform(document_term_matrix_sps)"
   ]
  },
  {
   "cell_type": "code",
   "execution_count": 7,
   "metadata": {},
   "outputs": [
    {
     "data": {
      "text/plain": [
       "0.74254748907920154"
      ]
     },
     "execution_count": 7,
     "metadata": {},
     "output_type": "execute_result"
    }
   ],
   "source": [
    "sum(SVD.explained_variance_ratio_)"
   ]
  },
  {
   "cell_type": "code",
   "execution_count": 8,
   "metadata": {},
   "outputs": [
    {
     "data": {
      "text/plain": [
       "<matplotlib.legend.Legend at 0x7f76fc6be198>"
      ]
     },
     "execution_count": 8,
     "metadata": {},
     "output_type": "execute_result"
    },
    {
     "data": {
      "image/png": "[encoded data removed]",
      "text/plain": [
       "<matplotlib.figure.Figure at 0x7f76fc6be1d0>"
      ]
     },
     "metadata": {},
     "output_type": "display_data"
    }
   ],
   "source": [
    "plt.plot(range(1500), np.cumsum(SVD.explained_variance_ratio_), label='cumulative explained variance')\n",
    "plt.legend()"
   ]
  },
  {
   "cell_type": "code",
   "execution_count": 9,
   "metadata": {},
   "outputs": [
    {
     "data": {
      "text/plain": [
       "(1500, 28073)"
      ]
     },
     "execution_count": 9,
     "metadata": {},
     "output_type": "execute_result"
    }
   ],
   "source": [
    "SVD.components_.shape"
   ]
  },
  {
   "cell_type": "markdown",
   "metadata": {},
   "source": [
    "### Cosine Similarities\n",
    "\n",
    "The cosine similarity between two vectors (or two documents on the Vector Space) is a measure that calculates the cosine of the angle between them. This metric is a measurement of orientation and not magnitude, it can be seen as a comparison between documents on a normalized space because we’re not taking into the consideration only the magnitude of each word count (tf-idf) of each document, but the angle between the documents.\n",
    "\n",
    "This is different from measuring Euclidian distances because distances would be measuring magnitude whereas we are looking at the direction of the documents. For example, we have a document with the word “machine learning” appearing 200 times and another document with the word “machine learning” appearing 50, the Euclidean distance between them will be higher but the angle will still be small because they are pointing to the same direction, which is what matters when we are comparing documents.\n",
    "\n",
    "Cosine Similarity will generate a metric that says how related two documents are by looking at the angle instead of magnitude, like in the examples below:"
   ]
  },
  {
   "cell_type": "markdown",
   "metadata": {},
   "source": [
    "![cosine_similarity](https://git.generalassemb.ly/raw/michaelkim9/semantic_search/master/other_assets/cosinesimilarity.png)"
   ]
  },
  {
   "cell_type": "code",
   "execution_count": 10,
   "metadata": {
    "collapsed": true
   },
   "outputs": [],
   "source": [
    "from sklearn.metrics.pairwise import cosine_similarity"
   ]
  },
  {
   "cell_type": "code",
   "execution_count": 11,
   "metadata": {
    "collapsed": true
   },
   "outputs": [],
   "source": [
    "search_term = 'Random Forest'\n",
    "search_term_tfidf_matrix = tfidf_vectorizer.transform([search_term])\n",
    "search_term_lsa = SVD.transform(search_term_tfidf_matrix)"
   ]
  },
  {
   "cell_type": "code",
   "execution_count": 12,
   "metadata": {
    "collapsed": true
   },
   "outputs": [],
   "source": [
    "cos_sim = cosine_similarity(search_term_lsa, svd_matrix)"
   ]
  },
  {
   "cell_type": "code",
   "execution_count": 13,
   "metadata": {},
   "outputs": [
    {
     "data": {
      "text/html": [
       "<div>\n",
       "<table border=\"1\" class=\"dataframe\">\n",
       "  <thead>\n",
       "    <tr style=\"text-align: right;\">\n",
       "      <th></th>\n",
       "      <th>score</th>\n",
       "    </tr>\n",
       "    <tr>\n",
       "      <th>page_title</th>\n",
       "      <th></th>\n",
       "    </tr>\n",
       "  </thead>\n",
       "  <tbody>\n",
       "    <tr>\n",
       "      <th>Random forest</th>\n",
       "      <td>0.816338</td>\n",
       "    </tr>\n",
       "    <tr>\n",
       "      <th>Jackknife variance estimates for random forest</th>\n",
       "      <td>0.775225</td>\n",
       "    </tr>\n",
       "    <tr>\n",
       "      <th>Kernel random forest</th>\n",
       "      <td>0.767955</td>\n",
       "    </tr>\n",
       "    <tr>\n",
       "      <th>Random indexing</th>\n",
       "      <td>0.410654</td>\n",
       "    </tr>\n",
       "    <tr>\n",
       "      <th>Random projection</th>\n",
       "      <td>0.378585</td>\n",
       "    </tr>\n",
       "  </tbody>\n",
       "</table>\n",
       "</div>"
      ],
      "text/plain": [
       "                                                   score\n",
       "page_title                                              \n",
       "Random forest                                   0.816338\n",
       "Jackknife variance estimates for random forest  0.775225\n",
       "Kernel random forest                            0.767955\n",
       "Random indexing                                 0.410654\n",
       "Random projection                               0.378585"
      ]
     },
     "execution_count": 13,
     "metadata": {},
     "output_type": "execute_result"
    }
   ],
   "source": [
    "cos_df = pd.DataFrame(cos_sim, columns=df.page_title).T\n",
    "cos_df.reset_index(inplace=True)\n",
    "cos_df.drop_duplicates(subset=['page_title'],inplace=True)\n",
    "cos_df.set_index('page_title',inplace=True)\n",
    "cos_df.columns = ['score']\n",
    "cos_df.sort_values('score',ascending=False).head()"
   ]
  },
  {
   "cell_type": "markdown",
   "metadata": {},
   "source": [
    "### Search Function for Cosine Similarities\n",
    "\n",
    "Looks like the search above on cosine similarities works pretty well! Now going create function for it and I'll build a little more funcationality by bringing in the page summary and link to the page url. The function will return the top 5 search results. Will demonstrate with a few examples below."
   ]
  },
  {
   "cell_type": "code",
   "execution_count": 14,
   "metadata": {
    "collapsed": true
   },
   "outputs": [],
   "source": [
    "def wikipedia_search(search_term):\n",
    "    search_term_tfidf_matrix = tfidf_vectorizer.transform([search_term])\n",
    "    search_term_lsa = SVD.transform(search_term_tfidf_matrix)\n",
    "    cos_sim = cosine_similarity(search_term_lsa, svd_matrix)\n",
    "    cos_df = pd.DataFrame(cos_sim, columns=df.page_title).T\n",
    "    search_df = df[['page_title','page_summary','page_url']]\n",
    "    cos_df.reset_index(inplace=True)\n",
    "    cos_df = pd.merge(cos_df,search_df, on='page_title',how='left', indicator=True)\n",
    "    cos_df.drop_duplicates(subset=['page_title'],inplace=True)\n",
    "    cos_df.set_index('page_title',inplace=True)\n",
    "    cos_df.columns = ['score','page_summary','page_url','merge']\n",
    "    cos_df.drop(['merge'],axis=1, inplace=True)\n",
    "    return cos_df.sort_values('score',ascending=False).head()"
   ]
  },
  {
   "cell_type": "code",
   "execution_count": 15,
   "metadata": {},
   "outputs": [
    {
     "data": {
      "text/html": [
       "<div>\n",
       "<table border=\"1\" class=\"dataframe\">\n",
       "  <thead>\n",
       "    <tr style=\"text-align: right;\">\n",
       "      <th></th>\n",
       "      <th>score</th>\n",
       "      <th>page_summary</th>\n",
       "      <th>page_url</th>\n",
       "    </tr>\n",
       "    <tr>\n",
       "      <th>page_title</th>\n",
       "      <th></th>\n",
       "      <th></th>\n",
       "      <th></th>\n",
       "    </tr>\n",
       "  </thead>\n",
       "  <tbody>\n",
       "    <tr>\n",
       "      <th>Random forest</th>\n",
       "      <td>0.816338</td>\n",
       "      <td>Random forests or random decision forests are ...</td>\n",
       "      <td>https://en.wikipedia.org/wiki/Random_forest</td>\n",
       "    </tr>\n",
       "    <tr>\n",
       "      <th>Jackknife variance estimates for random forest</th>\n",
       "      <td>0.775225</td>\n",
       "      <td>In statistics, jackknife variance estimates fo...</td>\n",
       "      <td>https://en.wikipedia.org/wiki/Jackknife_varian...</td>\n",
       "    </tr>\n",
       "    <tr>\n",
       "      <th>Kernel random forest</th>\n",
       "      <td>0.767955</td>\n",
       "      <td>In machine learning, kernel random forests est...</td>\n",
       "      <td>https://en.wikipedia.org/wiki/Kernel_random_fo...</td>\n",
       "    </tr>\n",
       "    <tr>\n",
       "      <th>Random indexing</th>\n",
       "      <td>0.410654</td>\n",
       "      <td>Random indexing is a dimension reduction metho...</td>\n",
       "      <td>https://en.wikipedia.org/wiki/Random_indexing</td>\n",
       "    </tr>\n",
       "    <tr>\n",
       "      <th>Random projection</th>\n",
       "      <td>0.378585</td>\n",
       "      <td>In mathematics and statistics, random projecti...</td>\n",
       "      <td>https://en.wikipedia.org/wiki/Random_projection</td>\n",
       "    </tr>\n",
       "  </tbody>\n",
       "</table>\n",
       "</div>"
      ],
      "text/plain": [
       "                                                   score  \\\n",
       "page_title                                                 \n",
       "Random forest                                   0.816338   \n",
       "Jackknife variance estimates for random forest  0.775225   \n",
       "Kernel random forest                            0.767955   \n",
       "Random indexing                                 0.410654   \n",
       "Random projection                               0.378585   \n",
       "\n",
       "                                                                                     page_summary  \\\n",
       "page_title                                                                                          \n",
       "Random forest                                   Random forests or random decision forests are ...   \n",
       "Jackknife variance estimates for random forest  In statistics, jackknife variance estimates fo...   \n",
       "Kernel random forest                            In machine learning, kernel random forests est...   \n",
       "Random indexing                                 Random indexing is a dimension reduction metho...   \n",
       "Random projection                               In mathematics and statistics, random projecti...   \n",
       "\n",
       "                                                                                         page_url  \n",
       "page_title                                                                                         \n",
       "Random forest                                         https://en.wikipedia.org/wiki/Random_forest  \n",
       "Jackknife variance estimates for random forest  https://en.wikipedia.org/wiki/Jackknife_varian...  \n",
       "Kernel random forest                            https://en.wikipedia.org/wiki/Kernel_random_fo...  \n",
       "Random indexing                                     https://en.wikipedia.org/wiki/Random_indexing  \n",
       "Random projection                                 https://en.wikipedia.org/wiki/Random_projection  "
      ]
     },
     "execution_count": 15,
     "metadata": {},
     "output_type": "execute_result"
    }
   ],
   "source": [
    "wikipedia_search('Random Forest')"
   ]
  },
  {
   "cell_type": "code",
   "execution_count": 16,
   "metadata": {},
   "outputs": [
    {
     "data": {
      "text/html": [
       "<div>\n",
       "<table border=\"1\" class=\"dataframe\">\n",
       "  <thead>\n",
       "    <tr style=\"text-align: right;\">\n",
       "      <th></th>\n",
       "      <th>score</th>\n",
       "      <th>page_summary</th>\n",
       "      <th>page_url</th>\n",
       "    </tr>\n",
       "    <tr>\n",
       "      <th>page_title</th>\n",
       "      <th></th>\n",
       "      <th></th>\n",
       "      <th></th>\n",
       "    </tr>\n",
       "  </thead>\n",
       "  <tbody>\n",
       "    <tr>\n",
       "      <th>Skype for Business</th>\n",
       "      <td>0.705727</td>\n",
       "      <td>Skype for Business (formerly Microsoft Office ...</td>\n",
       "      <td>https://en.wikipedia.org/wiki/Skype_for_Business</td>\n",
       "    </tr>\n",
       "    <tr>\n",
       "      <th>Outlook.com</th>\n",
       "      <td>0.356843</td>\n",
       "      <td>Outlook.com is a web-based suite of webmail, c...</td>\n",
       "      <td>https://en.wikipedia.org/wiki/Outlook.com</td>\n",
       "    </tr>\n",
       "    <tr>\n",
       "      <th>Symphony Communication</th>\n",
       "      <td>0.311220</td>\n",
       "      <td>Symphony is a secure, cloud-based, communicati...</td>\n",
       "      <td>https://en.wikipedia.org/wiki/Symphony_Communi...</td>\n",
       "    </tr>\n",
       "    <tr>\n",
       "      <th>Microsoft Office Live Meeting</th>\n",
       "      <td>0.302471</td>\n",
       "      <td>Microsoft Office Live Meeting is a discontinue...</td>\n",
       "      <td>https://en.wikipedia.org/wiki/Microsoft_Office...</td>\n",
       "    </tr>\n",
       "    <tr>\n",
       "      <th>Zingaya</th>\n",
       "      <td>0.297904</td>\n",
       "      <td>Zingaya was launched in North America on Septe...</td>\n",
       "      <td>https://en.wikipedia.org/wiki/Zingaya</td>\n",
       "    </tr>\n",
       "  </tbody>\n",
       "</table>\n",
       "</div>"
      ],
      "text/plain": [
       "                                  score  \\\n",
       "page_title                                \n",
       "Skype for Business             0.705727   \n",
       "Outlook.com                    0.356843   \n",
       "Symphony Communication         0.311220   \n",
       "Microsoft Office Live Meeting  0.302471   \n",
       "Zingaya                        0.297904   \n",
       "\n",
       "                                                                    page_summary  \\\n",
       "page_title                                                                         \n",
       "Skype for Business             Skype for Business (formerly Microsoft Office ...   \n",
       "Outlook.com                    Outlook.com is a web-based suite of webmail, c...   \n",
       "Symphony Communication         Symphony is a secure, cloud-based, communicati...   \n",
       "Microsoft Office Live Meeting  Microsoft Office Live Meeting is a discontinue...   \n",
       "Zingaya                        Zingaya was launched in North America on Septe...   \n",
       "\n",
       "                                                                        page_url  \n",
       "page_title                                                                        \n",
       "Skype for Business              https://en.wikipedia.org/wiki/Skype_for_Business  \n",
       "Outlook.com                            https://en.wikipedia.org/wiki/Outlook.com  \n",
       "Symphony Communication         https://en.wikipedia.org/wiki/Symphony_Communi...  \n",
       "Microsoft Office Live Meeting  https://en.wikipedia.org/wiki/Microsoft_Office...  \n",
       "Zingaya                                    https://en.wikipedia.org/wiki/Zingaya  "
      ]
     },
     "execution_count": 16,
     "metadata": {},
     "output_type": "execute_result"
    }
   ],
   "source": [
    "wikipedia_search('Skype')"
   ]
  },
  {
   "cell_type": "code",
   "execution_count": 17,
   "metadata": {},
   "outputs": [
    {
     "data": {
      "text/html": [
       "<div>\n",
       "<table border=\"1\" class=\"dataframe\">\n",
       "  <thead>\n",
       "    <tr style=\"text-align: right;\">\n",
       "      <th></th>\n",
       "      <th>score</th>\n",
       "      <th>page_summary</th>\n",
       "      <th>page_url</th>\n",
       "    </tr>\n",
       "    <tr>\n",
       "      <th>page_title</th>\n",
       "      <th></th>\n",
       "      <th></th>\n",
       "      <th></th>\n",
       "    </tr>\n",
       "  </thead>\n",
       "  <tbody>\n",
       "    <tr>\n",
       "      <th>Multilayer perceptron</th>\n",
       "      <td>0.679771</td>\n",
       "      <td>A multilayer perceptron (MLP) is a class of fe...</td>\n",
       "      <td>https://en.wikipedia.org/wiki/Multilayer_perce...</td>\n",
       "    </tr>\n",
       "    <tr>\n",
       "      <th>Perceptron</th>\n",
       "      <td>0.577002</td>\n",
       "      <td>In machine learning, the perceptron is an algo...</td>\n",
       "      <td>https://en.wikipedia.org/wiki/Perceptron</td>\n",
       "    </tr>\n",
       "    <tr>\n",
       "      <th>Kernel perceptron</th>\n",
       "      <td>0.407601</td>\n",
       "      <td>In machine learning, the kernel perceptron is ...</td>\n",
       "      <td>https://en.wikipedia.org/wiki/Kernel_perceptron</td>\n",
       "    </tr>\n",
       "    <tr>\n",
       "      <th>ADALINE</th>\n",
       "      <td>0.342421</td>\n",
       "      <td>ADALINE (Adaptive Linear Neuron or later Adapt...</td>\n",
       "      <td>https://en.wikipedia.org/wiki/ADALINE</td>\n",
       "    </tr>\n",
       "    <tr>\n",
       "      <th>Winnow (algorithm)</th>\n",
       "      <td>0.322537</td>\n",
       "      <td>The winnow algorithm is a technique from machi...</td>\n",
       "      <td>https://en.wikipedia.org/wiki/Winnow_(algorithm)</td>\n",
       "    </tr>\n",
       "  </tbody>\n",
       "</table>\n",
       "</div>"
      ],
      "text/plain": [
       "                          score  \\\n",
       "page_title                        \n",
       "Multilayer perceptron  0.679771   \n",
       "Perceptron             0.577002   \n",
       "Kernel perceptron      0.407601   \n",
       "ADALINE                0.342421   \n",
       "Winnow (algorithm)     0.322537   \n",
       "\n",
       "                                                            page_summary  \\\n",
       "page_title                                                                 \n",
       "Multilayer perceptron  A multilayer perceptron (MLP) is a class of fe...   \n",
       "Perceptron             In machine learning, the perceptron is an algo...   \n",
       "Kernel perceptron      In machine learning, the kernel perceptron is ...   \n",
       "ADALINE                ADALINE (Adaptive Linear Neuron or later Adapt...   \n",
       "Winnow (algorithm)     The winnow algorithm is a technique from machi...   \n",
       "\n",
       "                                                                page_url  \n",
       "page_title                                                                \n",
       "Multilayer perceptron  https://en.wikipedia.org/wiki/Multilayer_perce...  \n",
       "Perceptron                      https://en.wikipedia.org/wiki/Perceptron  \n",
       "Kernel perceptron        https://en.wikipedia.org/wiki/Kernel_perceptron  \n",
       "ADALINE                            https://en.wikipedia.org/wiki/ADALINE  \n",
       "Winnow (algorithm)      https://en.wikipedia.org/wiki/Winnow_(algorithm)  "
      ]
     },
     "execution_count": 17,
     "metadata": {},
     "output_type": "execute_result"
    }
   ],
   "source": [
    "wikipedia_search('Perceptron')"
   ]
  },
  {
   "cell_type": "code",
   "execution_count": 18,
   "metadata": {},
   "outputs": [
    {
     "data": {
      "text/html": [
       "<div>\n",
       "<table border=\"1\" class=\"dataframe\">\n",
       "  <thead>\n",
       "    <tr style=\"text-align: right;\">\n",
       "      <th></th>\n",
       "      <th>score</th>\n",
       "      <th>page_summary</th>\n",
       "      <th>page_url</th>\n",
       "    </tr>\n",
       "    <tr>\n",
       "      <th>page_title</th>\n",
       "      <th></th>\n",
       "      <th></th>\n",
       "      <th></th>\n",
       "    </tr>\n",
       "  </thead>\n",
       "  <tbody>\n",
       "    <tr>\n",
       "      <th>Matthews correlation coefficient</th>\n",
       "      <td>0.731489</td>\n",
       "      <td>The Matthews correlation coefficient is used i...</td>\n",
       "      <td>https://en.wikipedia.org/wiki/Matthews_correla...</td>\n",
       "    </tr>\n",
       "    <tr>\n",
       "      <th>Congruence coefficient</th>\n",
       "      <td>0.673572</td>\n",
       "      <td>In multivariate statistics, the congruence coe...</td>\n",
       "      <td>https://en.wikipedia.org/wiki/Congruence_coeff...</td>\n",
       "    </tr>\n",
       "    <tr>\n",
       "      <th>Path coefficient</th>\n",
       "      <td>0.656224</td>\n",
       "      <td>Path coefficients are standardized versions of...</td>\n",
       "      <td>https://en.wikipedia.org/wiki/Path_coefficient</td>\n",
       "    </tr>\n",
       "    <tr>\n",
       "      <th>Jaccard index</th>\n",
       "      <td>0.548367</td>\n",
       "      <td>The Jaccard index, also known as Intersection ...</td>\n",
       "      <td>https://en.wikipedia.org/wiki/Jaccard_index</td>\n",
       "    </tr>\n",
       "    <tr>\n",
       "      <th>Linear predictor function</th>\n",
       "      <td>0.494813</td>\n",
       "      <td>In statistics and in machine learning, a linea...</td>\n",
       "      <td>https://en.wikipedia.org/wiki/Linear_predictor...</td>\n",
       "    </tr>\n",
       "  </tbody>\n",
       "</table>\n",
       "</div>"
      ],
      "text/plain": [
       "                                     score  \\\n",
       "page_title                                   \n",
       "Matthews correlation coefficient  0.731489   \n",
       "Congruence coefficient            0.673572   \n",
       "Path coefficient                  0.656224   \n",
       "Jaccard index                     0.548367   \n",
       "Linear predictor function         0.494813   \n",
       "\n",
       "                                                                       page_summary  \\\n",
       "page_title                                                                            \n",
       "Matthews correlation coefficient  The Matthews correlation coefficient is used i...   \n",
       "Congruence coefficient            In multivariate statistics, the congruence coe...   \n",
       "Path coefficient                  Path coefficients are standardized versions of...   \n",
       "Jaccard index                     The Jaccard index, also known as Intersection ...   \n",
       "Linear predictor function         In statistics and in machine learning, a linea...   \n",
       "\n",
       "                                                                           page_url  \n",
       "page_title                                                                           \n",
       "Matthews correlation coefficient  https://en.wikipedia.org/wiki/Matthews_correla...  \n",
       "Congruence coefficient            https://en.wikipedia.org/wiki/Congruence_coeff...  \n",
       "Path coefficient                     https://en.wikipedia.org/wiki/Path_coefficient  \n",
       "Jaccard index                           https://en.wikipedia.org/wiki/Jaccard_index  \n",
       "Linear predictor function         https://en.wikipedia.org/wiki/Linear_predictor...  "
      ]
     },
     "execution_count": 18,
     "metadata": {},
     "output_type": "execute_result"
    }
   ],
   "source": [
    "wikipedia_search('coefficient')"
   ]
  },
  {
   "cell_type": "code",
   "execution_count": 19,
   "metadata": {},
   "outputs": [
    {
     "data": {
      "text/html": [
       "<div>\n",
       "<table border=\"1\" class=\"dataframe\">\n",
       "  <thead>\n",
       "    <tr style=\"text-align: right;\">\n",
       "      <th></th>\n",
       "      <th>score</th>\n",
       "      <th>page_summary</th>\n",
       "      <th>page_url</th>\n",
       "    </tr>\n",
       "    <tr>\n",
       "      <th>page_title</th>\n",
       "      <th></th>\n",
       "      <th></th>\n",
       "      <th></th>\n",
       "    </tr>\n",
       "  </thead>\n",
       "  <tbody>\n",
       "    <tr>\n",
       "      <th>Microsoft Visio</th>\n",
       "      <td>0.752705</td>\n",
       "      <td>Microsoft Visio ( VIZ-ee-oh) (formerly Microso...</td>\n",
       "      <td>https://en.wikipedia.org/wiki/Microsoft_Visio</td>\n",
       "    </tr>\n",
       "    <tr>\n",
       "      <th>Microsoft PhotoDraw</th>\n",
       "      <td>0.668129</td>\n",
       "      <td>Microsoft PhotoDraw 2000 is a discontinued vec...</td>\n",
       "      <td>https://en.wikipedia.org/wiki/Microsoft_PhotoDraw</td>\n",
       "    </tr>\n",
       "    <tr>\n",
       "      <th>Microsoft FrontPage</th>\n",
       "      <td>0.664720</td>\n",
       "      <td>Microsoft FrontPage (full name Microsoft Offic...</td>\n",
       "      <td>https://en.wikipedia.org/wiki/Microsoft_FrontPage</td>\n",
       "    </tr>\n",
       "    <tr>\n",
       "      <th>Microsoft FRx</th>\n",
       "      <td>0.659392</td>\n",
       "      <td>Microsoft FRx is a software product used for f...</td>\n",
       "      <td>https://en.wikipedia.org/wiki/Microsoft_FRx</td>\n",
       "    </tr>\n",
       "    <tr>\n",
       "      <th>Microsoft Office 3.0</th>\n",
       "      <td>0.657555</td>\n",
       "      <td>Microsoft Office 3.0 was the second major rele...</td>\n",
       "      <td>https://en.wikipedia.org/wiki/Microsoft_Office...</td>\n",
       "    </tr>\n",
       "  </tbody>\n",
       "</table>\n",
       "</div>"
      ],
      "text/plain": [
       "                         score  \\\n",
       "page_title                       \n",
       "Microsoft Visio       0.752705   \n",
       "Microsoft PhotoDraw   0.668129   \n",
       "Microsoft FrontPage   0.664720   \n",
       "Microsoft FRx         0.659392   \n",
       "Microsoft Office 3.0  0.657555   \n",
       "\n",
       "                                                           page_summary  \\\n",
       "page_title                                                                \n",
       "Microsoft Visio       Microsoft Visio ( VIZ-ee-oh) (formerly Microso...   \n",
       "Microsoft PhotoDraw   Microsoft PhotoDraw 2000 is a discontinued vec...   \n",
       "Microsoft FrontPage   Microsoft FrontPage (full name Microsoft Offic...   \n",
       "Microsoft FRx         Microsoft FRx is a software product used for f...   \n",
       "Microsoft Office 3.0  Microsoft Office 3.0 was the second major rele...   \n",
       "\n",
       "                                                               page_url  \n",
       "page_title                                                               \n",
       "Microsoft Visio           https://en.wikipedia.org/wiki/Microsoft_Visio  \n",
       "Microsoft PhotoDraw   https://en.wikipedia.org/wiki/Microsoft_PhotoDraw  \n",
       "Microsoft FrontPage   https://en.wikipedia.org/wiki/Microsoft_FrontPage  \n",
       "Microsoft FRx               https://en.wikipedia.org/wiki/Microsoft_FRx  \n",
       "Microsoft Office 3.0  https://en.wikipedia.org/wiki/Microsoft_Office...  "
      ]
     },
     "execution_count": 19,
     "metadata": {},
     "output_type": "execute_result"
    }
   ],
   "source": [
    "wikipedia_search('Microsoft')"
   ]
  },
  {
   "cell_type": "code",
   "execution_count": null,
   "metadata": {
    "collapsed": true
   },
   "outputs": [],
   "source": []
  }
 ],
 "metadata": {
  "kernelspec": {
   "display_name": "Python 3",
   "language": "python",
   "name": "python3"
  },
  "language_info": {
   "codemirror_mode": {
    "name": "ipython",
    "version": 3
   },
   "file_extension": ".py",
   "mimetype": "text/x-python",
   "name": "python",
   "nbconvert_exporter": "python",
   "pygments_lexer": "ipython3",
   "version": "3.5.2"
  }
 },
 "nbformat": 4,
 "nbformat_minor": 2
}
