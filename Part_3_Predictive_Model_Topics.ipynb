{
 "cells": [
  {
   "cell_type": "code",
   "execution_count": 1,
   "metadata": {
    "collapsed": true
   },
   "outputs": [],
   "source": [
    "from sklearn.externals import joblib\n",
    "import matplotlib.pyplot as plt\n",
    "import numpy as np\n",
    "import pandas as pd\n",
    "import seaborn as sns\n",
    "\n",
    "%matplotlib inline"
   ]
  },
  {
   "cell_type": "markdown",
   "metadata": {},
   "source": [
    "## LSA for topic analysis\n",
    "\n",
    "Since we did everything prior with LSA, we'll continue that here. Latent Semantic Analysis is a technique for creating a vector representation of a document. Having a vector representation of a document gives you a way to compare documents for their similarity by calculating the distance between the vectors. This in turn means you can do handy things like classifying documents to determine which of a set of known topics they most likely belong to."
   ]
  },
  {
   "cell_type": "markdown",
   "metadata": {},
   "source": [
    "### Load TFDIF Vectorizer and Document Term Matrix from previous notebook"
   ]
  },
  {
   "cell_type": "code",
   "execution_count": 2,
   "metadata": {
    "collapsed": true
   },
   "outputs": [],
   "source": [
    "tfidf_vectorizer = joblib.load('pickled_files/tfidf_vectorizer')\n",
    "document_term_matrix_sps = joblib.load('pickled_files/document_term_matrix_sps')\n",
    "df = joblib.load('pickled_files/df')"
   ]
  },
  {
   "cell_type": "code",
   "execution_count": 3,
   "metadata": {
    "collapsed": true
   },
   "outputs": [],
   "source": [
    "document_term_matrix_df = pd.DataFrame(document_term_matrix_sps.toarray(),\n",
    "                                       index=df.index,\n",
    "                                       columns=tfidf_vectorizer.get_feature_names())"
   ]
  },
  {
   "cell_type": "markdown",
   "metadata": {},
   "source": [
    "### Compute SVD of Document Term Matrix\n",
    "\n",
    "$$\\text{Latent Semantic Analysis} = \\text{Document Term Matrix} + \\text{SVD}$$"
   ]
  },
  {
   "cell_type": "code",
   "execution_count": 4,
   "metadata": {
    "collapsed": true
   },
   "outputs": [],
   "source": [
    "from sklearn.decomposition import TruncatedSVD"
   ]
  },
  {
   "cell_type": "code",
   "execution_count": 5,
   "metadata": {
    "collapsed": true
   },
   "outputs": [],
   "source": [
    "n_components=1000\n",
    "SVD = TruncatedSVD(n_components)\n",
    "component_names = [\"component_\"+str(i+1) for i in range(n_components)]"
   ]
  },
  {
   "cell_type": "code",
   "execution_count": 6,
   "metadata": {
    "collapsed": true
   },
   "outputs": [],
   "source": [
    "svd_matrix = SVD.fit_transform(document_term_matrix_sps)"
   ]
  },
  {
   "cell_type": "code",
   "execution_count": 7,
   "metadata": {},
   "outputs": [
    {
     "data": {
      "text/plain": [
       "0.62928377267739088"
      ]
     },
     "execution_count": 7,
     "metadata": {},
     "output_type": "execute_result"
    }
   ],
   "source": [
    "sum(SVD.explained_variance_ratio_)"
   ]
  },
  {
   "cell_type": "code",
   "execution_count": 8,
   "metadata": {},
   "outputs": [
    {
     "data": {
      "text/plain": [
       "<matplotlib.legend.Legend at 0x7f503445f908>"
      ]
     },
     "execution_count": 8,
     "metadata": {},
     "output_type": "execute_result"
    },
    {
     "data": {
      "image/png": "[encoded data removed]",
      "text/plain": [
       "<matplotlib.figure.Figure at 0x7f503445f9b0>"
      ]
     },
     "metadata": {},
     "output_type": "display_data"
    }
   ],
   "source": [
    "plt.plot(range(1000), np.cumsum(SVD.explained_variance_ratio_), label='cumulative explained variance')\n",
    "plt.legend()"
   ]
  },
  {
   "cell_type": "code",
   "execution_count": 10,
   "metadata": {},
   "outputs": [
    {
     "data": {
      "text/plain": [
       "(6409, 1000)"
      ]
     },
     "execution_count": 10,
     "metadata": {},
     "output_type": "execute_result"
    }
   ],
   "source": [
    "svd_matrix.shape"
   ]
  },
  {
   "cell_type": "code",
   "execution_count": 11,
   "metadata": {},
   "outputs": [
    {
     "data": {
      "text/plain": [
       "(6409, 28073)"
      ]
     },
     "execution_count": 11,
     "metadata": {},
     "output_type": "execute_result"
    }
   ],
   "source": [
    "document_term_matrix_df.shape"
   ]
  },
  {
   "cell_type": "markdown",
   "metadata": {},
   "source": [
    "### Load SVD Matrix with Documents and Labels - LSA components\n",
    "\n",
    "We could"
   ]
  },
  {
   "cell_type": "code",
   "execution_count": 12,
   "metadata": {
    "collapsed": true
   },
   "outputs": [],
   "source": [
    "vocabulary_expression = pd.DataFrame(SVD.components_,\n",
    "                                     index=component_names,\n",
    "                                     columns=tfidf_vectorizer.get_feature_names()).T"
   ]
  },
  {
   "cell_type": "code",
   "execution_count": 13,
   "metadata": {},
   "outputs": [
    {
     "data": {
      "text/html": [
       "<div>\n",
       "<table border=\"1\" class=\"dataframe\">\n",
       "  <thead>\n",
       "    <tr style=\"text-align: right;\">\n",
       "      <th></th>\n",
       "      <th>component_1</th>\n",
       "      <th>component_2</th>\n",
       "      <th>component_3</th>\n",
       "      <th>component_4</th>\n",
       "      <th>component_5</th>\n",
       "      <th>component_6</th>\n",
       "      <th>component_7</th>\n",
       "      <th>component_8</th>\n",
       "      <th>component_9</th>\n",
       "      <th>component_10</th>\n",
       "      <th>...</th>\n",
       "      <th>component_991</th>\n",
       "      <th>component_992</th>\n",
       "      <th>component_993</th>\n",
       "      <th>component_994</th>\n",
       "      <th>component_995</th>\n",
       "      <th>component_996</th>\n",
       "      <th>component_997</th>\n",
       "      <th>component_998</th>\n",
       "      <th>component_999</th>\n",
       "      <th>component_1000</th>\n",
       "    </tr>\n",
       "  </thead>\n",
       "  <tbody>\n",
       "    <tr>\n",
       "      <th>aa</th>\n",
       "      <td>0.000231</td>\n",
       "      <td>0.000857</td>\n",
       "      <td>-0.000053</td>\n",
       "      <td>0.000205</td>\n",
       "      <td>0.000463</td>\n",
       "      <td>0.000184</td>\n",
       "      <td>-0.001229</td>\n",
       "      <td>0.000302</td>\n",
       "      <td>0.000525</td>\n",
       "      <td>0.000795</td>\n",
       "      <td>...</td>\n",
       "      <td>-0.000086</td>\n",
       "      <td>0.000599</td>\n",
       "      <td>-0.000168</td>\n",
       "      <td>0.002515</td>\n",
       "      <td>-0.000910</td>\n",
       "      <td>0.002887</td>\n",
       "      <td>-0.001374</td>\n",
       "      <td>0.002252</td>\n",
       "      <td>-0.001557</td>\n",
       "      <td>0.001246</td>\n",
       "    </tr>\n",
       "    <tr>\n",
       "      <th>aaai</th>\n",
       "      <td>0.000770</td>\n",
       "      <td>0.001408</td>\n",
       "      <td>-0.000160</td>\n",
       "      <td>0.000637</td>\n",
       "      <td>-0.000067</td>\n",
       "      <td>-0.000233</td>\n",
       "      <td>0.000391</td>\n",
       "      <td>-0.000635</td>\n",
       "      <td>-0.001097</td>\n",
       "      <td>-0.002026</td>\n",
       "      <td>...</td>\n",
       "      <td>-0.012845</td>\n",
       "      <td>-0.004886</td>\n",
       "      <td>-0.000629</td>\n",
       "      <td>-0.006658</td>\n",
       "      <td>-0.009890</td>\n",
       "      <td>0.006494</td>\n",
       "      <td>0.005248</td>\n",
       "      <td>-0.010542</td>\n",
       "      <td>0.009644</td>\n",
       "      <td>0.007457</td>\n",
       "    </tr>\n",
       "    <tr>\n",
       "      <th>aaccount</th>\n",
       "      <td>0.000124</td>\n",
       "      <td>-0.000097</td>\n",
       "      <td>-0.000024</td>\n",
       "      <td>0.000065</td>\n",
       "      <td>-0.000071</td>\n",
       "      <td>0.000053</td>\n",
       "      <td>-0.000007</td>\n",
       "      <td>-0.000316</td>\n",
       "      <td>-0.000606</td>\n",
       "      <td>0.000047</td>\n",
       "      <td>...</td>\n",
       "      <td>0.001905</td>\n",
       "      <td>-0.000025</td>\n",
       "      <td>0.000952</td>\n",
       "      <td>-0.002675</td>\n",
       "      <td>0.001545</td>\n",
       "      <td>0.001681</td>\n",
       "      <td>0.000541</td>\n",
       "      <td>0.003648</td>\n",
       "      <td>0.001395</td>\n",
       "      <td>-0.003791</td>\n",
       "    </tr>\n",
       "    <tr>\n",
       "      <th>aachen</th>\n",
       "      <td>0.000113</td>\n",
       "      <td>0.000353</td>\n",
       "      <td>0.000031</td>\n",
       "      <td>0.000042</td>\n",
       "      <td>-0.000009</td>\n",
       "      <td>0.000030</td>\n",
       "      <td>0.000066</td>\n",
       "      <td>0.000008</td>\n",
       "      <td>-0.000304</td>\n",
       "      <td>-0.000623</td>\n",
       "      <td>...</td>\n",
       "      <td>0.001996</td>\n",
       "      <td>0.000497</td>\n",
       "      <td>0.001426</td>\n",
       "      <td>-0.001372</td>\n",
       "      <td>0.000665</td>\n",
       "      <td>-0.000361</td>\n",
       "      <td>-0.000486</td>\n",
       "      <td>0.001038</td>\n",
       "      <td>-0.002214</td>\n",
       "      <td>0.000983</td>\n",
       "    </tr>\n",
       "    <tr>\n",
       "      <th>aaction</th>\n",
       "      <td>0.000190</td>\n",
       "      <td>-0.000122</td>\n",
       "      <td>0.000520</td>\n",
       "      <td>0.002539</td>\n",
       "      <td>-0.001128</td>\n",
       "      <td>-0.001038</td>\n",
       "      <td>0.000274</td>\n",
       "      <td>0.000471</td>\n",
       "      <td>-0.000158</td>\n",
       "      <td>0.000181</td>\n",
       "      <td>...</td>\n",
       "      <td>-0.002793</td>\n",
       "      <td>0.001761</td>\n",
       "      <td>-0.000130</td>\n",
       "      <td>-0.001589</td>\n",
       "      <td>0.002500</td>\n",
       "      <td>0.003471</td>\n",
       "      <td>-0.000896</td>\n",
       "      <td>-0.000973</td>\n",
       "      <td>-0.001092</td>\n",
       "      <td>-0.000530</td>\n",
       "    </tr>\n",
       "  </tbody>\n",
       "</table>\n",
       "<p>5 rows × 1000 columns</p>\n",
       "</div>"
      ],
      "text/plain": [
       "          component_1  component_2  component_3  component_4  component_5  \\\n",
       "aa           0.000231     0.000857    -0.000053     0.000205     0.000463   \n",
       "aaai         0.000770     0.001408    -0.000160     0.000637    -0.000067   \n",
       "aaccount     0.000124    -0.000097    -0.000024     0.000065    -0.000071   \n",
       "aachen       0.000113     0.000353     0.000031     0.000042    -0.000009   \n",
       "aaction      0.000190    -0.000122     0.000520     0.002539    -0.001128   \n",
       "\n",
       "          component_6  component_7  component_8  component_9  component_10  \\\n",
       "aa           0.000184    -0.001229     0.000302     0.000525      0.000795   \n",
       "aaai        -0.000233     0.000391    -0.000635    -0.001097     -0.002026   \n",
       "aaccount     0.000053    -0.000007    -0.000316    -0.000606      0.000047   \n",
       "aachen       0.000030     0.000066     0.000008    -0.000304     -0.000623   \n",
       "aaction     -0.001038     0.000274     0.000471    -0.000158      0.000181   \n",
       "\n",
       "               ...        component_991  component_992  component_993  \\\n",
       "aa             ...            -0.000086       0.000599      -0.000168   \n",
       "aaai           ...            -0.012845      -0.004886      -0.000629   \n",
       "aaccount       ...             0.001905      -0.000025       0.000952   \n",
       "aachen         ...             0.001996       0.000497       0.001426   \n",
       "aaction        ...            -0.002793       0.001761      -0.000130   \n",
       "\n",
       "          component_994  component_995  component_996  component_997  \\\n",
       "aa             0.002515      -0.000910       0.002887      -0.001374   \n",
       "aaai          -0.006658      -0.009890       0.006494       0.005248   \n",
       "aaccount      -0.002675       0.001545       0.001681       0.000541   \n",
       "aachen        -0.001372       0.000665      -0.000361      -0.000486   \n",
       "aaction       -0.001589       0.002500       0.003471      -0.000896   \n",
       "\n",
       "          component_998  component_999  component_1000  \n",
       "aa             0.002252      -0.001557        0.001246  \n",
       "aaai          -0.010542       0.009644        0.007457  \n",
       "aaccount       0.003648       0.001395       -0.003791  \n",
       "aachen         0.001038      -0.002214        0.000983  \n",
       "aaction       -0.000973      -0.001092       -0.000530  \n",
       "\n",
       "[5 rows x 1000 columns]"
      ]
     },
     "execution_count": 13,
     "metadata": {},
     "output_type": "execute_result"
    }
   ],
   "source": [
    "vocabulary_expression.head()"
   ]
  },
  {
   "cell_type": "markdown",
   "metadata": {},
   "source": [
    "##### Component 1\n",
    "\n",
    "Looking at component 1, this looks like this would belong under the category of \"business software\""
   ]
  },
  {
   "cell_type": "code",
   "execution_count": 14,
   "metadata": {},
   "outputs": [
    {
     "data": {
      "text/html": [
       "<div>\n",
       "<table border=\"1\" class=\"dataframe\">\n",
       "  <thead>\n",
       "    <tr style=\"text-align: right;\">\n",
       "      <th></th>\n",
       "      <th>component_1</th>\n",
       "    </tr>\n",
       "  </thead>\n",
       "  <tbody>\n",
       "    <tr>\n",
       "      <th>software</th>\n",
       "      <td>0.292957</td>\n",
       "    </tr>\n",
       "    <tr>\n",
       "      <th>management</th>\n",
       "      <td>0.200806</td>\n",
       "    </tr>\n",
       "    <tr>\n",
       "      <th>microsoft</th>\n",
       "      <td>0.184565</td>\n",
       "    </tr>\n",
       "    <tr>\n",
       "      <th>application</th>\n",
       "      <td>0.148182</td>\n",
       "    </tr>\n",
       "    <tr>\n",
       "      <th>project</th>\n",
       "      <td>0.146150</td>\n",
       "    </tr>\n",
       "    <tr>\n",
       "      <th>office</th>\n",
       "      <td>0.144658</td>\n",
       "    </tr>\n",
       "    <tr>\n",
       "      <th>company</th>\n",
       "      <td>0.133866</td>\n",
       "    </tr>\n",
       "    <tr>\n",
       "      <th>business</th>\n",
       "      <td>0.122088</td>\n",
       "    </tr>\n",
       "    <tr>\n",
       "      <th>open</th>\n",
       "      <td>0.121182</td>\n",
       "    </tr>\n",
       "    <tr>\n",
       "      <th>service</th>\n",
       "      <td>0.114093</td>\n",
       "    </tr>\n",
       "  </tbody>\n",
       "</table>\n",
       "</div>"
      ],
      "text/plain": [
       "             component_1\n",
       "software        0.292957\n",
       "management      0.200806\n",
       "microsoft       0.184565\n",
       "application     0.148182\n",
       "project         0.146150\n",
       "office          0.144658\n",
       "company         0.133866\n",
       "business        0.122088\n",
       "open            0.121182\n",
       "service         0.114093"
      ]
     },
     "execution_count": 14,
     "metadata": {},
     "output_type": "execute_result"
    }
   ],
   "source": [
    "vocabulary_expression[['component_1']].sort_values('component_1',ascending=False).head(10)"
   ]
  },
  {
   "cell_type": "code",
   "execution_count": 15,
   "metadata": {},
   "outputs": [
    {
     "data": {
      "text/plain": [
       "<matplotlib.axes._subplots.AxesSubplot at 0x7f5033fa74e0>"
      ]
     },
     "execution_count": 15,
     "metadata": {},
     "output_type": "execute_result"
    },
    {
     "data": {
      "image/png": "[encoded data removed]",
      "text/plain": [
       "<matplotlib.figure.Figure at 0x7f5033fc3d30>"
      ]
     },
     "metadata": {},
     "output_type": "display_data"
    }
   ],
   "source": [
    "svd_1_zip = zip(tfidf_vectorizer.get_feature_names(), SVD.components_[0,:])\n",
    "svd_1_list = list(svd_1_zip)\n",
    "svd_1_list.sort(key = lambda x: abs(x[1]), reverse=True)\n",
    "comp_1 = pd.DataFrame(svd_1_list[:30])\n",
    "comp_1.set_index(0, inplace=True)\n",
    "comp_1.plot(kind='bar', figsize=(12,6),fontsize=15)"
   ]
  },
  {
   "cell_type": "markdown",
   "metadata": {},
   "source": [
    "##### Component 2\n",
    "\n",
    "Looking at component 2, this looks like this would belong under the category of \"machine learning\". The values that are negative look like they are words that a related to business software. For example, you look at the words like \"Microsoft\", \"Software\", \"Office\" and \"Management\", they are all negative values in this component. While all the other words that are positive are words that are related to machine learning such as \"neural network\" or \"model.\""
   ]
  },
  {
   "cell_type": "code",
   "execution_count": 16,
   "metadata": {},
   "outputs": [
    {
     "data": {
      "text/html": [
       "<div>\n",
       "<table border=\"1\" class=\"dataframe\">\n",
       "  <thead>\n",
       "    <tr style=\"text-align: right;\">\n",
       "      <th></th>\n",
       "      <th>component_2</th>\n",
       "    </tr>\n",
       "  </thead>\n",
       "  <tbody>\n",
       "    <tr>\n",
       "      <th>network</th>\n",
       "      <td>0.307572</td>\n",
       "    </tr>\n",
       "    <tr>\n",
       "      <th>neural</th>\n",
       "      <td>0.251222</td>\n",
       "    </tr>\n",
       "    <tr>\n",
       "      <th>model</th>\n",
       "      <td>0.242667</td>\n",
       "    </tr>\n",
       "    <tr>\n",
       "      <th>algorithm</th>\n",
       "      <td>0.242009</td>\n",
       "    </tr>\n",
       "    <tr>\n",
       "      <th>learn</th>\n",
       "      <td>0.204267</td>\n",
       "    </tr>\n",
       "    <tr>\n",
       "      <th>learning</th>\n",
       "      <td>0.196509</td>\n",
       "    </tr>\n",
       "    <tr>\n",
       "      <th>machine</th>\n",
       "      <td>0.182446</td>\n",
       "    </tr>\n",
       "    <tr>\n",
       "      <th>function</th>\n",
       "      <td>0.128517</td>\n",
       "    </tr>\n",
       "    <tr>\n",
       "      <th>artificial</th>\n",
       "      <td>0.118100</td>\n",
       "    </tr>\n",
       "    <tr>\n",
       "      <th>variable</th>\n",
       "      <td>0.109969</td>\n",
       "    </tr>\n",
       "  </tbody>\n",
       "</table>\n",
       "</div>"
      ],
      "text/plain": [
       "            component_2\n",
       "network        0.307572\n",
       "neural         0.251222\n",
       "model          0.242667\n",
       "algorithm      0.242009\n",
       "learn          0.204267\n",
       "learning       0.196509\n",
       "machine        0.182446\n",
       "function       0.128517\n",
       "artificial     0.118100\n",
       "variable       0.109969"
      ]
     },
     "execution_count": 16,
     "metadata": {},
     "output_type": "execute_result"
    }
   ],
   "source": [
    "vocabulary_expression[['component_2']].sort_values('component_2',ascending=False).head(10)"
   ]
  },
  {
   "cell_type": "code",
   "execution_count": 17,
   "metadata": {},
   "outputs": [
    {
     "data": {
      "text/plain": [
       "<matplotlib.axes._subplots.AxesSubplot at 0x7f5033fa70f0>"
      ]
     },
     "execution_count": 17,
     "metadata": {},
     "output_type": "execute_result"
    },
    {
     "data": {
      "image/png": "[encoded data removed]",
      "text/plain": [
       "<matplotlib.figure.Figure at 0x7f5034315cc0>"
      ]
     },
     "metadata": {},
     "output_type": "display_data"
    }
   ],
   "source": [
    "svd_2_zip = zip(tfidf_vectorizer.get_feature_names(), SVD.components_[1,:])\n",
    "svd_2_list = list(svd_2_zip)\n",
    "svd_2_list.sort(key = lambda x: abs(x[1]), reverse=True)\n",
    "comp_2 = pd.DataFrame(svd_2_list[:30])\n",
    "comp_2.set_index(0, inplace=True)\n",
    "comp_2.plot(kind='bar', figsize=(12,6),fontsize=15)"
   ]
  },
  {
   "cell_type": "markdown",
   "metadata": {},
   "source": [
    "##### Subplots of components\n",
    "\n",
    "To take a look at a few of these other components to see some other patterns within the other components."
   ]
  },
  {
   "cell_type": "code",
   "execution_count": 18,
   "metadata": {
    "collapsed": true
   },
   "outputs": [],
   "source": [
    "svd_1_zip = zip(tfidf_vectorizer.get_feature_names(), SVD.components_[0,:])\n",
    "svd_1_list = list(svd_1_zip)\n",
    "svd_1_list.sort(key = lambda x: abs(x[1]), reverse=True)\n",
    "comp_1 = pd.DataFrame(svd_1_list[:10])\n",
    "comp_1.set_index(0, inplace=True)\n",
    "\n",
    "svd_2_zip = zip(tfidf_vectorizer.get_feature_names(), SVD.components_[1,:])\n",
    "svd_2_list = list(svd_2_zip)\n",
    "svd_2_list.sort(key = lambda x: abs(x[1]), reverse=True)\n",
    "comp_2 = pd.DataFrame(svd_2_list[:10])\n",
    "comp_2.set_index(0, inplace=True)\n",
    "\n",
    "svd_3_zip = zip(tfidf_vectorizer.get_feature_names(), SVD.components_[2,:])\n",
    "svd_3_list = list(svd_3_zip)\n",
    "svd_3_list.sort(key = lambda x: abs(x[1]), reverse=True)\n",
    "comp_3 = pd.DataFrame(svd_3_list[:10])\n",
    "comp_3.set_index(0, inplace=True)\n",
    "\n",
    "svd_4_zip = zip(tfidf_vectorizer.get_feature_names(), SVD.components_[3,:])\n",
    "svd_4_list = list(svd_4_zip)\n",
    "svd_4_list.sort(key = lambda x: abs(x[1]), reverse=True)\n",
    "comp_4 = pd.DataFrame(svd_4_list[:10])\n",
    "comp_4.set_index(0, inplace=True)\n",
    "\n",
    "svd_5_zip = zip(tfidf_vectorizer.get_feature_names(), SVD.components_[4,:])\n",
    "svd_5_list = list(svd_5_zip)\n",
    "svd_5_list.sort(key = lambda x: abs(x[1]), reverse=True)\n",
    "comp_5 = pd.DataFrame(svd_5_list[:10])\n",
    "comp_5.set_index(0, inplace=True)\n",
    "\n",
    "svd_6_zip = zip(tfidf_vectorizer.get_feature_names(), SVD.components_[5,:])\n",
    "svd_6_list = list(svd_6_zip)\n",
    "svd_6_list.sort(key = lambda x: abs(x[1]), reverse=True)\n",
    "comp_6 = pd.DataFrame(svd_6_list[:10])\n",
    "comp_6.set_index(0, inplace=True)\n"
   ]
  },
  {
   "cell_type": "code",
   "execution_count": 19,
   "metadata": {},
   "outputs": [
    {
     "data": {
      "image/png": "[encoded data removed]",
      "text/plain": [
       "<matplotlib.figure.Figure at 0x7f4fd7de98d0>"
      ]
     },
     "metadata": {},
     "output_type": "display_data"
    }
   ],
   "source": [
    "fig, ax = plt.subplots(figsize=(18,15), ncols=3, nrows=2)\n",
    "\n",
    "left   =  0  \n",
    "right  =  1.5   \n",
    "bottom =  0    \n",
    "top    =  1.5    \n",
    "wspace =  0.2   \n",
    "hspace =  0.2    \n",
    "\n",
    "plt.subplots_adjust(\n",
    "    left    =  left, \n",
    "    bottom  =  bottom, \n",
    "    right   =  right, \n",
    "    top     =  top, \n",
    "    wspace  =  wspace, \n",
    "    hspace  =  hspace\n",
    ")\n",
    "\n",
    "y_title_margin = 0.9\n",
    "\n",
    "ax[0][0].set_title(\"Component_1\", y = y_title_margin, fontsize=25)\n",
    "ax[0][1].set_title(\"Component_2\", y = y_title_margin, fontsize=25)\n",
    "ax[0][2].set_title(\"Component_3\", y = y_title_margin, fontsize=25)\n",
    "\n",
    "comp_1.plot(kind='bar', fontsize=25, ax=ax[0][0])\n",
    "comp_2.plot(kind='bar', fontsize=25, ax=ax[0][1])\n",
    "comp_2.plot(kind='bar', fontsize=25, ax=ax[0][2])\n",
    "\n",
    "ax[1][0].set_title(\"Component_4\", y = y_title_margin, fontsize=25)\n",
    "ax[1][1].set_title(\"Component_5\", y = y_title_margin, fontsize=25)\n",
    "ax[1][2].set_title(\"Component_6\", y = y_title_margin, fontsize=25)\n",
    "\n",
    "comp_4.plot(kind='bar', fontsize=25, ax=ax[1][0])\n",
    "comp_5.plot(kind='bar', fontsize=25, ax=ax[1][1])\n",
    "comp_6.plot(kind='bar', fontsize=25, ax=ax[1][2])\n",
    "\n",
    "plt.show()"
   ]
  },
  {
   "cell_type": "markdown",
   "metadata": {},
   "source": [
    "Based on the diagrams above, it looks like the components could fall under the following topics (these are my guesses):\n",
    "\n",
    "    Component_1 = Business Software\n",
    "    Component_2 = Machine Learning\n",
    "    Component_3 = Machine Learning\n",
    "    Component_4 = Business Video Game\n",
    "    Component_5 = Healthcare Software\n",
    "    Component_6 = Business Software"
   ]
  },
  {
   "cell_type": "markdown",
   "metadata": {
    "collapsed": true
   },
   "source": [
    "LSA grouped the words into components where the words are most likely to appear together in any given document. Isn't exactly topic analysis (that is for LDA that is below) or allows us to absolutely determine categories but it gives us a pretty good approximation for possible topics/categories"
   ]
  },
  {
   "cell_type": "markdown",
   "metadata": {},
   "source": [
    "## Latent Dirichlet Analysis\n",
    "\n",
    "Another way that we could analyze topics is to use LDA which stands for Latent Dirichlet Analysis. In LDA, the result of the topics are not assumed to be orthagonal such as in LSA (SVD). The Dirichlet distribution allows us to specify our prior beliefs about what data is likely to occur. This is Bayesian learning problem that generates a distribution based on paramters of prior beliefs. This model will usually generalize better than LSA and so people often will utilize LDA in order to perform topic modeling."
   ]
  },
  {
   "cell_type": "markdown",
   "metadata": {},
   "source": [
    "![LDA](https://git.generalassemb.ly/raw/michaelkim9/semantic_search/master/other_assets/lda.png)"
   ]
  },
  {
   "cell_type": "markdown",
   "metadata": {},
   "source": [
    "LDA requires data in the form of integer counts as it gives you weight per word. So modifying feature values using TF-IDF and then using with LDA doesn't really fit in. So we'll need to create another document term matrix with the count vectorizer instead\n",
    "\n",
    "### Term Document Matrix - CountVectorizer with LDA"
   ]
  },
  {
   "cell_type": "code",
   "execution_count": 20,
   "metadata": {
    "collapsed": true
   },
   "outputs": [],
   "source": [
    "from spacy.en import STOP_WORDS\n",
    "from sklearn.decomposition import LatentDirichletAllocation\n",
    "from sklearn.feature_extraction.text import CountVectorizer\n",
    "import pandas as pd"
   ]
  },
  {
   "cell_type": "code",
   "execution_count": 21,
   "metadata": {
    "collapsed": true
   },
   "outputs": [],
   "source": [
    "vectorizer = CountVectorizer(min_df=2, stop_words=STOP_WORDS)\n",
    "X = vectorizer.fit_transform(df['clean_text'])"
   ]
  },
  {
   "cell_type": "code",
   "execution_count": 22,
   "metadata": {
    "collapsed": true
   },
   "outputs": [],
   "source": [
    "lda   = LatentDirichletAllocation(n_topics=10, learning_method=\"batch\", random_state=42)\n",
    "model = lda.fit(X)"
   ]
  },
  {
   "cell_type": "code",
   "execution_count": 23,
   "metadata": {},
   "outputs": [
    {
     "data": {
      "image/png": "[encoded data removed]",
      "text/plain": [
       "<matplotlib.figure.Figure at 0x7f506819e898>"
      ]
     },
     "metadata": {},
     "output_type": "display_data"
    }
   ],
   "source": [
    "import matplotlib.pyplot as plt\n",
    "import seaborn as sns\n",
    "import numpy as np\n",
    "\n",
    "%matplotlib inline\n",
    "\n",
    "def display_topics(model, feature_names, no_words = 10, plot = False, plot_dim=(5,2)):\n",
    "    topics_tokens = []\n",
    "    for topic_idx, topic in enumerate(model.components_):\n",
    "        topic = zip(feature_names, topic)\n",
    "        topic = sorted(topic, key=lambda pair: pair[1])\n",
    "        topic_words = [(token, counts) for token, counts in topic[:-no_words - 1:-1]]\n",
    "        topics_tokens.append(topic_words)\n",
    "        \n",
    "        if not plot:\n",
    "            print (\"Topic %d:\" % (topic_idx))\n",
    "            print (topic_words)\n",
    "        \n",
    "    if plot:\n",
    "        plot_matrix = np.arange(10).reshape(5,2)\n",
    "        fig, ax = plt.subplots(figsize=(10, 12), nrows=5, ncols=2)\n",
    "        topics = [{key: value for key, value in topic} for topic in topics_tokens]\n",
    "        row = 0\n",
    "        \n",
    "        for topic_id, topic in enumerate(topics):\n",
    "            column = (0 if topic_id % 2 == 0 else 1)\n",
    "            chart = pd.DataFrame([topic]).iloc[0].sort_values(axis=0)\n",
    "            chart.plot(kind=\"barh\", title=\"Topic %d\" % topic_id, ax=ax[row, column])\n",
    "                \n",
    "            row += 1 if column == 1 else 0\n",
    "        \n",
    "        plt.tight_layout()\n",
    "            \n",
    "\n",
    "display_topics(model, vectorizer.get_feature_names(), no_words=10, plot=True)"
   ]
  },
  {
   "cell_type": "markdown",
   "metadata": {},
   "source": [
    "And we have several groups of topics as we see above! From the word counts, we could get a pretty good idea of what each of these topics are. Below are my guesses as to what the topics might be.\n",
    "\n",
    "    Topic 0: Enterprise Business System\n",
    "    Topic 1: Healthcare Software\n",
    "    Topic 2: Business Software\n",
    "    Topic 3: Business Software\n",
    "    Topic 4: Microsoft Office Software\n",
    "    Topic 5: Video Game Software\n",
    "    Topic 6: Web/Wiki Software\n",
    "    Topic 7: Neural Networks\n",
    "    Topic 8: Business Software\n",
    "    Topic 9: Machine Learning\n",
    "\n",
    "It looks like more of the topics were related to business software. This makes sense since most of our PostGres database included documents that were mostly about business software."
   ]
  },
  {
   "cell_type": "markdown",
   "metadata": {},
   "source": [
    "### Topic Document Matrix\n",
    "\n",
    "Below we're going to create a Topic Document matrix in order to do some additional EDA on these topics.\n",
    "\n",
    "![top_doc_matrix](https://git.generalassemb.ly/raw/michaelkim9/semantic_search/master/other_assets/top_doc_matrix.png)"
   ]
  },
  {
   "cell_type": "code",
   "execution_count": 24,
   "metadata": {},
   "outputs": [
    {
     "data": {
      "text/html": [
       "<div>\n",
       "<table border=\"1\" class=\"dataframe\">\n",
       "  <thead>\n",
       "    <tr style=\"text-align: right;\">\n",
       "      <th></th>\n",
       "      <th>topic 0</th>\n",
       "      <th>topic 1</th>\n",
       "      <th>topic 2</th>\n",
       "      <th>topic 3</th>\n",
       "      <th>topic 4</th>\n",
       "      <th>topic 5</th>\n",
       "      <th>topic 6</th>\n",
       "      <th>topic 7</th>\n",
       "      <th>topic 8</th>\n",
       "      <th>topic 9</th>\n",
       "    </tr>\n",
       "  </thead>\n",
       "  <tbody>\n",
       "    <tr>\n",
       "      <th>0</th>\n",
       "      <td>0.000547</td>\n",
       "      <td>0.000547</td>\n",
       "      <td>0.000547</td>\n",
       "      <td>0.139373</td>\n",
       "      <td>0.043137</td>\n",
       "      <td>0.000547</td>\n",
       "      <td>0.079267</td>\n",
       "      <td>0.000547</td>\n",
       "      <td>0.000547</td>\n",
       "      <td>0.734944</td>\n",
       "    </tr>\n",
       "    <tr>\n",
       "      <th>1</th>\n",
       "      <td>0.001235</td>\n",
       "      <td>0.001235</td>\n",
       "      <td>0.001235</td>\n",
       "      <td>0.001235</td>\n",
       "      <td>0.001235</td>\n",
       "      <td>0.001235</td>\n",
       "      <td>0.131174</td>\n",
       "      <td>0.001235</td>\n",
       "      <td>0.001235</td>\n",
       "      <td>0.858948</td>\n",
       "    </tr>\n",
       "    <tr>\n",
       "      <th>2</th>\n",
       "      <td>0.000500</td>\n",
       "      <td>0.000500</td>\n",
       "      <td>0.000500</td>\n",
       "      <td>0.000500</td>\n",
       "      <td>0.049033</td>\n",
       "      <td>0.000500</td>\n",
       "      <td>0.000500</td>\n",
       "      <td>0.000500</td>\n",
       "      <td>0.000500</td>\n",
       "      <td>0.946966</td>\n",
       "    </tr>\n",
       "    <tr>\n",
       "      <th>3</th>\n",
       "      <td>0.001493</td>\n",
       "      <td>0.001493</td>\n",
       "      <td>0.001493</td>\n",
       "      <td>0.001493</td>\n",
       "      <td>0.001493</td>\n",
       "      <td>0.001493</td>\n",
       "      <td>0.001493</td>\n",
       "      <td>0.123260</td>\n",
       "      <td>0.001493</td>\n",
       "      <td>0.864798</td>\n",
       "    </tr>\n",
       "    <tr>\n",
       "      <th>4</th>\n",
       "      <td>0.002326</td>\n",
       "      <td>0.002326</td>\n",
       "      <td>0.002326</td>\n",
       "      <td>0.002326</td>\n",
       "      <td>0.002326</td>\n",
       "      <td>0.002326</td>\n",
       "      <td>0.002326</td>\n",
       "      <td>0.121319</td>\n",
       "      <td>0.002326</td>\n",
       "      <td>0.860075</td>\n",
       "    </tr>\n",
       "  </tbody>\n",
       "</table>\n",
       "</div>"
      ],
      "text/plain": [
       "    topic 0   topic 1   topic 2   topic 3   topic 4   topic 5   topic 6  \\\n",
       "0  0.000547  0.000547  0.000547  0.139373  0.043137  0.000547  0.079267   \n",
       "1  0.001235  0.001235  0.001235  0.001235  0.001235  0.001235  0.131174   \n",
       "2  0.000500  0.000500  0.000500  0.000500  0.049033  0.000500  0.000500   \n",
       "3  0.001493  0.001493  0.001493  0.001493  0.001493  0.001493  0.001493   \n",
       "4  0.002326  0.002326  0.002326  0.002326  0.002326  0.002326  0.002326   \n",
       "\n",
       "    topic 7   topic 8   topic 9  \n",
       "0  0.000547  0.000547  0.734944  \n",
       "1  0.001235  0.001235  0.858948  \n",
       "2  0.000500  0.000500  0.946966  \n",
       "3  0.123260  0.001493  0.864798  \n",
       "4  0.121319  0.002326  0.860075  "
      ]
     },
     "execution_count": 24,
     "metadata": {},
     "output_type": "execute_result"
    }
   ],
   "source": [
    "comp = model.transform(X)\n",
    "document_topics = pd.DataFrame(comp, columns=[\"topic %d\" % i for i in range(comp.shape[1])])\n",
    "document_topics.head()"
   ]
  },
  {
   "cell_type": "code",
   "execution_count": 25,
   "metadata": {
    "collapsed": true
   },
   "outputs": [],
   "source": [
    "document_topics['page_title'] = df['page_title']\n",
    "document_topics['category_name'] = df['category_name']"
   ]
  },
  {
   "cell_type": "code",
   "execution_count": 26,
   "metadata": {},
   "outputs": [
    {
     "data": {
      "text/html": [
       "<div>\n",
       "<table border=\"1\" class=\"dataframe\">\n",
       "  <thead>\n",
       "    <tr style=\"text-align: right;\">\n",
       "      <th></th>\n",
       "      <th>topic 0</th>\n",
       "      <th>topic 1</th>\n",
       "      <th>topic 2</th>\n",
       "      <th>topic 3</th>\n",
       "      <th>topic 4</th>\n",
       "      <th>topic 5</th>\n",
       "      <th>topic 6</th>\n",
       "      <th>topic 7</th>\n",
       "      <th>topic 8</th>\n",
       "      <th>topic 9</th>\n",
       "      <th>page_title</th>\n",
       "      <th>category_name</th>\n",
       "    </tr>\n",
       "  </thead>\n",
       "  <tbody>\n",
       "    <tr>\n",
       "      <th>0</th>\n",
       "      <td>0.000547</td>\n",
       "      <td>0.000547</td>\n",
       "      <td>0.000547</td>\n",
       "      <td>0.139373</td>\n",
       "      <td>0.043137</td>\n",
       "      <td>0.000547</td>\n",
       "      <td>0.079267</td>\n",
       "      <td>0.000547</td>\n",
       "      <td>0.000547</td>\n",
       "      <td>0.734944</td>\n",
       "      <td>Data exploration</td>\n",
       "      <td>Category:Machine_learning</td>\n",
       "    </tr>\n",
       "    <tr>\n",
       "      <th>1</th>\n",
       "      <td>0.001235</td>\n",
       "      <td>0.001235</td>\n",
       "      <td>0.001235</td>\n",
       "      <td>0.001235</td>\n",
       "      <td>0.001235</td>\n",
       "      <td>0.001235</td>\n",
       "      <td>0.131174</td>\n",
       "      <td>0.001235</td>\n",
       "      <td>0.001235</td>\n",
       "      <td>0.858948</td>\n",
       "      <td>List of datasets for machine learning research</td>\n",
       "      <td>Category:Machine_learning</td>\n",
       "    </tr>\n",
       "    <tr>\n",
       "      <th>2</th>\n",
       "      <td>0.000500</td>\n",
       "      <td>0.000500</td>\n",
       "      <td>0.000500</td>\n",
       "      <td>0.000500</td>\n",
       "      <td>0.049033</td>\n",
       "      <td>0.000500</td>\n",
       "      <td>0.000500</td>\n",
       "      <td>0.000500</td>\n",
       "      <td>0.000500</td>\n",
       "      <td>0.946966</td>\n",
       "      <td>Machine learning</td>\n",
       "      <td>Category:Machine_learning</td>\n",
       "    </tr>\n",
       "    <tr>\n",
       "      <th>3</th>\n",
       "      <td>0.001493</td>\n",
       "      <td>0.001493</td>\n",
       "      <td>0.001493</td>\n",
       "      <td>0.001493</td>\n",
       "      <td>0.001493</td>\n",
       "      <td>0.001493</td>\n",
       "      <td>0.001493</td>\n",
       "      <td>0.123260</td>\n",
       "      <td>0.001493</td>\n",
       "      <td>0.864798</td>\n",
       "      <td>Outline of machine learning</td>\n",
       "      <td>Category:Machine_learning</td>\n",
       "    </tr>\n",
       "    <tr>\n",
       "      <th>4</th>\n",
       "      <td>0.002326</td>\n",
       "      <td>0.002326</td>\n",
       "      <td>0.002326</td>\n",
       "      <td>0.002326</td>\n",
       "      <td>0.002326</td>\n",
       "      <td>0.002326</td>\n",
       "      <td>0.002326</td>\n",
       "      <td>0.121319</td>\n",
       "      <td>0.002326</td>\n",
       "      <td>0.860075</td>\n",
       "      <td>Singular statistical model</td>\n",
       "      <td>Category:Machine_learning</td>\n",
       "    </tr>\n",
       "  </tbody>\n",
       "</table>\n",
       "</div>"
      ],
      "text/plain": [
       "    topic 0   topic 1   topic 2   topic 3   topic 4   topic 5   topic 6  \\\n",
       "0  0.000547  0.000547  0.000547  0.139373  0.043137  0.000547  0.079267   \n",
       "1  0.001235  0.001235  0.001235  0.001235  0.001235  0.001235  0.131174   \n",
       "2  0.000500  0.000500  0.000500  0.000500  0.049033  0.000500  0.000500   \n",
       "3  0.001493  0.001493  0.001493  0.001493  0.001493  0.001493  0.001493   \n",
       "4  0.002326  0.002326  0.002326  0.002326  0.002326  0.002326  0.002326   \n",
       "\n",
       "    topic 7   topic 8   topic 9  \\\n",
       "0  0.000547  0.000547  0.734944   \n",
       "1  0.001235  0.001235  0.858948   \n",
       "2  0.000500  0.000500  0.946966   \n",
       "3  0.123260  0.001493  0.864798   \n",
       "4  0.121319  0.002326  0.860075   \n",
       "\n",
       "                                       page_title              category_name  \n",
       "0                                Data exploration  Category:Machine_learning  \n",
       "1  List of datasets for machine learning research  Category:Machine_learning  \n",
       "2                                Machine learning  Category:Machine_learning  \n",
       "3                     Outline of machine learning  Category:Machine_learning  \n",
       "4                      Singular statistical model  Category:Machine_learning  "
      ]
     },
     "execution_count": 26,
     "metadata": {},
     "output_type": "execute_result"
    }
   ],
   "source": [
    "document_topics.head()"
   ]
  },
  {
   "cell_type": "markdown",
   "metadata": {},
   "source": [
    "### Let's take a look at the highest rated topic 0 documents\n",
    "\n",
    "When we check the documents, we see that they match up to the graph pretty well."
   ]
  },
  {
   "cell_type": "code",
   "execution_count": 27,
   "metadata": {},
   "outputs": [
    {
     "data": {
      "text/html": [
       "<div>\n",
       "<table border=\"1\" class=\"dataframe\">\n",
       "  <thead>\n",
       "    <tr style=\"text-align: right;\">\n",
       "      <th></th>\n",
       "      <th>topic 0</th>\n",
       "      <th>page_title</th>\n",
       "      <th>category_name</th>\n",
       "    </tr>\n",
       "  </thead>\n",
       "  <tbody>\n",
       "    <tr>\n",
       "      <th>4849</th>\n",
       "      <td>0.991963</td>\n",
       "      <td>Hula (software)</td>\n",
       "      <td>Category:Free email software</td>\n",
       "    </tr>\n",
       "    <tr>\n",
       "      <th>4897</th>\n",
       "      <td>0.991963</td>\n",
       "      <td>Alpine (email client)</td>\n",
       "      <td>Category:Email client software for Linux</td>\n",
       "    </tr>\n",
       "    <tr>\n",
       "      <th>4922</th>\n",
       "      <td>0.991963</td>\n",
       "      <td>Sylpheed</td>\n",
       "      <td>Category:Email client software for Linux</td>\n",
       "    </tr>\n",
       "    <tr>\n",
       "      <th>5009</th>\n",
       "      <td>0.991963</td>\n",
       "      <td>Denshin 8 go</td>\n",
       "      <td>Category:Windows email clients</td>\n",
       "    </tr>\n",
       "    <tr>\n",
       "      <th>3662</th>\n",
       "      <td>0.985712</td>\n",
       "      <td>Global Infectious Disease Epidemiology Network</td>\n",
       "      <td>Category:Medical expert systems</td>\n",
       "    </tr>\n",
       "    <tr>\n",
       "      <th>2498</th>\n",
       "      <td>0.984208</td>\n",
       "      <td>Triskell</td>\n",
       "      <td>Category:Collaborative software</td>\n",
       "    </tr>\n",
       "    <tr>\n",
       "      <th>4221</th>\n",
       "      <td>0.984208</td>\n",
       "      <td>Test automation management tools</td>\n",
       "      <td>Category:Collaborative software</td>\n",
       "    </tr>\n",
       "    <tr>\n",
       "      <th>4870</th>\n",
       "      <td>0.984208</td>\n",
       "      <td>Scalix</td>\n",
       "      <td>Category:Free email software</td>\n",
       "    </tr>\n",
       "    <tr>\n",
       "      <th>4931</th>\n",
       "      <td>0.984208</td>\n",
       "      <td>Inky (email client)</td>\n",
       "      <td>Category:MacOS email clients</td>\n",
       "    </tr>\n",
       "    <tr>\n",
       "      <th>4986</th>\n",
       "      <td>0.984208</td>\n",
       "      <td>RocketMail</td>\n",
       "      <td>Category:Webmail</td>\n",
       "    </tr>\n",
       "  </tbody>\n",
       "</table>\n",
       "</div>"
      ],
      "text/plain": [
       "       topic 0                                      page_title  \\\n",
       "4849  0.991963                                 Hula (software)   \n",
       "4897  0.991963                           Alpine (email client)   \n",
       "4922  0.991963                                        Sylpheed   \n",
       "5009  0.991963                                    Denshin 8 go   \n",
       "3662  0.985712  Global Infectious Disease Epidemiology Network   \n",
       "2498  0.984208                                        Triskell   \n",
       "4221  0.984208                Test automation management tools   \n",
       "4870  0.984208                                          Scalix   \n",
       "4931  0.984208                             Inky (email client)   \n",
       "4986  0.984208                                      RocketMail   \n",
       "\n",
       "                                 category_name  \n",
       "4849              Category:Free email software  \n",
       "4897  Category:Email client software for Linux  \n",
       "4922  Category:Email client software for Linux  \n",
       "5009            Category:Windows email clients  \n",
       "3662           Category:Medical expert systems  \n",
       "2498           Category:Collaborative software  \n",
       "4221           Category:Collaborative software  \n",
       "4870              Category:Free email software  \n",
       "4931              Category:MacOS email clients  \n",
       "4986                          Category:Webmail  "
      ]
     },
     "execution_count": 27,
     "metadata": {},
     "output_type": "execute_result"
    }
   ],
   "source": [
    "top_topics = document_topics['topic 0'] > .98\n",
    "top_topic0 = document_topics[top_topics][['topic 0','page_title','category_name']].sort_values('topic 0',ascending=False).drop_duplicates()\n",
    "top_topic0"
   ]
  },
  {
   "cell_type": "markdown",
   "metadata": {},
   "source": [
    "### How about topic 1\n",
    "\n",
    "Topic 1 from the graph looks like something related to Healthcare software and we see that below"
   ]
  },
  {
   "cell_type": "code",
   "execution_count": 28,
   "metadata": {},
   "outputs": [
    {
     "data": {
      "text/html": [
       "<div>\n",
       "<table border=\"1\" class=\"dataframe\">\n",
       "  <thead>\n",
       "    <tr style=\"text-align: right;\">\n",
       "      <th></th>\n",
       "      <th>topic 1</th>\n",
       "      <th>page_title</th>\n",
       "      <th>category_name</th>\n",
       "    </tr>\n",
       "  </thead>\n",
       "  <tbody>\n",
       "    <tr>\n",
       "      <th>3758</th>\n",
       "      <td>0.997428</td>\n",
       "      <td>Datix</td>\n",
       "      <td>Category:Electronic health record software</td>\n",
       "    </tr>\n",
       "    <tr>\n",
       "      <th>3806</th>\n",
       "      <td>0.996616</td>\n",
       "      <td>Electronic health record confidentiality</td>\n",
       "      <td>Category:Electronic health records</td>\n",
       "    </tr>\n",
       "    <tr>\n",
       "      <th>3815</th>\n",
       "      <td>0.996069</td>\n",
       "      <td>HealthConnect</td>\n",
       "      <td>Category:Electronic health records</td>\n",
       "    </tr>\n",
       "    <tr>\n",
       "      <th>3479</th>\n",
       "      <td>0.995360</td>\n",
       "      <td>CottageMed</td>\n",
       "      <td>Category:Electronic health record software</td>\n",
       "    </tr>\n",
       "    <tr>\n",
       "      <th>3704</th>\n",
       "      <td>0.995212</td>\n",
       "      <td>ClinicalKey</td>\n",
       "      <td>Category:Healthcare software</td>\n",
       "    </tr>\n",
       "    <tr>\n",
       "      <th>3526</th>\n",
       "      <td>0.994736</td>\n",
       "      <td>Certification Commission for Healthcare Inform...</td>\n",
       "      <td>Category:Electronic health records</td>\n",
       "    </tr>\n",
       "    <tr>\n",
       "      <th>3909</th>\n",
       "      <td>0.994642</td>\n",
       "      <td>DrawMD</td>\n",
       "      <td>Category:Medical software</td>\n",
       "    </tr>\n",
       "    <tr>\n",
       "      <th>3632</th>\n",
       "      <td>0.994642</td>\n",
       "      <td>DXplain</td>\n",
       "      <td>Category:Medical software</td>\n",
       "    </tr>\n",
       "    <tr>\n",
       "      <th>2451</th>\n",
       "      <td>0.993660</td>\n",
       "      <td>IGLOO Software</td>\n",
       "      <td>Category:Collaborative software</td>\n",
       "    </tr>\n",
       "    <tr>\n",
       "      <th>4174</th>\n",
       "      <td>0.993660</td>\n",
       "      <td>IBM Connections</td>\n",
       "      <td>Category:Collaborative software</td>\n",
       "    </tr>\n",
       "  </tbody>\n",
       "</table>\n",
       "</div>"
      ],
      "text/plain": [
       "       topic 1                                         page_title  \\\n",
       "3758  0.997428                                              Datix   \n",
       "3806  0.996616           Electronic health record confidentiality   \n",
       "3815  0.996069                                      HealthConnect   \n",
       "3479  0.995360                                         CottageMed   \n",
       "3704  0.995212                                        ClinicalKey   \n",
       "3526  0.994736  Certification Commission for Healthcare Inform...   \n",
       "3909  0.994642                                             DrawMD   \n",
       "3632  0.994642                                            DXplain   \n",
       "2451  0.993660                                     IGLOO Software   \n",
       "4174  0.993660                                    IBM Connections   \n",
       "\n",
       "                                   category_name  \n",
       "3758  Category:Electronic health record software  \n",
       "3806          Category:Electronic health records  \n",
       "3815          Category:Electronic health records  \n",
       "3479  Category:Electronic health record software  \n",
       "3704                Category:Healthcare software  \n",
       "3526          Category:Electronic health records  \n",
       "3909                   Category:Medical software  \n",
       "3632                   Category:Medical software  \n",
       "2451             Category:Collaborative software  \n",
       "4174             Category:Collaborative software  "
      ]
     },
     "execution_count": 28,
     "metadata": {},
     "output_type": "execute_result"
    }
   ],
   "source": [
    "top_topics = document_topics['topic 1'] > .98\n",
    "top_topic1 = document_topics[top_topics][['topic 1','page_title','category_name']].sort_values('topic 1',ascending=False).drop_duplicates()\n",
    "top_topic1.head(10)"
   ]
  },
  {
   "cell_type": "markdown",
   "metadata": {},
   "source": [
    "### How about topic 7\n",
    "\n",
    "Topic 7 from the graph looks like something realted to neural networks and we see that below"
   ]
  },
  {
   "cell_type": "code",
   "execution_count": 29,
   "metadata": {},
   "outputs": [
    {
     "data": {
      "text/html": [
       "<div>\n",
       "<table border=\"1\" class=\"dataframe\">\n",
       "  <thead>\n",
       "    <tr style=\"text-align: right;\">\n",
       "      <th></th>\n",
       "      <th>topic 7</th>\n",
       "      <th>page_title</th>\n",
       "      <th>category_name</th>\n",
       "    </tr>\n",
       "  </thead>\n",
       "  <tbody>\n",
       "    <tr>\n",
       "      <th>1029</th>\n",
       "      <td>0.996739</td>\n",
       "      <td>Clonal selection algorithm</td>\n",
       "      <td>Category:Genetic algorithms</td>\n",
       "    </tr>\n",
       "    <tr>\n",
       "      <th>1265</th>\n",
       "      <td>0.995774</td>\n",
       "      <td>Chromosome (genetic algorithm)</td>\n",
       "      <td>Category:Genetic algorithms</td>\n",
       "    </tr>\n",
       "    <tr>\n",
       "      <th>1001</th>\n",
       "      <td>0.994943</td>\n",
       "      <td>Evolutionary programming</td>\n",
       "      <td>Category:Evolutionary algorithms</td>\n",
       "    </tr>\n",
       "    <tr>\n",
       "      <th>1290</th>\n",
       "      <td>0.994827</td>\n",
       "      <td>Population-based incremental learning</td>\n",
       "      <td>Category:Genetic algorithms</td>\n",
       "    </tr>\n",
       "    <tr>\n",
       "      <th>1293</th>\n",
       "      <td>0.993616</td>\n",
       "      <td>Quality control and genetic algorithms</td>\n",
       "      <td>Category:Genetic algorithms</td>\n",
       "    </tr>\n",
       "    <tr>\n",
       "      <th>517</th>\n",
       "      <td>0.992799</td>\n",
       "      <td>CoDi</td>\n",
       "      <td>Category:Artificial neural networks</td>\n",
       "    </tr>\n",
       "    <tr>\n",
       "      <th>254</th>\n",
       "      <td>0.992799</td>\n",
       "      <td>Committee machine</td>\n",
       "      <td>Category:Artificial neural networks</td>\n",
       "    </tr>\n",
       "    <tr>\n",
       "      <th>431</th>\n",
       "      <td>0.992799</td>\n",
       "      <td>Classifier chains</td>\n",
       "      <td>Category:Classification algorithms</td>\n",
       "    </tr>\n",
       "    <tr>\n",
       "      <th>1562</th>\n",
       "      <td>0.992741</td>\n",
       "      <td>Probabilistic causation</td>\n",
       "      <td>Category:Causal inference</td>\n",
       "    </tr>\n",
       "    <tr>\n",
       "      <th>1366</th>\n",
       "      <td>0.992741</td>\n",
       "      <td>Viterbi algorithm</td>\n",
       "      <td>Category:Markov models</td>\n",
       "    </tr>\n",
       "  </tbody>\n",
       "</table>\n",
       "</div>"
      ],
      "text/plain": [
       "       topic 7                              page_title  \\\n",
       "1029  0.996739              Clonal selection algorithm   \n",
       "1265  0.995774          Chromosome (genetic algorithm)   \n",
       "1001  0.994943                Evolutionary programming   \n",
       "1290  0.994827   Population-based incremental learning   \n",
       "1293  0.993616  Quality control and genetic algorithms   \n",
       "517   0.992799                                    CoDi   \n",
       "254   0.992799                       Committee machine   \n",
       "431   0.992799                       Classifier chains   \n",
       "1562  0.992741                 Probabilistic causation   \n",
       "1366  0.992741                       Viterbi algorithm   \n",
       "\n",
       "                            category_name  \n",
       "1029          Category:Genetic algorithms  \n",
       "1265          Category:Genetic algorithms  \n",
       "1001     Category:Evolutionary algorithms  \n",
       "1290          Category:Genetic algorithms  \n",
       "1293          Category:Genetic algorithms  \n",
       "517   Category:Artificial neural networks  \n",
       "254   Category:Artificial neural networks  \n",
       "431    Category:Classification algorithms  \n",
       "1562            Category:Causal inference  \n",
       "1366               Category:Markov models  "
      ]
     },
     "execution_count": 29,
     "metadata": {},
     "output_type": "execute_result"
    }
   ],
   "source": [
    "top_topics = document_topics['topic 7'] > .98\n",
    "top_topic7 = document_topics[top_topics][['topic 7','page_title','category_name']].sort_values('topic 7',ascending=False).drop_duplicates()\n",
    "top_topic7.head(10)"
   ]
  },
  {
   "cell_type": "markdown",
   "metadata": {},
   "source": [
    "### One more - how about topic 7\n",
    "\n",
    "And it looks like this topic is about machine learning"
   ]
  },
  {
   "cell_type": "code",
   "execution_count": 30,
   "metadata": {},
   "outputs": [
    {
     "data": {
      "text/html": [
       "<div>\n",
       "<table border=\"1\" class=\"dataframe\">\n",
       "  <thead>\n",
       "    <tr style=\"text-align: right;\">\n",
       "      <th></th>\n",
       "      <th>topic 9</th>\n",
       "      <th>page_title</th>\n",
       "      <th>category_name</th>\n",
       "    </tr>\n",
       "  </thead>\n",
       "  <tbody>\n",
       "    <tr>\n",
       "      <th>739</th>\n",
       "      <td>0.996484</td>\n",
       "      <td>Mean shift</td>\n",
       "      <td>Category:Cluster analysis algorithms</td>\n",
       "    </tr>\n",
       "    <tr>\n",
       "      <th>338</th>\n",
       "      <td>0.996484</td>\n",
       "      <td>Restricted Boltzmann machine</td>\n",
       "      <td>Category:Artificial neural networks</td>\n",
       "    </tr>\n",
       "    <tr>\n",
       "      <th>1587</th>\n",
       "      <td>0.996484</td>\n",
       "      <td>Unsupervised learning</td>\n",
       "      <td>Category:Unsupervised learning</td>\n",
       "    </tr>\n",
       "    <tr>\n",
       "      <th>600</th>\n",
       "      <td>0.996484</td>\n",
       "      <td>Reservoir computing</td>\n",
       "      <td>Category:Artificial neural networks</td>\n",
       "    </tr>\n",
       "    <tr>\n",
       "      <th>937</th>\n",
       "      <td>0.996484</td>\n",
       "      <td>Random indexing</td>\n",
       "      <td>Category:Dimension reduction</td>\n",
       "    </tr>\n",
       "    <tr>\n",
       "      <th>137</th>\n",
       "      <td>0.996017</td>\n",
       "      <td>OpenNN</td>\n",
       "      <td>Category:Machine_learning</td>\n",
       "    </tr>\n",
       "    <tr>\n",
       "      <th>172</th>\n",
       "      <td>0.995651</td>\n",
       "      <td>Spike-and-slab variable selection</td>\n",
       "      <td>Category:Machine_learning</td>\n",
       "    </tr>\n",
       "    <tr>\n",
       "      <th>412</th>\n",
       "      <td>0.995651</td>\n",
       "      <td>(1+ε)-approximate nearest neighbor search</td>\n",
       "      <td>Category:Classification algorithms</td>\n",
       "    </tr>\n",
       "    <tr>\n",
       "      <th>164</th>\n",
       "      <td>0.995477</td>\n",
       "      <td>Semantic analysis (machine learning)</td>\n",
       "      <td>Category:Machine_learning</td>\n",
       "    </tr>\n",
       "    <tr>\n",
       "      <th>1131</th>\n",
       "      <td>0.995431</td>\n",
       "      <td>Radial basis function kernel</td>\n",
       "      <td>Category:Kernel methods for machine learning</td>\n",
       "    </tr>\n",
       "  </tbody>\n",
       "</table>\n",
       "</div>"
      ],
      "text/plain": [
       "       topic 9                                 page_title  \\\n",
       "739   0.996484                                 Mean shift   \n",
       "338   0.996484               Restricted Boltzmann machine   \n",
       "1587  0.996484                      Unsupervised learning   \n",
       "600   0.996484                        Reservoir computing   \n",
       "937   0.996484                            Random indexing   \n",
       "137   0.996017                                     OpenNN   \n",
       "172   0.995651          Spike-and-slab variable selection   \n",
       "412   0.995651  (1+ε)-approximate nearest neighbor search   \n",
       "164   0.995477       Semantic analysis (machine learning)   \n",
       "1131  0.995431               Radial basis function kernel   \n",
       "\n",
       "                                     category_name  \n",
       "739           Category:Cluster analysis algorithms  \n",
       "338            Category:Artificial neural networks  \n",
       "1587                Category:Unsupervised learning  \n",
       "600            Category:Artificial neural networks  \n",
       "937                   Category:Dimension reduction  \n",
       "137                      Category:Machine_learning  \n",
       "172                      Category:Machine_learning  \n",
       "412             Category:Classification algorithms  \n",
       "164                      Category:Machine_learning  \n",
       "1131  Category:Kernel methods for machine learning  "
      ]
     },
     "execution_count": 30,
     "metadata": {},
     "output_type": "execute_result"
    }
   ],
   "source": [
    "top_topics = document_topics['topic 9'] > .98\n",
    "top_topic9 = document_topics[top_topics][['topic 9','page_title','category_name']].sort_values('topic 9',ascending=False).drop_duplicates()\n",
    "top_topic9.head(10)"
   ]
  },
  {
   "cell_type": "markdown",
   "metadata": {},
   "source": [
    "## K Nearest Neighbors (KNN)\n",
    "\n",
    "It looks like both LDA and LSA perform well in identifying topics. However, both of these models are unsupervised and there is no possible to know what is actually \"correct\". LSA and LDA are known as \"generative\" models but we can't predict topics with these models\n",
    "\n",
    "However, we can used a supervised learning model like K Nearest Neighbors (KNN) to predict what category a particular document might be based on the text. Luckily with our dataset, we do have a target variable which are category names and category id's!\n",
    "\n",
    "The KNN rule is a method that classifies unlabeled data based on their similarity to the examples in the training dataset. To “guess” the label of a new instance the KNN algorithm will find the closest neighbors to the new instance from the training data, and the guessed class label (category in our case) will then be set as the most common label among the K closest neighbor.\n",
    "\n",
    "The KNN only requires K (an integer), set of labeled training data, and a system or standard of measurement to define the “closeness” (the type of distance used).\n",
    "\n",
    "We are going to implement KNN below. "
   ]
  },
  {
   "cell_type": "code",
   "execution_count": 31,
   "metadata": {
    "collapsed": true
   },
   "outputs": [],
   "source": [
    "from sklearn.model_selection import GridSearchCV\n",
    "from sklearn.neighbors import KNeighborsClassifier\n",
    "from sklearn.preprocessing import StandardScaler\n",
    "from sklearn.preprocessing import LabelEncoder"
   ]
  },
  {
   "cell_type": "code",
   "execution_count": 32,
   "metadata": {
    "scrolled": true
   },
   "outputs": [
    {
     "data": {
      "text/plain": [
       "0        706543\n",
       "1        706543\n",
       "2        706543\n",
       "3        706543\n",
       "4        706543\n",
       "5        706543\n",
       "6        706543\n",
       "7        706543\n",
       "8        706543\n",
       "9        706543\n",
       "10       706543\n",
       "11       706543\n",
       "12       706543\n",
       "13       706543\n",
       "14       706543\n",
       "15       706543\n",
       "16       706543\n",
       "17       706543\n",
       "18       706543\n",
       "19       706543\n",
       "20       706543\n",
       "21       706543\n",
       "22       706543\n",
       "23       706543\n",
       "24       706543\n",
       "25       706543\n",
       "26       706543\n",
       "27       706543\n",
       "28       706543\n",
       "29       706543\n",
       "         ...   \n",
       "6413    9622164\n",
       "6414    9622164\n",
       "6415    9622164\n",
       "6416    9622164\n",
       "6417    9622164\n",
       "6418    9622164\n",
       "6419    9622164\n",
       "6420    9622164\n",
       "6421    9622164\n",
       "6422    9622164\n",
       "6423    9622164\n",
       "6424    9622164\n",
       "6425    9622164\n",
       "6426    9622164\n",
       "6427    9622164\n",
       "6428    9622164\n",
       "6429    9622164\n",
       "6430    9622164\n",
       "6431    9622164\n",
       "6432    9622164\n",
       "6433    9622164\n",
       "6434    9622164\n",
       "6435    9622164\n",
       "6436    9622164\n",
       "6437    9622164\n",
       "6438    9622164\n",
       "6439    9622164\n",
       "6440    9622164\n",
       "6441    9622164\n",
       "6442    9622164\n",
       "Name: category_id, dtype: category\n",
       "Categories (202, int64): [691651, 693339, 695124, 695136, ..., 52763867, 53265317, 53417207, 54385025]"
      ]
     },
     "execution_count": 32,
     "metadata": {},
     "output_type": "execute_result"
    }
   ],
   "source": [
    "df['category_id'].astype('category')"
   ]
  },
  {
   "cell_type": "code",
   "execution_count": 37,
   "metadata": {},
   "outputs": [
    {
     "name": "stderr",
     "output_type": "stream",
     "text": [
      "/opt/conda/lib/python3.5/site-packages/sklearn/model_selection/_split.py:581: Warning: The least populated class in y has only 1 members, which is too few. The minimum number of groups for any class cannot be less than n_splits=3.\n",
      "  % (min_groups, self.n_splits)), Warning)\n"
     ]
    },
    {
     "data": {
      "text/plain": [
       "GridSearchCV(cv=None, error_score='raise',\n",
       "       estimator=KNeighborsClassifier(algorithm='auto', leaf_size=30, metric='minkowski',\n",
       "           metric_params=None, n_jobs=1, n_neighbors=5, p=2,\n",
       "           weights='uniform'),\n",
       "       fit_params={}, iid=True, n_jobs=1,\n",
       "       param_grid={'n_neighbors': range(2, 20)}, pre_dispatch='2*n_jobs',\n",
       "       refit=True, return_train_score=True, scoring=None, verbose=0)"
      ]
     },
     "execution_count": 37,
     "metadata": {},
     "output_type": "execute_result"
    }
   ],
   "source": [
    "KNN = KNeighborsClassifier()\n",
    "gs = GridSearchCV(KNN, param_grid={'n_neighbors':range(2,20)})\n",
    "gs.fit(document_term_matrix_sps, df['category_id'])"
   ]
  },
  {
   "cell_type": "code",
   "execution_count": 38,
   "metadata": {},
   "outputs": [
    {
     "data": {
      "text/plain": [
       "['knn_gs']"
      ]
     },
     "execution_count": 38,
     "metadata": {},
     "output_type": "execute_result"
    }
   ],
   "source": [
    "joblib.dump(gs, 'knn_gs')"
   ]
  },
  {
   "cell_type": "code",
   "execution_count": 39,
   "metadata": {},
   "outputs": [
    {
     "data": {
      "text/html": [
       "<div>\n",
       "<table border=\"1\" class=\"dataframe\">\n",
       "  <thead>\n",
       "    <tr style=\"text-align: right;\">\n",
       "      <th></th>\n",
       "      <th>15</th>\n",
       "      <th>17</th>\n",
       "      <th>16</th>\n",
       "      <th>11</th>\n",
       "      <th>10</th>\n",
       "      <th>14</th>\n",
       "      <th>13</th>\n",
       "      <th>9</th>\n",
       "      <th>12</th>\n",
       "      <th>8</th>\n",
       "      <th>7</th>\n",
       "      <th>6</th>\n",
       "      <th>5</th>\n",
       "      <th>4</th>\n",
       "      <th>3</th>\n",
       "      <th>2</th>\n",
       "      <th>1</th>\n",
       "      <th>0</th>\n",
       "    </tr>\n",
       "  </thead>\n",
       "  <tbody>\n",
       "    <tr>\n",
       "      <th>mean_fit_time</th>\n",
       "      <td>0.00689189</td>\n",
       "      <td>0.00799362</td>\n",
       "      <td>0.0079395</td>\n",
       "      <td>0.00699719</td>\n",
       "      <td>0.00934927</td>\n",
       "      <td>0.00671363</td>\n",
       "      <td>0.0067184</td>\n",
       "      <td>0.00826327</td>\n",
       "      <td>0.00681941</td>\n",
       "      <td>0.00786241</td>\n",
       "      <td>0.00894117</td>\n",
       "      <td>0.00847054</td>\n",
       "      <td>0.00857329</td>\n",
       "      <td>0.00693361</td>\n",
       "      <td>0.00811243</td>\n",
       "      <td>0.00700363</td>\n",
       "      <td>0.00701547</td>\n",
       "      <td>0.00818642</td>\n",
       "    </tr>\n",
       "    <tr>\n",
       "      <th>mean_score_time</th>\n",
       "      <td>0.438449</td>\n",
       "      <td>0.505713</td>\n",
       "      <td>0.475546</td>\n",
       "      <td>0.454855</td>\n",
       "      <td>0.502469</td>\n",
       "      <td>0.445218</td>\n",
       "      <td>0.440141</td>\n",
       "      <td>0.484458</td>\n",
       "      <td>0.448253</td>\n",
       "      <td>0.509784</td>\n",
       "      <td>0.537106</td>\n",
       "      <td>0.479047</td>\n",
       "      <td>0.558278</td>\n",
       "      <td>0.435928</td>\n",
       "      <td>0.496681</td>\n",
       "      <td>0.47685</td>\n",
       "      <td>0.438623</td>\n",
       "      <td>0.395053</td>\n",
       "    </tr>\n",
       "    <tr>\n",
       "      <th>mean_test_score</th>\n",
       "      <td>0.385396</td>\n",
       "      <td>0.383211</td>\n",
       "      <td>0.383211</td>\n",
       "      <td>0.382587</td>\n",
       "      <td>0.382275</td>\n",
       "      <td>0.382275</td>\n",
       "      <td>0.381963</td>\n",
       "      <td>0.381495</td>\n",
       "      <td>0.381339</td>\n",
       "      <td>0.38009</td>\n",
       "      <td>0.378998</td>\n",
       "      <td>0.37619</td>\n",
       "      <td>0.373849</td>\n",
       "      <td>0.36636</td>\n",
       "      <td>0.359963</td>\n",
       "      <td>0.348572</td>\n",
       "      <td>0.342019</td>\n",
       "      <td>0.334686</td>\n",
       "    </tr>\n",
       "    <tr>\n",
       "      <th>mean_train_score</th>\n",
       "      <td>0.465235</td>\n",
       "      <td>0.457632</td>\n",
       "      <td>0.462284</td>\n",
       "      <td>0.475477</td>\n",
       "      <td>0.481664</td>\n",
       "      <td>0.466827</td>\n",
       "      <td>0.469477</td>\n",
       "      <td>0.484549</td>\n",
       "      <td>0.471896</td>\n",
       "      <td>0.492176</td>\n",
       "      <td>0.500362</td>\n",
       "      <td>0.507525</td>\n",
       "      <td>0.516918</td>\n",
       "      <td>0.527664</td>\n",
       "      <td>0.539661</td>\n",
       "      <td>0.555163</td>\n",
       "      <td>0.574894</td>\n",
       "      <td>0.612137</td>\n",
       "    </tr>\n",
       "    <tr>\n",
       "      <th>param_n_neighbors</th>\n",
       "      <td>17</td>\n",
       "      <td>19</td>\n",
       "      <td>18</td>\n",
       "      <td>13</td>\n",
       "      <td>12</td>\n",
       "      <td>16</td>\n",
       "      <td>15</td>\n",
       "      <td>11</td>\n",
       "      <td>14</td>\n",
       "      <td>10</td>\n",
       "      <td>9</td>\n",
       "      <td>8</td>\n",
       "      <td>7</td>\n",
       "      <td>6</td>\n",
       "      <td>5</td>\n",
       "      <td>4</td>\n",
       "      <td>3</td>\n",
       "      <td>2</td>\n",
       "    </tr>\n",
       "    <tr>\n",
       "      <th>params</th>\n",
       "      <td>{'n_neighbors': 17}</td>\n",
       "      <td>{'n_neighbors': 19}</td>\n",
       "      <td>{'n_neighbors': 18}</td>\n",
       "      <td>{'n_neighbors': 13}</td>\n",
       "      <td>{'n_neighbors': 12}</td>\n",
       "      <td>{'n_neighbors': 16}</td>\n",
       "      <td>{'n_neighbors': 15}</td>\n",
       "      <td>{'n_neighbors': 11}</td>\n",
       "      <td>{'n_neighbors': 14}</td>\n",
       "      <td>{'n_neighbors': 10}</td>\n",
       "      <td>{'n_neighbors': 9}</td>\n",
       "      <td>{'n_neighbors': 8}</td>\n",
       "      <td>{'n_neighbors': 7}</td>\n",
       "      <td>{'n_neighbors': 6}</td>\n",
       "      <td>{'n_neighbors': 5}</td>\n",
       "      <td>{'n_neighbors': 4}</td>\n",
       "      <td>{'n_neighbors': 3}</td>\n",
       "      <td>{'n_neighbors': 2}</td>\n",
       "    </tr>\n",
       "    <tr>\n",
       "      <th>rank_test_score</th>\n",
       "      <td>1</td>\n",
       "      <td>2</td>\n",
       "      <td>2</td>\n",
       "      <td>4</td>\n",
       "      <td>5</td>\n",
       "      <td>5</td>\n",
       "      <td>7</td>\n",
       "      <td>8</td>\n",
       "      <td>9</td>\n",
       "      <td>10</td>\n",
       "      <td>11</td>\n",
       "      <td>12</td>\n",
       "      <td>13</td>\n",
       "      <td>14</td>\n",
       "      <td>15</td>\n",
       "      <td>16</td>\n",
       "      <td>17</td>\n",
       "      <td>18</td>\n",
       "    </tr>\n",
       "    <tr>\n",
       "      <th>split0_test_score</th>\n",
       "      <td>0.386994</td>\n",
       "      <td>0.379263</td>\n",
       "      <td>0.38563</td>\n",
       "      <td>0.386539</td>\n",
       "      <td>0.387904</td>\n",
       "      <td>0.380173</td>\n",
       "      <td>0.377899</td>\n",
       "      <td>0.385175</td>\n",
       "      <td>0.381537</td>\n",
       "      <td>0.383811</td>\n",
       "      <td>0.387904</td>\n",
       "      <td>0.378809</td>\n",
       "      <td>0.378809</td>\n",
       "      <td>0.374716</td>\n",
       "      <td>0.370168</td>\n",
       "      <td>0.361073</td>\n",
       "      <td>0.350614</td>\n",
       "      <td>0.332424</td>\n",
       "    </tr>\n",
       "    <tr>\n",
       "      <th>split0_train_score</th>\n",
       "      <td>0.468409</td>\n",
       "      <td>0.457482</td>\n",
       "      <td>0.466033</td>\n",
       "      <td>0.482185</td>\n",
       "      <td>0.489311</td>\n",
       "      <td>0.472447</td>\n",
       "      <td>0.474584</td>\n",
       "      <td>0.490261</td>\n",
       "      <td>0.478147</td>\n",
       "      <td>0.493349</td>\n",
       "      <td>0.5038</td>\n",
       "      <td>0.509264</td>\n",
       "      <td>0.515677</td>\n",
       "      <td>0.525891</td>\n",
       "      <td>0.534204</td>\n",
       "      <td>0.555582</td>\n",
       "      <td>0.570071</td>\n",
       "      <td>0.606888</td>\n",
       "    </tr>\n",
       "    <tr>\n",
       "      <th>split1_test_score</th>\n",
       "      <td>0.383466</td>\n",
       "      <td>0.377861</td>\n",
       "      <td>0.378328</td>\n",
       "      <td>0.382532</td>\n",
       "      <td>0.380196</td>\n",
       "      <td>0.386268</td>\n",
       "      <td>0.383933</td>\n",
       "      <td>0.379729</td>\n",
       "      <td>0.386268</td>\n",
       "      <td>0.374591</td>\n",
       "      <td>0.372256</td>\n",
       "      <td>0.368986</td>\n",
       "      <td>0.365717</td>\n",
       "      <td>0.354974</td>\n",
       "      <td>0.343298</td>\n",
       "      <td>0.330687</td>\n",
       "      <td>0.324148</td>\n",
       "      <td>0.314339</td>\n",
       "    </tr>\n",
       "    <tr>\n",
       "      <th>split1_train_score</th>\n",
       "      <td>0.464855</td>\n",
       "      <td>0.456888</td>\n",
       "      <td>0.463215</td>\n",
       "      <td>0.472587</td>\n",
       "      <td>0.481256</td>\n",
       "      <td>0.467666</td>\n",
       "      <td>0.470712</td>\n",
       "      <td>0.487348</td>\n",
       "      <td>0.471181</td>\n",
       "      <td>0.5</td>\n",
       "      <td>0.503046</td>\n",
       "      <td>0.510778</td>\n",
       "      <td>0.517104</td>\n",
       "      <td>0.525305</td>\n",
       "      <td>0.540769</td>\n",
       "      <td>0.55553</td>\n",
       "      <td>0.583411</td>\n",
       "      <td>0.626757</td>\n",
       "    </tr>\n",
       "    <tr>\n",
       "      <th>split2_test_score</th>\n",
       "      <td>0.385694</td>\n",
       "      <td>0.392943</td>\n",
       "      <td>0.385694</td>\n",
       "      <td>0.378444</td>\n",
       "      <td>0.378444</td>\n",
       "      <td>0.380377</td>\n",
       "      <td>0.384244</td>\n",
       "      <td>0.37941</td>\n",
       "      <td>0.376027</td>\n",
       "      <td>0.381827</td>\n",
       "      <td>0.37651</td>\n",
       "      <td>0.38086</td>\n",
       "      <td>0.376994</td>\n",
       "      <td>0.369261</td>\n",
       "      <td>0.366361</td>\n",
       "      <td>0.353794</td>\n",
       "      <td>0.351377</td>\n",
       "      <td>0.358144</td>\n",
       "    </tr>\n",
       "    <tr>\n",
       "      <th>split2_train_score</th>\n",
       "      <td>0.462442</td>\n",
       "      <td>0.458525</td>\n",
       "      <td>0.457604</td>\n",
       "      <td>0.471659</td>\n",
       "      <td>0.474424</td>\n",
       "      <td>0.460369</td>\n",
       "      <td>0.463134</td>\n",
       "      <td>0.476037</td>\n",
       "      <td>0.466359</td>\n",
       "      <td>0.48318</td>\n",
       "      <td>0.49424</td>\n",
       "      <td>0.502535</td>\n",
       "      <td>0.517972</td>\n",
       "      <td>0.531797</td>\n",
       "      <td>0.544009</td>\n",
       "      <td>0.554378</td>\n",
       "      <td>0.571198</td>\n",
       "      <td>0.602765</td>\n",
       "    </tr>\n",
       "    <tr>\n",
       "      <th>std_fit_time</th>\n",
       "      <td>2.43797e-05</td>\n",
       "      <td>0.00106073</td>\n",
       "      <td>0.00171656</td>\n",
       "      <td>0.000177039</td>\n",
       "      <td>0.00137236</td>\n",
       "      <td>8.71271e-05</td>\n",
       "      <td>0.00038391</td>\n",
       "      <td>0.000426856</td>\n",
       "      <td>0.000145483</td>\n",
       "      <td>0.000560791</td>\n",
       "      <td>0.000438806</td>\n",
       "      <td>0.00109693</td>\n",
       "      <td>0.00140691</td>\n",
       "      <td>0.000238964</td>\n",
       "      <td>0.000602247</td>\n",
       "      <td>6.42382e-05</td>\n",
       "      <td>0.000130372</td>\n",
       "      <td>0.0017641</td>\n",
       "    </tr>\n",
       "    <tr>\n",
       "      <th>std_score_time</th>\n",
       "      <td>0.015647</td>\n",
       "      <td>0.00955644</td>\n",
       "      <td>0.0407188</td>\n",
       "      <td>0.0259244</td>\n",
       "      <td>0.00907284</td>\n",
       "      <td>0.0209322</td>\n",
       "      <td>0.017187</td>\n",
       "      <td>0.0239132</td>\n",
       "      <td>0.0162302</td>\n",
       "      <td>0.062428</td>\n",
       "      <td>0.0470943</td>\n",
       "      <td>0.00241841</td>\n",
       "      <td>0.0790084</td>\n",
       "      <td>0.00617512</td>\n",
       "      <td>0.0153734</td>\n",
       "      <td>0.0243769</td>\n",
       "      <td>0.0589014</td>\n",
       "      <td>0.0224004</td>\n",
       "    </tr>\n",
       "    <tr>\n",
       "      <th>std_test_score</th>\n",
       "      <td>0.00146616</td>\n",
       "      <td>0.00674447</td>\n",
       "      <td>0.00345872</td>\n",
       "      <td>0.00330193</td>\n",
       "      <td>0.00412947</td>\n",
       "      <td>0.00282945</td>\n",
       "      <td>0.00293971</td>\n",
       "      <td>0.00266297</td>\n",
       "      <td>0.00415198</td>\n",
       "      <td>0.00397803</td>\n",
       "      <td>0.00666292</td>\n",
       "      <td>0.00517</td>\n",
       "      <td>0.0058072</td>\n",
       "      <td>0.00836525</td>\n",
       "      <td>0.011905</td>\n",
       "      <td>0.013011</td>\n",
       "      <td>0.0126616</td>\n",
       "      <td>0.0178242</td>\n",
       "    </tr>\n",
       "    <tr>\n",
       "      <th>std_train_score</th>\n",
       "      <td>0.00245049</td>\n",
       "      <td>0.000676595</td>\n",
       "      <td>0.00350373</td>\n",
       "      <td>0.00475857</td>\n",
       "      <td>0.00608451</td>\n",
       "      <td>0.00496635</td>\n",
       "      <td>0.00475566</td>\n",
       "      <td>0.00613513</td>\n",
       "      <td>0.00483884</td>\n",
       "      <td>0.00691675</td>\n",
       "      <td>0.00434012</td>\n",
       "      <td>0.00358277</td>\n",
       "      <td>0.000946299</td>\n",
       "      <td>0.00293229</td>\n",
       "      <td>0.00407878</td>\n",
       "      <td>0.000555658</td>\n",
       "      <td>0.00604055</td>\n",
       "      <td>0.0104743</td>\n",
       "    </tr>\n",
       "  </tbody>\n",
       "</table>\n",
       "</div>"
      ],
      "text/plain": [
       "                                     15                   17  \\\n",
       "mean_fit_time                0.00689189           0.00799362   \n",
       "mean_score_time                0.438449             0.505713   \n",
       "mean_test_score                0.385396             0.383211   \n",
       "mean_train_score               0.465235             0.457632   \n",
       "param_n_neighbors                    17                   19   \n",
       "params              {'n_neighbors': 17}  {'n_neighbors': 19}   \n",
       "rank_test_score                       1                    2   \n",
       "split0_test_score              0.386994             0.379263   \n",
       "split0_train_score             0.468409             0.457482   \n",
       "split1_test_score              0.383466             0.377861   \n",
       "split1_train_score             0.464855             0.456888   \n",
       "split2_test_score              0.385694             0.392943   \n",
       "split2_train_score             0.462442             0.458525   \n",
       "std_fit_time                2.43797e-05           0.00106073   \n",
       "std_score_time                 0.015647           0.00955644   \n",
       "std_test_score               0.00146616           0.00674447   \n",
       "std_train_score              0.00245049          0.000676595   \n",
       "\n",
       "                                     16                   11  \\\n",
       "mean_fit_time                 0.0079395           0.00699719   \n",
       "mean_score_time                0.475546             0.454855   \n",
       "mean_test_score                0.383211             0.382587   \n",
       "mean_train_score               0.462284             0.475477   \n",
       "param_n_neighbors                    18                   13   \n",
       "params              {'n_neighbors': 18}  {'n_neighbors': 13}   \n",
       "rank_test_score                       2                    4   \n",
       "split0_test_score               0.38563             0.386539   \n",
       "split0_train_score             0.466033             0.482185   \n",
       "split1_test_score              0.378328             0.382532   \n",
       "split1_train_score             0.463215             0.472587   \n",
       "split2_test_score              0.385694             0.378444   \n",
       "split2_train_score             0.457604             0.471659   \n",
       "std_fit_time                 0.00171656          0.000177039   \n",
       "std_score_time                0.0407188            0.0259244   \n",
       "std_test_score               0.00345872           0.00330193   \n",
       "std_train_score              0.00350373           0.00475857   \n",
       "\n",
       "                                     10                   14  \\\n",
       "mean_fit_time                0.00934927           0.00671363   \n",
       "mean_score_time                0.502469             0.445218   \n",
       "mean_test_score                0.382275             0.382275   \n",
       "mean_train_score               0.481664             0.466827   \n",
       "param_n_neighbors                    12                   16   \n",
       "params              {'n_neighbors': 12}  {'n_neighbors': 16}   \n",
       "rank_test_score                       5                    5   \n",
       "split0_test_score              0.387904             0.380173   \n",
       "split0_train_score             0.489311             0.472447   \n",
       "split1_test_score              0.380196             0.386268   \n",
       "split1_train_score             0.481256             0.467666   \n",
       "split2_test_score              0.378444             0.380377   \n",
       "split2_train_score             0.474424             0.460369   \n",
       "std_fit_time                 0.00137236          8.71271e-05   \n",
       "std_score_time               0.00907284            0.0209322   \n",
       "std_test_score               0.00412947           0.00282945   \n",
       "std_train_score              0.00608451           0.00496635   \n",
       "\n",
       "                                     13                   9   \\\n",
       "mean_fit_time                 0.0067184           0.00826327   \n",
       "mean_score_time                0.440141             0.484458   \n",
       "mean_test_score                0.381963             0.381495   \n",
       "mean_train_score               0.469477             0.484549   \n",
       "param_n_neighbors                    15                   11   \n",
       "params              {'n_neighbors': 15}  {'n_neighbors': 11}   \n",
       "rank_test_score                       7                    8   \n",
       "split0_test_score              0.377899             0.385175   \n",
       "split0_train_score             0.474584             0.490261   \n",
       "split1_test_score              0.383933             0.379729   \n",
       "split1_train_score             0.470712             0.487348   \n",
       "split2_test_score              0.384244              0.37941   \n",
       "split2_train_score             0.463134             0.476037   \n",
       "std_fit_time                 0.00038391          0.000426856   \n",
       "std_score_time                 0.017187            0.0239132   \n",
       "std_test_score               0.00293971           0.00266297   \n",
       "std_train_score              0.00475566           0.00613513   \n",
       "\n",
       "                                     12                   8   \\\n",
       "mean_fit_time                0.00681941           0.00786241   \n",
       "mean_score_time                0.448253             0.509784   \n",
       "mean_test_score                0.381339              0.38009   \n",
       "mean_train_score               0.471896             0.492176   \n",
       "param_n_neighbors                    14                   10   \n",
       "params              {'n_neighbors': 14}  {'n_neighbors': 10}   \n",
       "rank_test_score                       9                   10   \n",
       "split0_test_score              0.381537             0.383811   \n",
       "split0_train_score             0.478147             0.493349   \n",
       "split1_test_score              0.386268             0.374591   \n",
       "split1_train_score             0.471181                  0.5   \n",
       "split2_test_score              0.376027             0.381827   \n",
       "split2_train_score             0.466359              0.48318   \n",
       "std_fit_time                0.000145483          0.000560791   \n",
       "std_score_time                0.0162302             0.062428   \n",
       "std_test_score               0.00415198           0.00397803   \n",
       "std_train_score              0.00483884           0.00691675   \n",
       "\n",
       "                                    7                   6   \\\n",
       "mean_fit_time               0.00894117          0.00847054   \n",
       "mean_score_time               0.537106            0.479047   \n",
       "mean_test_score               0.378998             0.37619   \n",
       "mean_train_score              0.500362            0.507525   \n",
       "param_n_neighbors                    9                   8   \n",
       "params              {'n_neighbors': 9}  {'n_neighbors': 8}   \n",
       "rank_test_score                     11                  12   \n",
       "split0_test_score             0.387904            0.378809   \n",
       "split0_train_score              0.5038            0.509264   \n",
       "split1_test_score             0.372256            0.368986   \n",
       "split1_train_score            0.503046            0.510778   \n",
       "split2_test_score              0.37651             0.38086   \n",
       "split2_train_score             0.49424            0.502535   \n",
       "std_fit_time               0.000438806          0.00109693   \n",
       "std_score_time               0.0470943          0.00241841   \n",
       "std_test_score              0.00666292             0.00517   \n",
       "std_train_score             0.00434012          0.00358277   \n",
       "\n",
       "                                    5                   4   \\\n",
       "mean_fit_time               0.00857329          0.00693361   \n",
       "mean_score_time               0.558278            0.435928   \n",
       "mean_test_score               0.373849             0.36636   \n",
       "mean_train_score              0.516918            0.527664   \n",
       "param_n_neighbors                    7                   6   \n",
       "params              {'n_neighbors': 7}  {'n_neighbors': 6}   \n",
       "rank_test_score                     13                  14   \n",
       "split0_test_score             0.378809            0.374716   \n",
       "split0_train_score            0.515677            0.525891   \n",
       "split1_test_score             0.365717            0.354974   \n",
       "split1_train_score            0.517104            0.525305   \n",
       "split2_test_score             0.376994            0.369261   \n",
       "split2_train_score            0.517972            0.531797   \n",
       "std_fit_time                0.00140691         0.000238964   \n",
       "std_score_time               0.0790084          0.00617512   \n",
       "std_test_score               0.0058072          0.00836525   \n",
       "std_train_score            0.000946299          0.00293229   \n",
       "\n",
       "                                    3                   2   \\\n",
       "mean_fit_time               0.00811243          0.00700363   \n",
       "mean_score_time               0.496681             0.47685   \n",
       "mean_test_score               0.359963            0.348572   \n",
       "mean_train_score              0.539661            0.555163   \n",
       "param_n_neighbors                    5                   4   \n",
       "params              {'n_neighbors': 5}  {'n_neighbors': 4}   \n",
       "rank_test_score                     15                  16   \n",
       "split0_test_score             0.370168            0.361073   \n",
       "split0_train_score            0.534204            0.555582   \n",
       "split1_test_score             0.343298            0.330687   \n",
       "split1_train_score            0.540769             0.55553   \n",
       "split2_test_score             0.366361            0.353794   \n",
       "split2_train_score            0.544009            0.554378   \n",
       "std_fit_time               0.000602247         6.42382e-05   \n",
       "std_score_time               0.0153734           0.0243769   \n",
       "std_test_score                0.011905            0.013011   \n",
       "std_train_score             0.00407878         0.000555658   \n",
       "\n",
       "                                    1                   0   \n",
       "mean_fit_time               0.00701547          0.00818642  \n",
       "mean_score_time               0.438623            0.395053  \n",
       "mean_test_score               0.342019            0.334686  \n",
       "mean_train_score              0.574894            0.612137  \n",
       "param_n_neighbors                    3                   2  \n",
       "params              {'n_neighbors': 3}  {'n_neighbors': 2}  \n",
       "rank_test_score                     17                  18  \n",
       "split0_test_score             0.350614            0.332424  \n",
       "split0_train_score            0.570071            0.606888  \n",
       "split1_test_score             0.324148            0.314339  \n",
       "split1_train_score            0.583411            0.626757  \n",
       "split2_test_score             0.351377            0.358144  \n",
       "split2_train_score            0.571198            0.602765  \n",
       "std_fit_time               0.000130372           0.0017641  \n",
       "std_score_time               0.0589014           0.0224004  \n",
       "std_test_score               0.0126616           0.0178242  \n",
       "std_train_score             0.00604055           0.0104743  "
      ]
     },
     "execution_count": 39,
     "metadata": {},
     "output_type": "execute_result"
    }
   ],
   "source": [
    "gs_res_df = pd.DataFrame(gs.cv_results_)\n",
    "gs_res_df.sort_values('mean_test_score',ascending=False).T"
   ]
  },
  {
   "cell_type": "markdown",
   "metadata": {},
   "source": [
    "#### K Neighbors Test Results\n",
    "\n",
    "The cross validation test scores show that this may not be a very good model to use as the highest mean_test_score was 38. But this could because the texts are so long as they're entire wikiedpia articles and summaries. KNN performs well for short texts as it memorizes all examples in the training dataset and then compares them with the test document. But we're working with longer texts where there is a higher likelihood of words being similar across documents. And so we'll continue below to test it out and see how well it performs in predicting a category."
   ]
  },
  {
   "cell_type": "markdown",
   "metadata": {},
   "source": [
    "We are going to test to see if our K Neighbors Classifier is able to determine which category of the following article belongs to. The article is one I found on support vector machines. If the model works well, it'll be able to predict that the category that this article."
   ]
  },
  {
   "cell_type": "code",
   "execution_count": 45,
   "metadata": {
    "collapsed": true
   },
   "outputs": [],
   "source": [
    "svm_article = \"\"\"\n",
    "    A Support Vector Machine (SVM) is a discriminative classifier formally defined by a separating hyperplane. In \n",
    "    other words, given labeled training data (supervised learning), the algorithm outputs an optimal hyperplane which \n",
    "    categorizes new examples. In which sense is the hyperplane obtained optimal? Let’s consider the following simple \n",
    "    problem: For a linearly separable set of 2D-points which belong to one of two classes, find a separating straight \n",
    "    line.\n",
    "    \n",
    "    Then, the operation of the SVM algorithm is based on finding the hyperplane that gives the largest minimum \n",
    "    distance to the training examples. Twice, this distance receives the important name of margin within SVM’s theory. \n",
    "    Therefore, the optimal separating hyperplane maximizes the margin of the training data.\n",
    "\"\"\""
   ]
  },
  {
   "cell_type": "code",
   "execution_count": 46,
   "metadata": {
    "collapsed": true
   },
   "outputs": [],
   "source": [
    "svm_article_tfidf_matrix = tfidf_vectorizer.transform([svm_article])"
   ]
  },
  {
   "cell_type": "code",
   "execution_count": 47,
   "metadata": {},
   "outputs": [
    {
     "data": {
      "text/plain": [
       "array([31176997])"
      ]
     },
     "execution_count": 47,
     "metadata": {},
     "output_type": "execute_result"
    }
   ],
   "source": [
    "gs.best_estimator_.predict(svm_article_tfidf_matrix)"
   ]
  },
  {
   "cell_type": "markdown",
   "metadata": {},
   "source": [
    "It looks like KNN predicted that Techopedia's Perceptron article would be under category id 706543.\n",
    "Let's see what category this is. Need to query from the categories table within the postgres database"
   ]
  },
  {
   "cell_type": "code",
   "execution_count": 48,
   "metadata": {
    "collapsed": true
   },
   "outputs": [],
   "source": [
    "import psycopg2 as pg2\n",
    "from psycopg2.extras import RealDictCursor\n",
    "\n",
    "def execute_query(query):  \n",
    "    connection = pg2.connect(host='postgres',\n",
    "                             user='postgres',\n",
    "                             database='wikipedia')\n",
    "    cursor = connection.cursor(cursor_factory=RealDictCursor)\n",
    "    cursor.execute(query)\n",
    "    r = cursor.fetchall()\n",
    "    cursor.close()\n",
    "    return r\n",
    "\n",
    "def query_to_df(query):\n",
    "    df = pd.DataFrame(execute_query(query))\n",
    "    return df"
   ]
  },
  {
   "cell_type": "code",
   "execution_count": 49,
   "metadata": {},
   "outputs": [
    {
     "data": {
      "text/html": [
       "<div>\n",
       "<table border=\"1\" class=\"dataframe\">\n",
       "  <thead>\n",
       "    <tr style=\"text-align: right;\">\n",
       "      <th></th>\n",
       "      <th>category_id</th>\n",
       "      <th>category_name</th>\n",
       "      <th>category_summary</th>\n",
       "      <th>url</th>\n",
       "    </tr>\n",
       "  </thead>\n",
       "  <tbody>\n",
       "    <tr>\n",
       "      <th>0</th>\n",
       "      <td>31176997</td>\n",
       "      <td>Category:Support vector machines</td>\n",
       "      <td>None</td>\n",
       "      <td>https://en.wikipedia.org/wiki/Category:Support...</td>\n",
       "    </tr>\n",
       "  </tbody>\n",
       "</table>\n",
       "</div>"
      ],
      "text/plain": [
       "   category_id                     category_name category_summary  \\\n",
       "0     31176997  Category:Support vector machines             None   \n",
       "\n",
       "                                                 url  \n",
       "0  https://en.wikipedia.org/wiki/Category:Support...  "
      ]
     },
     "execution_count": 49,
     "metadata": {},
     "output_type": "execute_result"
    }
   ],
   "source": [
    "predicted_category = query_to_df(\"\"\"\n",
    "    SELECT * \n",
    "    FROM categories\n",
    "    WHERE category_id = 31176997;\n",
    "\"\"\")\n",
    "predicted_category"
   ]
  },
  {
   "cell_type": "markdown",
   "metadata": {},
   "source": [
    "The KNN model predicted that this article belongs to the \"Support vector machines\" category. Pretty good! That's what we were looking for. Let's see what it actually is in on wikipedia."
   ]
  },
  {
   "cell_type": "code",
   "execution_count": 52,
   "metadata": {},
   "outputs": [
    {
     "data": {
      "text/html": [
       "<div>\n",
       "<table border=\"1\" class=\"dataframe\">\n",
       "  <thead>\n",
       "    <tr style=\"text-align: right;\">\n",
       "      <th></th>\n",
       "      <th>category_id</th>\n",
       "      <th>category_name</th>\n",
       "      <th>page_id</th>\n",
       "      <th>title</th>\n",
       "    </tr>\n",
       "  </thead>\n",
       "  <tbody>\n",
       "    <tr>\n",
       "      <th>0</th>\n",
       "      <td>1991254</td>\n",
       "      <td>Category:Classification algorithms</td>\n",
       "      <td>65309</td>\n",
       "      <td>Support vector machine</td>\n",
       "    </tr>\n",
       "    <tr>\n",
       "      <th>1</th>\n",
       "      <td>31176997</td>\n",
       "      <td>Category:Support vector machines</td>\n",
       "      <td>65309</td>\n",
       "      <td>Support vector machine</td>\n",
       "    </tr>\n",
       "  </tbody>\n",
       "</table>\n",
       "</div>"
      ],
      "text/plain": [
       "   category_id                       category_name  page_id  \\\n",
       "0      1991254  Category:Classification algorithms    65309   \n",
       "1     31176997    Category:Support vector machines    65309   \n",
       "\n",
       "                    title  \n",
       "0  Support vector machine  \n",
       "1  Support vector machine  "
      ]
     },
     "execution_count": 52,
     "metadata": {},
     "output_type": "execute_result"
    }
   ],
   "source": [
    "actual_category = query_to_df(\"\"\"\n",
    "    SELECT page_id, title, category_id, category_name\n",
    "    FROM categories_pages\n",
    "    WHERE title = 'Support vector machine';\n",
    "\"\"\")\n",
    "actual_category.drop_duplicates()"
   ]
  },
  {
   "cell_type": "markdown",
   "metadata": {},
   "source": [
    "It looks like the actual category is Classification alorithms and Support vector machines - so it predicted accurately! Speaking of support vector machines, lets try it out for NLP on our data!"
   ]
  },
  {
   "cell_type": "markdown",
   "metadata": {},
   "source": [
    "## SVM Category Classification\n",
    "\n",
    "Most values in the document term matrix will be zeros since for a given document less than a couple thousands of distinct words will be used. For this reason we say that bags of words are typically high-dimensional sparse datasets.\n",
    "\n",
    "Support Vector Classification could perform better for what we are asking it to do because it is effective in high dimensinoal spaces and is more effective in cases where the number of dimensions is greater than the number of samples.\n",
    "\n",
    "We tune a few parameters.\n",
    "\n",
    "C: Penalty parameter C of the error term. It also controls the trade off between smooth decision boundary and classifying the training points correctly.\n",
    "\n",
    "![C](https://git.generalassemb.ly/raw/michaelkim9/semantic_search/master/other_assets/svm_c.png)\n",
    "\n",
    "gamma: This is for kernels that are non-linear. Higher the value of gamma, will try to exact fit the as per training data set i.e. generalization error and cause over-fitting problem.\n",
    "\n",
    "![gamma](https://git.generalassemb.ly/raw/michaelkim9/semantic_search/master/other_assets/svm_gamma.png)"
   ]
  },
  {
   "cell_type": "markdown",
   "metadata": {},
   "source": [
    "We'll try out the linear kernel first as there are some advantages to that. This is because most of text classification problems are linearly separable. Also, the linear kernel is good when there is a lot of features. That's because mapping the data to a higher dimensional space does not really improve the performance. In text classification, both the numbers of instances (document) and features (words) are large.\n",
    "\n",
    "And finally, training a SVM with a linear kernel is faster than with another kernel.\n",
    "\n",
    "![linear_svc](https://git.generalassemb.ly/raw/michaelkim9/semantic_search/master/other_assets/svc_linear.png)"
   ]
  },
  {
   "cell_type": "code",
   "execution_count": 53,
   "metadata": {
    "collapsed": true
   },
   "outputs": [],
   "source": [
    "from sklearn.svm import SVC"
   ]
  },
  {
   "cell_type": "code",
   "execution_count": 54,
   "metadata": {},
   "outputs": [
    {
     "name": "stderr",
     "output_type": "stream",
     "text": [
      "/opt/conda/lib/python3.5/site-packages/sklearn/model_selection/_split.py:581: Warning: The least populated class in y has only 1 members, which is too few. The minimum number of groups for any class cannot be less than n_splits=10.\n",
      "  % (min_groups, self.n_splits)), Warning)\n"
     ]
    },
    {
     "data": {
      "text/plain": [
       "GridSearchCV(cv=10, error_score='raise',\n",
       "       estimator=SVC(C=1.0, cache_size=200, class_weight=None, coef0=0.0,\n",
       "  decision_function_shape=None, degree=3, gamma='auto', kernel='linear',\n",
       "  max_iter=-1, probability=False, random_state=None, shrinking=True,\n",
       "  tol=0.001, verbose=False),\n",
       "       fit_params={}, iid=True, n_jobs=1,\n",
       "       param_grid=[{'C': [0.01, 0.1, 1, 10, 100]}],\n",
       "       pre_dispatch='2*n_jobs', refit=True, return_train_score=True,\n",
       "       scoring='accuracy', verbose=0)"
      ]
     },
     "execution_count": 54,
     "metadata": {},
     "output_type": "execute_result"
    }
   ],
   "source": [
    "linear_svc = SVC(kernel='linear')\n",
    "linear_parameters = [{'C': [0.01, 0.1, 1, 10, 100]}]\n",
    "linear_clf = GridSearchCV(linear_svc, linear_parameters, cv=10, scoring='accuracy')\n",
    "linear_clf.fit(document_term_matrix_sps, df['category_id'])"
   ]
  },
  {
   "cell_type": "code",
   "execution_count": 55,
   "metadata": {},
   "outputs": [
    {
     "data": {
      "text/plain": [
       "['svc_linear']"
      ]
     },
     "execution_count": 55,
     "metadata": {},
     "output_type": "execute_result"
    }
   ],
   "source": [
    "joblib.dump(linear_clf, 'svc_linear')"
   ]
  },
  {
   "cell_type": "code",
   "execution_count": 56,
   "metadata": {},
   "outputs": [
    {
     "data": {
      "text/html": [
       "<div>\n",
       "<table border=\"1\" class=\"dataframe\">\n",
       "  <thead>\n",
       "    <tr style=\"text-align: right;\">\n",
       "      <th></th>\n",
       "      <th>3</th>\n",
       "      <th>4</th>\n",
       "      <th>2</th>\n",
       "      <th>1</th>\n",
       "      <th>0</th>\n",
       "    </tr>\n",
       "  </thead>\n",
       "  <tbody>\n",
       "    <tr>\n",
       "      <th>mean_fit_time</th>\n",
       "      <td>32.3504</td>\n",
       "      <td>33.8149</td>\n",
       "      <td>34.2609</td>\n",
       "      <td>32.4384</td>\n",
       "      <td>27.4162</td>\n",
       "    </tr>\n",
       "    <tr>\n",
       "      <th>mean_score_time</th>\n",
       "      <td>2.19778</td>\n",
       "      <td>2.29993</td>\n",
       "      <td>2.40237</td>\n",
       "      <td>2.47691</td>\n",
       "      <td>2.31584</td>\n",
       "    </tr>\n",
       "    <tr>\n",
       "      <th>mean_test_score</th>\n",
       "      <td>0.46934</td>\n",
       "      <td>0.46934</td>\n",
       "      <td>0.461851</td>\n",
       "      <td>0.141676</td>\n",
       "      <td>0.046029</td>\n",
       "    </tr>\n",
       "    <tr>\n",
       "      <th>mean_train_score</th>\n",
       "      <td>0.784797</td>\n",
       "      <td>0.784797</td>\n",
       "      <td>0.764564</td>\n",
       "      <td>0.158101</td>\n",
       "      <td>0.0460334</td>\n",
       "    </tr>\n",
       "    <tr>\n",
       "      <th>param_C</th>\n",
       "      <td>10</td>\n",
       "      <td>100</td>\n",
       "      <td>1</td>\n",
       "      <td>0.1</td>\n",
       "      <td>0.01</td>\n",
       "    </tr>\n",
       "    <tr>\n",
       "      <th>params</th>\n",
       "      <td>{'C': 10}</td>\n",
       "      <td>{'C': 100}</td>\n",
       "      <td>{'C': 1}</td>\n",
       "      <td>{'C': 0.1}</td>\n",
       "      <td>{'C': 0.01}</td>\n",
       "    </tr>\n",
       "    <tr>\n",
       "      <th>rank_test_score</th>\n",
       "      <td>1</td>\n",
       "      <td>1</td>\n",
       "      <td>3</td>\n",
       "      <td>4</td>\n",
       "      <td>5</td>\n",
       "    </tr>\n",
       "    <tr>\n",
       "      <th>split0_test_score</th>\n",
       "      <td>0.481682</td>\n",
       "      <td>0.481682</td>\n",
       "      <td>0.470828</td>\n",
       "      <td>0.134328</td>\n",
       "      <td>0.0407056</td>\n",
       "    </tr>\n",
       "    <tr>\n",
       "      <th>split0_train_score</th>\n",
       "      <td>0.782969</td>\n",
       "      <td>0.782969</td>\n",
       "      <td>0.763752</td>\n",
       "      <td>0.159556</td>\n",
       "      <td>0.0467207</td>\n",
       "    </tr>\n",
       "    <tr>\n",
       "      <th>split1_test_score</th>\n",
       "      <td>0.444909</td>\n",
       "      <td>0.444909</td>\n",
       "      <td>0.430962</td>\n",
       "      <td>0.125523</td>\n",
       "      <td>0.041841</td>\n",
       "    </tr>\n",
       "    <tr>\n",
       "      <th>split1_train_score</th>\n",
       "      <td>0.786543</td>\n",
       "      <td>0.786543</td>\n",
       "      <td>0.765812</td>\n",
       "      <td>0.159874</td>\n",
       "      <td>0.0465566</td>\n",
       "    </tr>\n",
       "    <tr>\n",
       "      <th>split2_test_score</th>\n",
       "      <td>0.458333</td>\n",
       "      <td>0.458333</td>\n",
       "      <td>0.446839</td>\n",
       "      <td>0.122126</td>\n",
       "      <td>0.0431034</td>\n",
       "    </tr>\n",
       "    <tr>\n",
       "      <th>split2_train_score</th>\n",
       "      <td>0.785402</td>\n",
       "      <td>0.785402</td>\n",
       "      <td>0.764922</td>\n",
       "      <td>0.159461</td>\n",
       "      <td>0.0463854</td>\n",
       "    </tr>\n",
       "    <tr>\n",
       "      <th>split3_test_score</th>\n",
       "      <td>0.456296</td>\n",
       "      <td>0.456296</td>\n",
       "      <td>0.451852</td>\n",
       "      <td>0.134815</td>\n",
       "      <td>0.0444444</td>\n",
       "    </tr>\n",
       "    <tr>\n",
       "      <th>split3_train_score</th>\n",
       "      <td>0.78828</td>\n",
       "      <td>0.78828</td>\n",
       "      <td>0.766306</td>\n",
       "      <td>0.158005</td>\n",
       "      <td>0.0462156</td>\n",
       "    </tr>\n",
       "    <tr>\n",
       "      <th>split4_test_score</th>\n",
       "      <td>0.446841</td>\n",
       "      <td>0.446841</td>\n",
       "      <td>0.4453</td>\n",
       "      <td>0.14792</td>\n",
       "      <td>0.046225</td>\n",
       "    </tr>\n",
       "    <tr>\n",
       "      <th>split4_train_score</th>\n",
       "      <td>0.786979</td>\n",
       "      <td>0.786979</td>\n",
       "      <td>0.768056</td>\n",
       "      <td>0.155556</td>\n",
       "      <td>0.0460069</td>\n",
       "    </tr>\n",
       "    <tr>\n",
       "      <th>split5_test_score</th>\n",
       "      <td>0.461538</td>\n",
       "      <td>0.461538</td>\n",
       "      <td>0.455128</td>\n",
       "      <td>0.155449</td>\n",
       "      <td>0.0464744</td>\n",
       "    </tr>\n",
       "    <tr>\n",
       "      <th>split5_train_score</th>\n",
       "      <td>0.787381</td>\n",
       "      <td>0.787381</td>\n",
       "      <td>0.766119</td>\n",
       "      <td>0.15592</td>\n",
       "      <td>0.045981</td>\n",
       "    </tr>\n",
       "    <tr>\n",
       "      <th>split6_test_score</th>\n",
       "      <td>0.445183</td>\n",
       "      <td>0.445183</td>\n",
       "      <td>0.44186</td>\n",
       "      <td>0.141196</td>\n",
       "      <td>0.0481728</td>\n",
       "    </tr>\n",
       "    <tr>\n",
       "      <th>split6_train_score</th>\n",
       "      <td>0.788014</td>\n",
       "      <td>0.788014</td>\n",
       "      <td>0.768211</td>\n",
       "      <td>0.159463</td>\n",
       "      <td>0.0458068</td>\n",
       "    </tr>\n",
       "    <tr>\n",
       "      <th>split7_test_score</th>\n",
       "      <td>0.476351</td>\n",
       "      <td>0.476351</td>\n",
       "      <td>0.471284</td>\n",
       "      <td>0.136824</td>\n",
       "      <td>0.0489865</td>\n",
       "    </tr>\n",
       "    <tr>\n",
       "      <th>split7_train_score</th>\n",
       "      <td>0.782362</td>\n",
       "      <td>0.782362</td>\n",
       "      <td>0.762764</td>\n",
       "      <td>0.158845</td>\n",
       "      <td>0.045728</td>\n",
       "    </tr>\n",
       "    <tr>\n",
       "      <th>split8_test_score</th>\n",
       "      <td>0.510638</td>\n",
       "      <td>0.510638</td>\n",
       "      <td>0.5</td>\n",
       "      <td>0.163121</td>\n",
       "      <td>0.0514184</td>\n",
       "    </tr>\n",
       "    <tr>\n",
       "      <th>split8_train_score</th>\n",
       "      <td>0.780325</td>\n",
       "      <td>0.780325</td>\n",
       "      <td>0.761506</td>\n",
       "      <td>0.157057</td>\n",
       "      <td>0.045509</td>\n",
       "    </tr>\n",
       "    <tr>\n",
       "      <th>split9_test_score</th>\n",
       "      <td>0.526221</td>\n",
       "      <td>0.526221</td>\n",
       "      <td>0.520796</td>\n",
       "      <td>0.166365</td>\n",
       "      <td>0.0524412</td>\n",
       "    </tr>\n",
       "    <tr>\n",
       "      <th>split9_train_score</th>\n",
       "      <td>0.779713</td>\n",
       "      <td>0.779713</td>\n",
       "      <td>0.758197</td>\n",
       "      <td>0.157275</td>\n",
       "      <td>0.0454235</td>\n",
       "    </tr>\n",
       "    <tr>\n",
       "      <th>std_fit_time</th>\n",
       "      <td>0.623985</td>\n",
       "      <td>1.53858</td>\n",
       "      <td>0.996959</td>\n",
       "      <td>0.959306</td>\n",
       "      <td>1.38029</td>\n",
       "    </tr>\n",
       "    <tr>\n",
       "      <th>std_score_time</th>\n",
       "      <td>0.180995</td>\n",
       "      <td>0.197058</td>\n",
       "      <td>0.231823</td>\n",
       "      <td>0.28212</td>\n",
       "      <td>0.129887</td>\n",
       "    </tr>\n",
       "    <tr>\n",
       "      <th>std_test_score</th>\n",
       "      <td>0.0257131</td>\n",
       "      <td>0.0257131</td>\n",
       "      <td>0.0256275</td>\n",
       "      <td>0.0141258</td>\n",
       "      <td>0.00371235</td>\n",
       "    </tr>\n",
       "    <tr>\n",
       "      <th>std_train_score</th>\n",
       "      <td>0.00304062</td>\n",
       "      <td>0.00304062</td>\n",
       "      <td>0.0029398</td>\n",
       "      <td>0.001501</td>\n",
       "      <td>0.000412103</td>\n",
       "    </tr>\n",
       "  </tbody>\n",
       "</table>\n",
       "</div>"
      ],
      "text/plain": [
       "                             3           4          2           1            0\n",
       "mean_fit_time          32.3504     33.8149    34.2609     32.4384      27.4162\n",
       "mean_score_time        2.19778     2.29993    2.40237     2.47691      2.31584\n",
       "mean_test_score        0.46934     0.46934   0.461851    0.141676     0.046029\n",
       "mean_train_score      0.784797    0.784797   0.764564    0.158101    0.0460334\n",
       "param_C                     10         100          1         0.1         0.01\n",
       "params               {'C': 10}  {'C': 100}   {'C': 1}  {'C': 0.1}  {'C': 0.01}\n",
       "rank_test_score              1           1          3           4            5\n",
       "split0_test_score     0.481682    0.481682   0.470828    0.134328    0.0407056\n",
       "split0_train_score    0.782969    0.782969   0.763752    0.159556    0.0467207\n",
       "split1_test_score     0.444909    0.444909   0.430962    0.125523     0.041841\n",
       "split1_train_score    0.786543    0.786543   0.765812    0.159874    0.0465566\n",
       "split2_test_score     0.458333    0.458333   0.446839    0.122126    0.0431034\n",
       "split2_train_score    0.785402    0.785402   0.764922    0.159461    0.0463854\n",
       "split3_test_score     0.456296    0.456296   0.451852    0.134815    0.0444444\n",
       "split3_train_score     0.78828     0.78828   0.766306    0.158005    0.0462156\n",
       "split4_test_score     0.446841    0.446841     0.4453     0.14792     0.046225\n",
       "split4_train_score    0.786979    0.786979   0.768056    0.155556    0.0460069\n",
       "split5_test_score     0.461538    0.461538   0.455128    0.155449    0.0464744\n",
       "split5_train_score    0.787381    0.787381   0.766119     0.15592     0.045981\n",
       "split6_test_score     0.445183    0.445183    0.44186    0.141196    0.0481728\n",
       "split6_train_score    0.788014    0.788014   0.768211    0.159463    0.0458068\n",
       "split7_test_score     0.476351    0.476351   0.471284    0.136824    0.0489865\n",
       "split7_train_score    0.782362    0.782362   0.762764    0.158845     0.045728\n",
       "split8_test_score     0.510638    0.510638        0.5    0.163121    0.0514184\n",
       "split8_train_score    0.780325    0.780325   0.761506    0.157057     0.045509\n",
       "split9_test_score     0.526221    0.526221   0.520796    0.166365    0.0524412\n",
       "split9_train_score    0.779713    0.779713   0.758197    0.157275    0.0454235\n",
       "std_fit_time          0.623985     1.53858   0.996959    0.959306      1.38029\n",
       "std_score_time        0.180995    0.197058   0.231823     0.28212     0.129887\n",
       "std_test_score       0.0257131   0.0257131  0.0256275   0.0141258   0.00371235\n",
       "std_train_score     0.00304062  0.00304062  0.0029398    0.001501  0.000412103"
      ]
     },
     "execution_count": 56,
     "metadata": {},
     "output_type": "execute_result"
    }
   ],
   "source": [
    "pd.DataFrame(linear_clf.cv_results_).sort_values('rank_test_score', ascending=True).T"
   ]
  },
  {
   "cell_type": "code",
   "execution_count": 57,
   "metadata": {},
   "outputs": [
    {
     "data": {
      "text/plain": [
       "array([31176997])"
      ]
     },
     "execution_count": 57,
     "metadata": {},
     "output_type": "execute_result"
    }
   ],
   "source": [
    "linear_clf.best_estimator_.predict(svm_article_tfidf_matrix)"
   ]
  },
  {
   "cell_type": "markdown",
   "metadata": {},
   "source": [
    "The linear Support Vector Classifier predicted category id 31176997. Let's check to see if it's correct!"
   ]
  },
  {
   "cell_type": "code",
   "execution_count": 58,
   "metadata": {},
   "outputs": [
    {
     "data": {
      "text/html": [
       "<div>\n",
       "<table border=\"1\" class=\"dataframe\">\n",
       "  <thead>\n",
       "    <tr style=\"text-align: right;\">\n",
       "      <th></th>\n",
       "      <th>category_id</th>\n",
       "      <th>category_name</th>\n",
       "      <th>category_summary</th>\n",
       "      <th>url</th>\n",
       "    </tr>\n",
       "  </thead>\n",
       "  <tbody>\n",
       "    <tr>\n",
       "      <th>0</th>\n",
       "      <td>31176997</td>\n",
       "      <td>Category:Support vector machines</td>\n",
       "      <td>None</td>\n",
       "      <td>https://en.wikipedia.org/wiki/Category:Support...</td>\n",
       "    </tr>\n",
       "  </tbody>\n",
       "</table>\n",
       "</div>"
      ],
      "text/plain": [
       "   category_id                     category_name category_summary  \\\n",
       "0     31176997  Category:Support vector machines             None   \n",
       "\n",
       "                                                 url  \n",
       "0  https://en.wikipedia.org/wiki/Category:Support...  "
      ]
     },
     "execution_count": 58,
     "metadata": {},
     "output_type": "execute_result"
    }
   ],
   "source": [
    "linear_svc_predicted_category = query_to_df(\"\"\"\n",
    "    SELECT * \n",
    "    FROM categories\n",
    "    WHERE category_id = 31176997;\n",
    "\"\"\")\n",
    "linear_svc_predicted_category"
   ]
  },
  {
   "cell_type": "markdown",
   "metadata": {},
   "source": [
    "The linear Support Vector Classifier predicted the category Support vector machines also!\n",
    "\n",
    "The linear kernel is not the only solution and in some cases using another kernel might be better. I wrote out the code below for the rbf kernel but because it takes a really long time to run, I didn't run it in this notebook. For the rbf kernel, we would need to add another parameter to tune within the gridsearch (the gamma).\n",
    "\n",
    "Though both KNN and SVM predicted the same category for the article, it looks like based on the cross-validation scores, the SVM performed a little better."
   ]
  },
  {
   "cell_type": "code",
   "execution_count": null,
   "metadata": {
    "collapsed": true
   },
   "outputs": [],
   "source": [
    "rbf_svc = SVC(kernel='rbf')\n",
    "tuned_parameters = [{'C': [0.01, 0.1, 1, 10, 100],\n",
    "                     'gamma': [0.5, 1,2,3,4]}]\n",
    "rbf_clf_gs = GridSearchCV(rbf_svc, tuned_parameters, cv=10, scoring='accuracy')\n",
    "rbf_clf_gs.fit(latent_semantic_analysis, df['category_id'])"
   ]
  },
  {
   "cell_type": "markdown",
   "metadata": {},
   "source": [
    "## Multinomial Naive Bayes\n",
    "\n",
    "We could try a Naive Bayes model. These classifiers learn parameters by looking at each feature individually and collect simple per-class statistics from each feature. Here we are going to use the Multinomial Naive Bayes Classifier which assumes count data (that is, each feature represents an integer count of something, like how often a word appears in a sentence). So we'll need to use the count vectorizer for this model. The Multinomial NB will take into account the average value of each feature for each class. To make a prediction, the data points are compared to the statistics for each of the classes and the best matching class is predicted. "
   ]
  },
  {
   "cell_type": "code",
   "execution_count": 75,
   "metadata": {
    "collapsed": true
   },
   "outputs": [],
   "source": [
    "from sklearn.cross_validation import train_test_split\n",
    "from sklearn.naive_bayes import MultinomialNB\n",
    "from sklearn.pipeline import Pipeline"
   ]
  },
  {
   "cell_type": "code",
   "execution_count": 62,
   "metadata": {
    "collapsed": true
   },
   "outputs": [],
   "source": [
    "#train test split the data\n",
    "X_train, X_test, y_train, y_test = train_test_split(df['clean_text'], df['category_id'], test_size=0.2, random_state=42)"
   ]
  },
  {
   "cell_type": "code",
   "execution_count": 78,
   "metadata": {},
   "outputs": [
    {
     "data": {
      "text/plain": [
       "Pipeline(steps=[('vect', CountVectorizer(analyzer='word', binary=False, decode_error='strict',\n",
       "        dtype=<class 'numpy.int64'>, encoding='utf-8', input='content',\n",
       "        lowercase=True, max_df=1.0, max_features=None, min_df=3,\n",
       "        ngram_range=(1, 1), preprocessor=None,\n",
       "        stop_words={'afterward...enizer=None, vocabulary=None)), ('cls', MultinomialNB(alpha=1.0, class_prior=None, fit_prior=True))])"
      ]
     },
     "execution_count": 78,
     "metadata": {},
     "output_type": "execute_result"
    }
   ],
   "source": [
    "# MultinomialNB\n",
    "pipeline = Pipeline([\n",
    "    ('vect', CountVectorizer(min_df=3, stop_words=STOP_WORDS)),\n",
    "    ('cls', MultinomialNB())\n",
    "]) \n",
    "pipeline.fit(X_train,y_train)"
   ]
  },
  {
   "cell_type": "code",
   "execution_count": 79,
   "metadata": {},
   "outputs": [
    {
     "data": {
      "text/plain": [
       "0.39859594383775349"
      ]
     },
     "execution_count": 79,
     "metadata": {},
     "output_type": "execute_result"
    }
   ],
   "source": [
    "pipeline.score(X_test,y_test)"
   ]
  },
  {
   "cell_type": "code",
   "execution_count": 82,
   "metadata": {},
   "outputs": [
    {
     "data": {
      "text/plain": [
       "array([1991254])"
      ]
     },
     "execution_count": 82,
     "metadata": {},
     "output_type": "execute_result"
    }
   ],
   "source": [
    "pipeline.predict([svm_article])"
   ]
  },
  {
   "cell_type": "markdown",
   "metadata": {},
   "source": [
    "It looks like the Multinomial NB Classifier predicted category id 1991254. Lets check it out!"
   ]
  },
  {
   "cell_type": "code",
   "execution_count": 83,
   "metadata": {},
   "outputs": [
    {
     "data": {
      "text/html": [
       "<div>\n",
       "<table border=\"1\" class=\"dataframe\">\n",
       "  <thead>\n",
       "    <tr style=\"text-align: right;\">\n",
       "      <th></th>\n",
       "      <th>category_id</th>\n",
       "      <th>category_name</th>\n",
       "      <th>category_summary</th>\n",
       "      <th>url</th>\n",
       "    </tr>\n",
       "  </thead>\n",
       "  <tbody>\n",
       "    <tr>\n",
       "      <th>0</th>\n",
       "      <td>1991254</td>\n",
       "      <td>Category:Classification algorithms</td>\n",
       "      <td>This category is about statistical classificat...</td>\n",
       "      <td>https://en.wikipedia.org/wiki/Category:Classif...</td>\n",
       "    </tr>\n",
       "  </tbody>\n",
       "</table>\n",
       "</div>"
      ],
      "text/plain": [
       "   category_id                       category_name  \\\n",
       "0      1991254  Category:Classification algorithms   \n",
       "\n",
       "                                    category_summary  \\\n",
       "0  This category is about statistical classificat...   \n",
       "\n",
       "                                                 url  \n",
       "0  https://en.wikipedia.org/wiki/Category:Classif...  "
      ]
     },
     "execution_count": 83,
     "metadata": {},
     "output_type": "execute_result"
    }
   ],
   "source": [
    "multinomialnb_predicted_category = query_to_df(\"\"\"\n",
    "    SELECT * \n",
    "    FROM categories\n",
    "    WHERE category_id = 1991254;\n",
    "\"\"\")\n",
    "multinomialnb_predicted_category"
   ]
  },
  {
   "cell_type": "markdown",
   "metadata": {},
   "source": [
    "This time we got Classification algorithms as the predicted category. If you remember from above, the actual categories that the Wikipedia page for support vector machines belongs to is Support Vector Machines and Classification algorithms.\n",
    "\n",
    "Previously, KNN and SVM both predicted the category Support Vector Machines. This time, MultinomialNB predicted the other category Classification algorithms! Both are correct as the page Support Vector Machines belongs to both of these categories in Wikipedia."
   ]
  },
  {
   "cell_type": "code",
   "execution_count": null,
   "metadata": {
    "collapsed": true
   },
   "outputs": [],
   "source": []
  }
 ],
 "metadata": {
  "kernelspec": {
   "display_name": "Python 3",
   "language": "python",
   "name": "python3"
  },
  "language_info": {
   "codemirror_mode": {
    "name": "ipython",
    "version": 3
   },
   "file_extension": ".py",
   "mimetype": "text/x-python",
   "name": "python",
   "nbconvert_exporter": "python",
   "pygments_lexer": "ipython3",
   "version": "3.5.2"
  }
 },
 "nbformat": 4,
 "nbformat_minor": 2
}
