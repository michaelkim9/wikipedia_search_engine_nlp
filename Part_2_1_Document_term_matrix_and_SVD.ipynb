{
 "cells": [
  {
   "cell_type": "code",
   "execution_count": 1,
   "metadata": {
    "collapsed": true
   },
   "outputs": [],
   "source": [
    "import matplotlib.pyplot as plt\n",
    "import numpy as np\n",
    "import pandas as pd\n",
    "import seaborn as sns\n",
    "\n",
    "%matplotlib inline"
   ]
  },
  {
   "cell_type": "markdown",
   "metadata": {},
   "source": [
    "### Connecting to Postgres \n",
    "\n",
    "In order to set up the PostGres Database, we used docker-compose to build the jupyter and postgres containers. However, we run into the issue with data persistence as when the PostGres container goes down, the data within that container gets removed. And so we need to create a volume that houses all our data so that whenever our container goes down, the volume will hold all of it. And when the container comes back up, the volume will be operating in the container.\n",
    "\n",
    "The diagram below shows the setup for this. Also running is our Jupyter notebook container for which this current notebook is running on."
   ]
  },
  {
   "cell_type": "markdown",
   "metadata": {},
   "source": [
    "![postgres](https://raw.githubusercontent.com/michaelkim9/wikipedia_search_engine_nlp/master/other_assets/docker_postgres_setup.PNG)"
   ]
  },
  {
   "cell_type": "code",
   "execution_count": 2,
   "metadata": {
    "collapsed": true
   },
   "outputs": [],
   "source": [
    "import psycopg2 as pg2\n",
    "from psycopg2.extras import RealDictCursor\n",
    "\n",
    "def execute_query(query):  \n",
    "    connection = pg2.connect(host='postgres',\n",
    "                             user='postgres',\n",
    "                             database='wikipedia')\n",
    "    cursor = connection.cursor(cursor_factory=RealDictCursor)\n",
    "    cursor.execute(query)\n",
    "    r = cursor.fetchall()\n",
    "    cursor.close()\n",
    "    return r\n",
    "\n",
    "def query_to_df(query):\n",
    "    df = pd.DataFrame(execute_query(query))\n",
    "    return df\n"
   ]
  },
  {
   "cell_type": "markdown",
   "metadata": {},
   "source": [
    "### EDA on the tables\n",
    "Doing some initial investigation of the tables. Will need to do some data cleaning below\n",
    "\n",
    "##### Categories Table"
   ]
  },
  {
   "cell_type": "code",
   "execution_count": 3,
   "metadata": {},
   "outputs": [
    {
     "data": {
      "text/html": [
       "<div>\n",
       "<table border=\"1\" class=\"dataframe\">\n",
       "  <thead>\n",
       "    <tr style=\"text-align: right;\">\n",
       "      <th></th>\n",
       "      <th>category_id</th>\n",
       "      <th>category_name</th>\n",
       "      <th>category_summary</th>\n",
       "      <th>url</th>\n",
       "    </tr>\n",
       "  </thead>\n",
       "  <tbody>\n",
       "    <tr>\n",
       "      <th>0</th>\n",
       "      <td>706543</td>\n",
       "      <td>Category:Machine_learning</td>\n",
       "      <td>Machine learning is a branch of statistics and...</td>\n",
       "      <td>https://en.wikipedia.org/wiki/Category:Machine...</td>\n",
       "    </tr>\n",
       "    <tr>\n",
       "      <th>1</th>\n",
       "      <td>33547387</td>\n",
       "      <td>Category:Applied machine learning</td>\n",
       "      <td>None</td>\n",
       "      <td>https://en.wikipedia.org/wiki/Category:Applied...</td>\n",
       "    </tr>\n",
       "    <tr>\n",
       "      <th>2</th>\n",
       "      <td>42936114</td>\n",
       "      <td>Category:Artificial neural networks</td>\n",
       "      <td>This category are for articles about artificia...</td>\n",
       "      <td>https://en.wikipedia.org/wiki/Category:Artific...</td>\n",
       "    </tr>\n",
       "    <tr>\n",
       "      <th>3</th>\n",
       "      <td>49119651</td>\n",
       "      <td>Category:Deep learning</td>\n",
       "      <td>None</td>\n",
       "      <td>https://en.wikipedia.org/wiki/Category:Deep_le...</td>\n",
       "    </tr>\n",
       "    <tr>\n",
       "      <th>4</th>\n",
       "      <td>3735046</td>\n",
       "      <td>Category:Neural network software</td>\n",
       "      <td>This category lists Artificial neural network ...</td>\n",
       "      <td>https://en.wikipedia.org/wiki/Category:Neural_...</td>\n",
       "    </tr>\n",
       "  </tbody>\n",
       "</table>\n",
       "</div>"
      ],
      "text/plain": [
       "   category_id                        category_name  \\\n",
       "0       706543            Category:Machine_learning   \n",
       "1     33547387    Category:Applied machine learning   \n",
       "2     42936114  Category:Artificial neural networks   \n",
       "3     49119651               Category:Deep learning   \n",
       "4      3735046     Category:Neural network software   \n",
       "\n",
       "                                    category_summary  \\\n",
       "0  Machine learning is a branch of statistics and...   \n",
       "1                                               None   \n",
       "2  This category are for articles about artificia...   \n",
       "3                                               None   \n",
       "4  This category lists Artificial neural network ...   \n",
       "\n",
       "                                                 url  \n",
       "0  https://en.wikipedia.org/wiki/Category:Machine...  \n",
       "1  https://en.wikipedia.org/wiki/Category:Applied...  \n",
       "2  https://en.wikipedia.org/wiki/Category:Artific...  \n",
       "3  https://en.wikipedia.org/wiki/Category:Deep_le...  \n",
       "4  https://en.wikipedia.org/wiki/Category:Neural_...  "
      ]
     },
     "execution_count": 3,
     "metadata": {},
     "output_type": "execute_result"
    }
   ],
   "source": [
    "categories = query_to_df('SELECT * FROM categories;')\n",
    "categories.head()"
   ]
  },
  {
   "cell_type": "code",
   "execution_count": 4,
   "metadata": {},
   "outputs": [
    {
     "name": "stdout",
     "output_type": "stream",
     "text": [
      "<class 'pandas.core.frame.DataFrame'>\n",
      "RangeIndex: 208 entries, 0 to 207\n",
      "Data columns (total 4 columns):\n",
      "category_id         208 non-null int64\n",
      "category_name       208 non-null object\n",
      "category_summary    72 non-null object\n",
      "url                 208 non-null object\n",
      "dtypes: int64(1), object(3)\n",
      "memory usage: 6.6+ KB\n"
     ]
    }
   ],
   "source": [
    "categories.info()"
   ]
  },
  {
   "cell_type": "code",
   "execution_count": 5,
   "metadata": {
    "scrolled": true
   },
   "outputs": [
    {
     "data": {
      "text/plain": [
       "array(['Category:Financial software companies',\n",
       "       'Category:Reporting software',\n",
       "       'Category:Sports management video games',\n",
       "       'Category:Office suites for Linux', 'Category:Wiki communities',\n",
       "       'Category:Business software companies',\n",
       "       'Category:Cluster analysis algorithms',\n",
       "       'Category:Computational learning theory',\n",
       "       'Category:Dental software', 'Category:Supervised learning',\n",
       "       'Category:Time-tracking software', 'Category:Records management',\n",
       "       'Category:Free static website generators',\n",
       "       'Category:Business software for Windows',\n",
       "       'Category:Accounting software', 'Category:Offline mail readers',\n",
       "       'Category:Learning in computer vision',\n",
       "       'Category:Enterprise resource planning terminology',\n",
       "       'Category:Mobile business software', 'Category:WikiLeaks',\n",
       "       'Category:Markov models', 'Category:Free reporting software',\n",
       "       'Category:Office software', 'Category:Free TeX software',\n",
       "       'Category:TeX', 'Category:Markov networks',\n",
       "       'Category:Spreadsheet software', 'Category:MediaWiki sites',\n",
       "       'Category:MacOS email clients', 'Category:Wiki concepts',\n",
       "       'Category:Museums with wikis', 'Category:Medical simulation',\n",
       "       'Category:Free word processors',\n",
       "       'Category:Inductive logic programming',\n",
       "       'Category:Business software', 'Category:Static website generators',\n",
       "       'Category:Office suites for macOS',\n",
       "       'Category:Risk management software', 'Category:DOS word processors',\n",
       "       'Category:Cluster analysis', 'Category:Unsupervised learning',\n",
       "       'Category:M.U.L.E.', 'Category:Electronic health records',\n",
       "       'Category:Wikis', 'Category:Windows word processors',\n",
       "       'Category:Online word processors',\n",
       "       'Category:Healthcare software for Windows',\n",
       "       'Category:TeX software for macOS',\n",
       "       'Category:Gene expression programming',\n",
       "       'Category:Free ERP software', 'Category:Linux word processors',\n",
       "       'Category:Applied machine learning',\n",
       "       'Category:Kernel methods for machine learning', 'Category:GitHub',\n",
       "       'Category:Deep learning',\n",
       "       'Category:Electronic health record software',\n",
       "       'Category:Document management systems', 'Category:Zoo Tycoon',\n",
       "       'Category:Business software for Linux', 'Category:Git (software)',\n",
       "       'Category:Social network analysis software',\n",
       "       'Category:Artificial immune systems',\n",
       "       'Category:Enterprise software',\n",
       "       'Category:Publication management software',\n",
       "       'Category:Language modeling', 'Category:ERP software',\n",
       "       'Category:Graphical models', 'Category:Healthcare software',\n",
       "       'Category:Blog software', 'Category:Financial software',\n",
       "       'Category:Office document file formats',\n",
       "       'Category:Bayesian networks', 'Category:Machine learning task',\n",
       "       'Category:Mind-mapping software', 'Category:Loss functions',\n",
       "       'Category:Financial markets software',\n",
       "       'Category:Neural network software', 'Category:Marketing software',\n",
       "       'Category:Microsoft Dynamics', 'Category:Health software',\n",
       "       'Category:Medical software', 'Category:Content management systems',\n",
       "       'Category:Zope', 'Category:Word processor comparisons',\n",
       "       'Category:Transport Tycoon', 'Category:Email clients',\n",
       "       'Category:Machine_learning', 'Category:Version control GUI tools',\n",
       "       'Category:Linux TeX software',\n",
       "       'Category:Proprietary version control systems',\n",
       "       'Category:Free accounting software',\n",
       "       'Category:Structural equation models',\n",
       "       'Category:Free email software',\n",
       "       'Category:Open-source office suites',\n",
       "       'Category:ERP software companies', 'Category:Clustering criteria',\n",
       "       'Category:Latent variable models',\n",
       "       'Category:TeX software for Windows',\n",
       "       'Category:Trade simulation games', 'Category:Portal software',\n",
       "       'Category:Windows email clients',\n",
       "       'Category:Microsoft Office-related software',\n",
       "       'Category:Business software for MacOS',\n",
       "       'Category:Discontinued version control systems',\n",
       "       'Category:Classic Mac OS word processors',\n",
       "       'Category:Datasets in machine learning',\n",
       "       'Category:Lotus SmartSuite', 'Category:Widget management systems',\n",
       "       'Category:Gmail', 'Category:Genetic algorithms',\n",
       "       'Category:Genetic programming', 'Category:Free medical software',\n",
       "       'Category:Publishing software', 'Category:Causal inference',\n",
       "       'Category:Spreadsheet file formats',\n",
       "       'Category:Cost analysis software', 'Category:Typing software',\n",
       "       'Category:Dental practice management software',\n",
       "       'Category:Free business software',\n",
       "       'Category:Public health and biosurveillance software',\n",
       "       'Category:Enterprise application integration',\n",
       "       'Category:Project management software',\n",
       "       'Category:Enterprise resource planning software for Linux',\n",
       "       'Category:Machine learning algorithms',\n",
       "       'Category:Repetitive strain injury software',\n",
       "       'Category:Nature-inspired metaheuristics',\n",
       "       'Category:Human resource management software',\n",
       "       'Category:Office Open XML', 'Category:Free finance software',\n",
       "       'Category:Artificial intelligence conferences',\n",
       "       'Category:Artificial neural networks',\n",
       "       'Category:Email client software for Linux', 'Category:OpenDocument',\n",
       "       'Category:Free project management software',\n",
       "       'Category:Data mining and machine learning software',\n",
       "       'Category:Evolutionary algorithms',\n",
       "       'Category:Service-oriented architecture-related products',\n",
       "       'Category:DICOM software', 'Category:Project hosting websites',\n",
       "       'Category:Free e-commerce software', 'Category:Tax software',\n",
       "       'Category:MacOS word processors',\n",
       "       'Category:Java enterprise platform',\n",
       "       'Category:Computer-aided audit tools',\n",
       "       'Category:Datasets in computer vision',\n",
       "       'Category:Statistical natural language processing',\n",
       "       'Category:Email devices', 'Category:Abstract management software',\n",
       "       'Category:Task management software',\n",
       "       'Category:Amusement park simulation games', 'Category:TYPO3',\n",
       "       'Category:Word processors', 'Category:Dimension reduction',\n",
       "       'Category:Medical expert systems',\n",
       "       'Category:Behavioral experimentation software',\n",
       "       'Category:Support vector machines', 'Category:Wikis by genre',\n",
       "       'Category:Wiki-related conferences',\n",
       "       'Category:Healthcare software for MacOS',\n",
       "       'Category:Microfinance software', 'Category:HTML',\n",
       "       'Category:Decision trees', 'Category:Concurrent Versions System',\n",
       "       'Category:Free healthcare software',\n",
       "       'Category:Machine learning researchers',\n",
       "       'Category:Log-linear models', 'Category:Presentation software',\n",
       "       'Category:Hidden Markov models', 'Category:Semisupervised learning',\n",
       "       'Category:Online office suites',\n",
       "       'Category:Classification algorithms',\n",
       "       'Category:Free content management systems',\n",
       "       'Category:Healthcare software for Linux',\n",
       "       'Category:Telecommunications Billing Systems',\n",
       "       'Category:Machine learning portal', 'Category:TeX editors',\n",
       "       'Category:Administrative software',\n",
       "       'Category:Content management system stubs',\n",
       "       'Category:Office suites', 'Category:Free version control software',\n",
       "       'Category:Health video games', 'Category:Business simulation games',\n",
       "       'Category:Microsoft Office',\n",
       "       'Category:Supply chain software companies',\n",
       "       'Category:Apple II word processors', 'Category:Ensemble learning',\n",
       "       'Category:Video hosting software',\n",
       "       'Category:Roller coaster games and simulations',\n",
       "       'Category:Office suites for Windows',\n",
       "       'Category:MUMPS programming language family', 'Category:BibTeX',\n",
       "       'Category:Collaborative software', 'Category:Disability software',\n",
       "       'Category:Webmail', 'Category:DocBook',\n",
       "       'Category:Version control systems',\n",
       "       'Category:Classic Mac OS email clients', 'Category:MES software',\n",
       "       'Category:Wiki software',\n",
       "       'Category:Industry-specific XML-based standards',\n",
       "       'Category:Word processor stubs', 'Category:Structured prediction',\n",
       "       'Category:Free customer relationship management software',\n",
       "       'Category:Manufacturing software', 'Category:Workflow technology',\n",
       "       'Category:Distributed version control systems',\n",
       "       'Category:Business software stubs'], \n",
       "      dtype='<U56')"
      ]
     },
     "execution_count": 5,
     "metadata": {},
     "output_type": "execute_result"
    }
   ],
   "source": [
    "value_dicts = execute_query('SELECT DISTINCT category_name FROM categories;')\n",
    "np.array([list(i.values())[0] for i in value_dicts])[1:]"
   ]
  },
  {
   "cell_type": "markdown",
   "metadata": {},
   "source": [
    "##### Pages Table"
   ]
  },
  {
   "cell_type": "code",
   "execution_count": 6,
   "metadata": {},
   "outputs": [
    {
     "data": {
      "text/html": [
       "<div>\n",
       "<table border=\"1\" class=\"dataframe\">\n",
       "  <thead>\n",
       "    <tr style=\"text-align: right;\">\n",
       "      <th></th>\n",
       "      <th>links</th>\n",
       "      <th>page_categories</th>\n",
       "      <th>page_id</th>\n",
       "      <th>summary</th>\n",
       "      <th>title</th>\n",
       "      <th>url</th>\n",
       "    </tr>\n",
       "  </thead>\n",
       "  <tbody>\n",
       "    <tr>\n",
       "      <th>0</th>\n",
       "      <td>['Alteryx', 'Data Visualization', 'Data profil...</td>\n",
       "      <td>['All articles lacking in-text citations', 'Al...</td>\n",
       "      <td>43385931</td>\n",
       "      <td>Data exploration is an approach similar to ini...</td>\n",
       "      <td>Data exploration</td>\n",
       "      <td>https://en.wikipedia.org/wiki/Data_exploration</td>\n",
       "    </tr>\n",
       "    <tr>\n",
       "      <th>1</th>\n",
       "      <td>['Academic journal', 'Algorithm', 'Amazon.com'...</td>\n",
       "      <td>['Artificial intelligence', 'CS1 maint: Multip...</td>\n",
       "      <td>49082762</td>\n",
       "      <td>These datasets are used for machine learning r...</td>\n",
       "      <td>List of datasets for machine learning research</td>\n",
       "      <td>https://en.wikipedia.org/wiki/List_of_datasets...</td>\n",
       "    </tr>\n",
       "    <tr>\n",
       "      <th>2</th>\n",
       "      <td>['ADALINE', 'AT&amp;T Labs', 'Adaptive website', '...</td>\n",
       "      <td>['All articles containing potentially dated st...</td>\n",
       "      <td>233488</td>\n",
       "      <td>Machine learning is the subfield of computer s...</td>\n",
       "      <td>Machine learning</td>\n",
       "      <td>https://en.wikipedia.org/wiki/Machine_learning</td>\n",
       "    </tr>\n",
       "    <tr>\n",
       "      <th>3</th>\n",
       "      <td>['ANOVA', 'AODE', 'Academic discipline', 'AdaB...</td>\n",
       "      <td>['Artificial intelligence', 'Data mining', 'Ma...</td>\n",
       "      <td>53587467</td>\n",
       "      <td>The following outline is provided as an overvi...</td>\n",
       "      <td>Outline of machine learning</td>\n",
       "      <td>https://en.wikipedia.org/wiki/Outline_of_machi...</td>\n",
       "    </tr>\n",
       "    <tr>\n",
       "      <th>4</th>\n",
       "      <td>['Machine Learning', 'Widely Applicable Inform...</td>\n",
       "      <td>['All articles covered by WikiProject Wikify',...</td>\n",
       "      <td>53198248</td>\n",
       "      <td>In Machine Learning, if a statistical model is...</td>\n",
       "      <td>Singular statistical model</td>\n",
       "      <td>https://en.wikipedia.org/wiki/Singular_statist...</td>\n",
       "    </tr>\n",
       "  </tbody>\n",
       "</table>\n",
       "</div>"
      ],
      "text/plain": [
       "                                               links  \\\n",
       "0  ['Alteryx', 'Data Visualization', 'Data profil...   \n",
       "1  ['Academic journal', 'Algorithm', 'Amazon.com'...   \n",
       "2  ['ADALINE', 'AT&T Labs', 'Adaptive website', '...   \n",
       "3  ['ANOVA', 'AODE', 'Academic discipline', 'AdaB...   \n",
       "4  ['Machine Learning', 'Widely Applicable Inform...   \n",
       "\n",
       "                                     page_categories   page_id  \\\n",
       "0  ['All articles lacking in-text citations', 'Al...  43385931   \n",
       "1  ['Artificial intelligence', 'CS1 maint: Multip...  49082762   \n",
       "2  ['All articles containing potentially dated st...    233488   \n",
       "3  ['Artificial intelligence', 'Data mining', 'Ma...  53587467   \n",
       "4  ['All articles covered by WikiProject Wikify',...  53198248   \n",
       "\n",
       "                                             summary  \\\n",
       "0  Data exploration is an approach similar to ini...   \n",
       "1  These datasets are used for machine learning r...   \n",
       "2  Machine learning is the subfield of computer s...   \n",
       "3  The following outline is provided as an overvi...   \n",
       "4  In Machine Learning, if a statistical model is...   \n",
       "\n",
       "                                            title  \\\n",
       "0                                Data exploration   \n",
       "1  List of datasets for machine learning research   \n",
       "2                                Machine learning   \n",
       "3                     Outline of machine learning   \n",
       "4                      Singular statistical model   \n",
       "\n",
       "                                                 url  \n",
       "0     https://en.wikipedia.org/wiki/Data_exploration  \n",
       "1  https://en.wikipedia.org/wiki/List_of_datasets...  \n",
       "2     https://en.wikipedia.org/wiki/Machine_learning  \n",
       "3  https://en.wikipedia.org/wiki/Outline_of_machi...  \n",
       "4  https://en.wikipedia.org/wiki/Singular_statist...  "
      ]
     },
     "execution_count": 6,
     "metadata": {},
     "output_type": "execute_result"
    }
   ],
   "source": [
    "pages = query_to_df('SELECT * FROM pages;')\n",
    "pages.head()"
   ]
  },
  {
   "cell_type": "code",
   "execution_count": 7,
   "metadata": {},
   "outputs": [
    {
     "name": "stdout",
     "output_type": "stream",
     "text": [
      "<class 'pandas.core.frame.DataFrame'>\n",
      "RangeIndex: 4207 entries, 0 to 4206\n",
      "Data columns (total 6 columns):\n",
      "links              4207 non-null object\n",
      "page_categories    4207 non-null object\n",
      "page_id            4207 non-null int64\n",
      "summary            4180 non-null object\n",
      "title              4207 non-null object\n",
      "url                4207 non-null object\n",
      "dtypes: int64(1), object(5)\n",
      "memory usage: 197.3+ KB\n"
     ]
    }
   ],
   "source": [
    "pages.info()"
   ]
  },
  {
   "cell_type": "markdown",
   "metadata": {},
   "source": [
    "##### Categories_Pages Table"
   ]
  },
  {
   "cell_type": "code",
   "execution_count": 8,
   "metadata": {},
   "outputs": [
    {
     "data": {
      "text/html": [
       "<div>\n",
       "<table border=\"1\" class=\"dataframe\">\n",
       "  <thead>\n",
       "    <tr style=\"text-align: right;\">\n",
       "      <th></th>\n",
       "      <th>category_id</th>\n",
       "      <th>category_name</th>\n",
       "      <th>page_id</th>\n",
       "      <th>time_stamp</th>\n",
       "      <th>title</th>\n",
       "      <th>type</th>\n",
       "    </tr>\n",
       "  </thead>\n",
       "  <tbody>\n",
       "    <tr>\n",
       "      <th>0</th>\n",
       "      <td>706543</td>\n",
       "      <td>Category:Machine_learning</td>\n",
       "      <td>43385931</td>\n",
       "      <td>2017-07-18 06:39:35</td>\n",
       "      <td>Data exploration</td>\n",
       "      <td>page</td>\n",
       "    </tr>\n",
       "    <tr>\n",
       "      <th>1</th>\n",
       "      <td>706543</td>\n",
       "      <td>Category:Machine_learning</td>\n",
       "      <td>49082762</td>\n",
       "      <td>2017-08-08 12:44:17</td>\n",
       "      <td>List of datasets for machine learning research</td>\n",
       "      <td>page</td>\n",
       "    </tr>\n",
       "    <tr>\n",
       "      <th>2</th>\n",
       "      <td>706543</td>\n",
       "      <td>Category:Machine_learning</td>\n",
       "      <td>233488</td>\n",
       "      <td>2015-06-29 12:07:35</td>\n",
       "      <td>Machine learning</td>\n",
       "      <td>page</td>\n",
       "    </tr>\n",
       "    <tr>\n",
       "      <th>3</th>\n",
       "      <td>706543</td>\n",
       "      <td>Category:Machine_learning</td>\n",
       "      <td>53587467</td>\n",
       "      <td>2017-03-25 20:23:08</td>\n",
       "      <td>Outline of machine learning</td>\n",
       "      <td>page</td>\n",
       "    </tr>\n",
       "    <tr>\n",
       "      <th>4</th>\n",
       "      <td>706543</td>\n",
       "      <td>Category:Machine_learning</td>\n",
       "      <td>53198248</td>\n",
       "      <td>2017-03-16 21:50:50</td>\n",
       "      <td>Singular statistical model</td>\n",
       "      <td>page</td>\n",
       "    </tr>\n",
       "  </tbody>\n",
       "</table>\n",
       "</div>"
      ],
      "text/plain": [
       "   category_id              category_name   page_id          time_stamp  \\\n",
       "0       706543  Category:Machine_learning  43385931 2017-07-18 06:39:35   \n",
       "1       706543  Category:Machine_learning  49082762 2017-08-08 12:44:17   \n",
       "2       706543  Category:Machine_learning    233488 2015-06-29 12:07:35   \n",
       "3       706543  Category:Machine_learning  53587467 2017-03-25 20:23:08   \n",
       "4       706543  Category:Machine_learning  53198248 2017-03-16 21:50:50   \n",
       "\n",
       "                                            title  type  \n",
       "0                                Data exploration  page  \n",
       "1  List of datasets for machine learning research  page  \n",
       "2                                Machine learning  page  \n",
       "3                     Outline of machine learning  page  \n",
       "4                      Singular statistical model  page  "
      ]
     },
     "execution_count": 8,
     "metadata": {},
     "output_type": "execute_result"
    }
   ],
   "source": [
    "categories_pages = query_to_df('SELECT * FROM categories_pages;')\n",
    "categories_pages.head()"
   ]
  },
  {
   "cell_type": "code",
   "execution_count": 9,
   "metadata": {},
   "outputs": [
    {
     "name": "stdout",
     "output_type": "stream",
     "text": [
      "<class 'pandas.core.frame.DataFrame'>\n",
      "RangeIndex: 6443 entries, 0 to 6442\n",
      "Data columns (total 6 columns):\n",
      "category_id      6443 non-null int64\n",
      "category_name    6443 non-null object\n",
      "page_id          6443 non-null int64\n",
      "time_stamp       6443 non-null datetime64[ns]\n",
      "title            6443 non-null object\n",
      "type             6443 non-null object\n",
      "dtypes: datetime64[ns](1), int64(2), object(3)\n",
      "memory usage: 302.1+ KB\n"
     ]
    }
   ],
   "source": [
    "categories_pages.info()"
   ]
  },
  {
   "cell_type": "markdown",
   "metadata": {},
   "source": [
    "### DataFrame for NLP and Vectorization\n",
    "\n",
    "For the the purpose of performing NLP and more specifically LSA, we won't need all the columns - just the relevant information. Creating a working dataframe for the purposes of our analysis.\n",
    "\n",
    "Once we create this dataframe, then we'll need to do some data cleaning, mainly dealing with the null values.\n",
    "\n",
    "It looks like the null values are primarily in the summary columns of the categories and pages table. The summary for the categories table won't matter so much as it doesn't directly affect our analysis and model. However, our entire analysis is primarily done on the summary column of the pages table and this column has some null values. The pages that have no summaries indicate that the specific Wikipedia page doesn't have any content (maybe there are some tables and links but no actual information on the title topic). Therefore, I am planning to just remove rows that have null page summaries as they don't do anything towards training our model that is all built upon analyzing text.\n",
    "\n",
    "After the dataframe is cleaned up, going to create another column that combines the text of the page title and page summary as 'page_text' which will be the text we vectorize for NLP."
   ]
  },
  {
   "cell_type": "code",
   "execution_count": 10,
   "metadata": {},
   "outputs": [
    {
     "data": {
      "text/html": [
       "<div>\n",
       "<table border=\"1\" class=\"dataframe\">\n",
       "  <thead>\n",
       "    <tr style=\"text-align: right;\">\n",
       "      <th></th>\n",
       "      <th>category_id</th>\n",
       "      <th>category_name</th>\n",
       "      <th>category_summary</th>\n",
       "      <th>category_url</th>\n",
       "      <th>page_id</th>\n",
       "      <th>page_summary</th>\n",
       "      <th>page_title</th>\n",
       "      <th>page_url</th>\n",
       "    </tr>\n",
       "  </thead>\n",
       "  <tbody>\n",
       "    <tr>\n",
       "      <th>0</th>\n",
       "      <td>706543</td>\n",
       "      <td>Category:Machine_learning</td>\n",
       "      <td>Machine learning is a branch of statistics and...</td>\n",
       "      <td>https://en.wikipedia.org/wiki/Category:Machine...</td>\n",
       "      <td>43385931</td>\n",
       "      <td>Data exploration is an approach similar to ini...</td>\n",
       "      <td>Data exploration</td>\n",
       "      <td>https://en.wikipedia.org/wiki/Data_exploration</td>\n",
       "    </tr>\n",
       "    <tr>\n",
       "      <th>1</th>\n",
       "      <td>706543</td>\n",
       "      <td>Category:Machine_learning</td>\n",
       "      <td>Machine learning is a branch of statistics and...</td>\n",
       "      <td>https://en.wikipedia.org/wiki/Category:Machine...</td>\n",
       "      <td>49082762</td>\n",
       "      <td>These datasets are used for machine learning r...</td>\n",
       "      <td>List of datasets for machine learning research</td>\n",
       "      <td>https://en.wikipedia.org/wiki/List_of_datasets...</td>\n",
       "    </tr>\n",
       "    <tr>\n",
       "      <th>2</th>\n",
       "      <td>706543</td>\n",
       "      <td>Category:Machine_learning</td>\n",
       "      <td>Machine learning is a branch of statistics and...</td>\n",
       "      <td>https://en.wikipedia.org/wiki/Category:Machine...</td>\n",
       "      <td>233488</td>\n",
       "      <td>Machine learning is the subfield of computer s...</td>\n",
       "      <td>Machine learning</td>\n",
       "      <td>https://en.wikipedia.org/wiki/Machine_learning</td>\n",
       "    </tr>\n",
       "    <tr>\n",
       "      <th>3</th>\n",
       "      <td>706543</td>\n",
       "      <td>Category:Machine_learning</td>\n",
       "      <td>Machine learning is a branch of statistics and...</td>\n",
       "      <td>https://en.wikipedia.org/wiki/Category:Machine...</td>\n",
       "      <td>53587467</td>\n",
       "      <td>The following outline is provided as an overvi...</td>\n",
       "      <td>Outline of machine learning</td>\n",
       "      <td>https://en.wikipedia.org/wiki/Outline_of_machi...</td>\n",
       "    </tr>\n",
       "    <tr>\n",
       "      <th>4</th>\n",
       "      <td>706543</td>\n",
       "      <td>Category:Machine_learning</td>\n",
       "      <td>Machine learning is a branch of statistics and...</td>\n",
       "      <td>https://en.wikipedia.org/wiki/Category:Machine...</td>\n",
       "      <td>53198248</td>\n",
       "      <td>In Machine Learning, if a statistical model is...</td>\n",
       "      <td>Singular statistical model</td>\n",
       "      <td>https://en.wikipedia.org/wiki/Singular_statist...</td>\n",
       "    </tr>\n",
       "  </tbody>\n",
       "</table>\n",
       "</div>"
      ],
      "text/plain": [
       "   category_id              category_name  \\\n",
       "0       706543  Category:Machine_learning   \n",
       "1       706543  Category:Machine_learning   \n",
       "2       706543  Category:Machine_learning   \n",
       "3       706543  Category:Machine_learning   \n",
       "4       706543  Category:Machine_learning   \n",
       "\n",
       "                                    category_summary  \\\n",
       "0  Machine learning is a branch of statistics and...   \n",
       "1  Machine learning is a branch of statistics and...   \n",
       "2  Machine learning is a branch of statistics and...   \n",
       "3  Machine learning is a branch of statistics and...   \n",
       "4  Machine learning is a branch of statistics and...   \n",
       "\n",
       "                                        category_url   page_id  \\\n",
       "0  https://en.wikipedia.org/wiki/Category:Machine...  43385931   \n",
       "1  https://en.wikipedia.org/wiki/Category:Machine...  49082762   \n",
       "2  https://en.wikipedia.org/wiki/Category:Machine...    233488   \n",
       "3  https://en.wikipedia.org/wiki/Category:Machine...  53587467   \n",
       "4  https://en.wikipedia.org/wiki/Category:Machine...  53198248   \n",
       "\n",
       "                                        page_summary  \\\n",
       "0  Data exploration is an approach similar to ini...   \n",
       "1  These datasets are used for machine learning r...   \n",
       "2  Machine learning is the subfield of computer s...   \n",
       "3  The following outline is provided as an overvi...   \n",
       "4  In Machine Learning, if a statistical model is...   \n",
       "\n",
       "                                       page_title  \\\n",
       "0                                Data exploration   \n",
       "1  List of datasets for machine learning research   \n",
       "2                                Machine learning   \n",
       "3                     Outline of machine learning   \n",
       "4                      Singular statistical model   \n",
       "\n",
       "                                            page_url  \n",
       "0     https://en.wikipedia.org/wiki/Data_exploration  \n",
       "1  https://en.wikipedia.org/wiki/List_of_datasets...  \n",
       "2     https://en.wikipedia.org/wiki/Machine_learning  \n",
       "3  https://en.wikipedia.org/wiki/Outline_of_machi...  \n",
       "4  https://en.wikipedia.org/wiki/Singular_statist...  "
      ]
     },
     "execution_count": 10,
     "metadata": {},
     "output_type": "execute_result"
    }
   ],
   "source": [
    "df = query_to_df(\"\"\"\n",
    "SELECT cp.page_id, cp.title as page_title, p.summary as page_summary, p.url as page_url,\n",
    "    cp.category_id, cp.category_name, c.category_summary, c.url as category_url\n",
    "FROM categories_pages cp\n",
    "LEFT JOIN pages p ON cp.page_id = p.page_id\n",
    "LEFT JOIN categories c ON cp.category_id = c.category_id\n",
    "\"\"\")\n",
    "df.head()"
   ]
  },
  {
   "cell_type": "code",
   "execution_count": 11,
   "metadata": {},
   "outputs": [
    {
     "name": "stdout",
     "output_type": "stream",
     "text": [
      "<class 'pandas.core.frame.DataFrame'>\n",
      "RangeIndex: 6443 entries, 0 to 6442\n",
      "Data columns (total 8 columns):\n",
      "category_id         6443 non-null int64\n",
      "category_name       6443 non-null object\n",
      "category_summary    2845 non-null object\n",
      "category_url        6443 non-null object\n",
      "page_id             6443 non-null int64\n",
      "page_summary        6409 non-null object\n",
      "page_title          6443 non-null object\n",
      "page_url            6443 non-null object\n",
      "dtypes: int64(2), object(6)\n",
      "memory usage: 402.8+ KB\n"
     ]
    }
   ],
   "source": [
    "df.info()"
   ]
  },
  {
   "cell_type": "code",
   "execution_count": 12,
   "metadata": {
    "collapsed": true
   },
   "outputs": [],
   "source": [
    "df['category_summary'].fillna('No Summary', inplace=True)"
   ]
  },
  {
   "cell_type": "code",
   "execution_count": 13,
   "metadata": {
    "collapsed": true
   },
   "outputs": [],
   "source": [
    "df.drop(df[df['page_summary'].isnull()].index.tolist(),axis=0,inplace=True)"
   ]
  },
  {
   "cell_type": "code",
   "execution_count": 14,
   "metadata": {
    "collapsed": true
   },
   "outputs": [],
   "source": [
    "df['page_text'] = df['page_title'].astype(str)+' '+df['page_summary']"
   ]
  },
  {
   "cell_type": "code",
   "execution_count": 15,
   "metadata": {},
   "outputs": [
    {
     "name": "stdout",
     "output_type": "stream",
     "text": [
      "<class 'pandas.core.frame.DataFrame'>\n",
      "Int64Index: 6409 entries, 0 to 6442\n",
      "Data columns (total 9 columns):\n",
      "category_id         6409 non-null int64\n",
      "category_name       6409 non-null object\n",
      "category_summary    6409 non-null object\n",
      "category_url        6409 non-null object\n",
      "page_id             6409 non-null int64\n",
      "page_summary        6409 non-null object\n",
      "page_title          6409 non-null object\n",
      "page_url            6409 non-null object\n",
      "page_text           6409 non-null object\n",
      "dtypes: int64(2), object(7)\n",
      "memory usage: 500.7+ KB\n"
     ]
    }
   ],
   "source": [
    "df.info()"
   ]
  },
  {
   "cell_type": "code",
   "execution_count": 16,
   "metadata": {},
   "outputs": [
    {
     "data": {
      "text/html": [
       "<div>\n",
       "<table border=\"1\" class=\"dataframe\">\n",
       "  <thead>\n",
       "    <tr style=\"text-align: right;\">\n",
       "      <th></th>\n",
       "      <th>category_id</th>\n",
       "      <th>category_name</th>\n",
       "      <th>category_summary</th>\n",
       "      <th>category_url</th>\n",
       "      <th>page_id</th>\n",
       "      <th>page_summary</th>\n",
       "      <th>page_title</th>\n",
       "      <th>page_url</th>\n",
       "      <th>page_text</th>\n",
       "    </tr>\n",
       "  </thead>\n",
       "  <tbody>\n",
       "    <tr>\n",
       "      <th>0</th>\n",
       "      <td>706543</td>\n",
       "      <td>Category:Machine_learning</td>\n",
       "      <td>Machine learning is a branch of statistics and...</td>\n",
       "      <td>https://en.wikipedia.org/wiki/Category:Machine...</td>\n",
       "      <td>43385931</td>\n",
       "      <td>Data exploration is an approach similar to ini...</td>\n",
       "      <td>Data exploration</td>\n",
       "      <td>https://en.wikipedia.org/wiki/Data_exploration</td>\n",
       "      <td>Data exploration Data exploration is an approa...</td>\n",
       "    </tr>\n",
       "    <tr>\n",
       "      <th>1</th>\n",
       "      <td>706543</td>\n",
       "      <td>Category:Machine_learning</td>\n",
       "      <td>Machine learning is a branch of statistics and...</td>\n",
       "      <td>https://en.wikipedia.org/wiki/Category:Machine...</td>\n",
       "      <td>49082762</td>\n",
       "      <td>These datasets are used for machine learning r...</td>\n",
       "      <td>List of datasets for machine learning research</td>\n",
       "      <td>https://en.wikipedia.org/wiki/List_of_datasets...</td>\n",
       "      <td>List of datasets for machine learning research...</td>\n",
       "    </tr>\n",
       "    <tr>\n",
       "      <th>2</th>\n",
       "      <td>706543</td>\n",
       "      <td>Category:Machine_learning</td>\n",
       "      <td>Machine learning is a branch of statistics and...</td>\n",
       "      <td>https://en.wikipedia.org/wiki/Category:Machine...</td>\n",
       "      <td>233488</td>\n",
       "      <td>Machine learning is the subfield of computer s...</td>\n",
       "      <td>Machine learning</td>\n",
       "      <td>https://en.wikipedia.org/wiki/Machine_learning</td>\n",
       "      <td>Machine learning Machine learning is the subfi...</td>\n",
       "    </tr>\n",
       "    <tr>\n",
       "      <th>3</th>\n",
       "      <td>706543</td>\n",
       "      <td>Category:Machine_learning</td>\n",
       "      <td>Machine learning is a branch of statistics and...</td>\n",
       "      <td>https://en.wikipedia.org/wiki/Category:Machine...</td>\n",
       "      <td>53587467</td>\n",
       "      <td>The following outline is provided as an overvi...</td>\n",
       "      <td>Outline of machine learning</td>\n",
       "      <td>https://en.wikipedia.org/wiki/Outline_of_machi...</td>\n",
       "      <td>Outline of machine learning The following outl...</td>\n",
       "    </tr>\n",
       "    <tr>\n",
       "      <th>4</th>\n",
       "      <td>706543</td>\n",
       "      <td>Category:Machine_learning</td>\n",
       "      <td>Machine learning is a branch of statistics and...</td>\n",
       "      <td>https://en.wikipedia.org/wiki/Category:Machine...</td>\n",
       "      <td>53198248</td>\n",
       "      <td>In Machine Learning, if a statistical model is...</td>\n",
       "      <td>Singular statistical model</td>\n",
       "      <td>https://en.wikipedia.org/wiki/Singular_statist...</td>\n",
       "      <td>Singular statistical model In Machine Learning...</td>\n",
       "    </tr>\n",
       "  </tbody>\n",
       "</table>\n",
       "</div>"
      ],
      "text/plain": [
       "   category_id              category_name  \\\n",
       "0       706543  Category:Machine_learning   \n",
       "1       706543  Category:Machine_learning   \n",
       "2       706543  Category:Machine_learning   \n",
       "3       706543  Category:Machine_learning   \n",
       "4       706543  Category:Machine_learning   \n",
       "\n",
       "                                    category_summary  \\\n",
       "0  Machine learning is a branch of statistics and...   \n",
       "1  Machine learning is a branch of statistics and...   \n",
       "2  Machine learning is a branch of statistics and...   \n",
       "3  Machine learning is a branch of statistics and...   \n",
       "4  Machine learning is a branch of statistics and...   \n",
       "\n",
       "                                        category_url   page_id  \\\n",
       "0  https://en.wikipedia.org/wiki/Category:Machine...  43385931   \n",
       "1  https://en.wikipedia.org/wiki/Category:Machine...  49082762   \n",
       "2  https://en.wikipedia.org/wiki/Category:Machine...    233488   \n",
       "3  https://en.wikipedia.org/wiki/Category:Machine...  53587467   \n",
       "4  https://en.wikipedia.org/wiki/Category:Machine...  53198248   \n",
       "\n",
       "                                        page_summary  \\\n",
       "0  Data exploration is an approach similar to ini...   \n",
       "1  These datasets are used for machine learning r...   \n",
       "2  Machine learning is the subfield of computer s...   \n",
       "3  The following outline is provided as an overvi...   \n",
       "4  In Machine Learning, if a statistical model is...   \n",
       "\n",
       "                                       page_title  \\\n",
       "0                                Data exploration   \n",
       "1  List of datasets for machine learning research   \n",
       "2                                Machine learning   \n",
       "3                     Outline of machine learning   \n",
       "4                      Singular statistical model   \n",
       "\n",
       "                                            page_url  \\\n",
       "0     https://en.wikipedia.org/wiki/Data_exploration   \n",
       "1  https://en.wikipedia.org/wiki/List_of_datasets...   \n",
       "2     https://en.wikipedia.org/wiki/Machine_learning   \n",
       "3  https://en.wikipedia.org/wiki/Outline_of_machi...   \n",
       "4  https://en.wikipedia.org/wiki/Singular_statist...   \n",
       "\n",
       "                                           page_text  \n",
       "0  Data exploration Data exploration is an approa...  \n",
       "1  List of datasets for machine learning research...  \n",
       "2  Machine learning Machine learning is the subfi...  \n",
       "3  Outline of machine learning The following outl...  \n",
       "4  Singular statistical model In Machine Learning...  "
      ]
     },
     "execution_count": 16,
     "metadata": {},
     "output_type": "execute_result"
    }
   ],
   "source": [
    "df.head()"
   ]
  },
  {
   "cell_type": "markdown",
   "metadata": {},
   "source": [
    "### Apply cleaner to the page_text column\n",
    "\n",
    "In order for the text to be used for NLP, we need to do some data cleaning. Defined a function below with regular expressions to clean the data."
   ]
  },
  {
   "cell_type": "code",
   "execution_count": 18,
   "metadata": {
    "collapsed": true
   },
   "outputs": [],
   "source": [
    "import re\n",
    "from spacy.en import STOP_WORDS, English\n",
    "nlp = English()"
   ]
  },
  {
   "cell_type": "code",
   "execution_count": 19,
   "metadata": {
    "collapsed": true
   },
   "outputs": [],
   "source": [
    "def cleaner(text):\n",
    "    text = text.lower()\n",
    "    text = re.sub('{\\\\\\\\.+}','',text)\n",
    "    text = re.sub('&#39;','',text)\n",
    "    text = re.sub('<br />','',text)\n",
    "    text = re.sub('<.*>.*</.*>','', text)\n",
    "    text = re.sub('\\\\ufeff', '', text)\n",
    "    text = re.sub('\\000', '', text)\n",
    "    text = re.sub('\\xFF', '', text)\n",
    "    text = re.sub('\\uFFFF', '', text)\n",
    "    text = re.sub(u'[^a-z\\s]','',text)\n",
    "    text = re.sub('\\cI', '', text)\n",
    "    text = re.sub('\\t', '', text)\n",
    "    text = re.sub('\\f', '', text)\n",
    "    text = re.sub('\\r', '', text)\n",
    "    text = re.sub('\\(','',text)\n",
    "    text = re.sub('\\)','',text)\n",
    "    text = re.sub('\\n',' ',text)\n",
    "    text = re.sub('\\'a',' ',text)\n",
    "    text = re.sub('\\{','',text)\n",
    "    text = re.sub('\\}','',text)\n",
    "    text = re.sub('\\+','',text)\n",
    "    text = re.sub('\\*','',text)  \n",
    "    text = re.sub('\\  ', '', text)\n",
    "    text = ' '.join(i.lemma_ for i in nlp(text) if i.orth_ not in STOP_WORDS)\n",
    "    text = ' '.join(text.split())\n",
    "    return text"
   ]
  },
  {
   "cell_type": "code",
   "execution_count": 20,
   "metadata": {},
   "outputs": [
    {
     "name": "stderr",
     "output_type": "stream",
     "text": [
      "/opt/conda/lib/python3.5/site-packages/ipykernel_launcher.py:12: DeprecationWarning: bad escape \\c\n",
      "  if sys.path[0] == '':\n"
     ]
    }
   ],
   "source": [
    "df['clean_text'] = df['page_text'].apply(cleaner)"
   ]
  },
  {
   "cell_type": "code",
   "execution_count": 21,
   "metadata": {},
   "outputs": [
    {
     "data": {
      "text/html": [
       "<div>\n",
       "<table border=\"1\" class=\"dataframe\">\n",
       "  <thead>\n",
       "    <tr style=\"text-align: right;\">\n",
       "      <th></th>\n",
       "      <th>page_text</th>\n",
       "      <th>page_title</th>\n",
       "      <th>clean_text</th>\n",
       "    </tr>\n",
       "  </thead>\n",
       "  <tbody>\n",
       "    <tr>\n",
       "      <th>2659</th>\n",
       "      <td>OpenGate OpenGate is a communications platform...</td>\n",
       "      <td>OpenGate</td>\n",
       "      <td>opengate opengate communications platform desi...</td>\n",
       "    </tr>\n",
       "    <tr>\n",
       "      <th>3040</th>\n",
       "      <td>ClearBooks Clear Books is a cloud-based (SaaS)...</td>\n",
       "      <td>ClearBooks</td>\n",
       "      <td>clearbook clear book cloudbased saas accountin...</td>\n",
       "    </tr>\n",
       "    <tr>\n",
       "      <th>3094</th>\n",
       "      <td>Agorum core agorum core is a free Open-Source ...</td>\n",
       "      <td>Agorum core</td>\n",
       "      <td>agorum core agorum core free opensource enterp...</td>\n",
       "    </tr>\n",
       "    <tr>\n",
       "      <th>1588</th>\n",
       "      <td>Autoencoder An autoencoder, autoassociator or ...</td>\n",
       "      <td>Autoencoder</td>\n",
       "      <td>autoencoder autoencoder autoassociator diabolo...</td>\n",
       "    </tr>\n",
       "    <tr>\n",
       "      <th>4246</th>\n",
       "      <td>EFileCabinet eFileCabinet is a company headqua...</td>\n",
       "      <td>EFileCabinet</td>\n",
       "      <td>efilecabinet efilecabinet company headquarter ...</td>\n",
       "    </tr>\n",
       "    <tr>\n",
       "      <th>2433</th>\n",
       "      <td>D3.ru Dirty.ru is one of the first collaborati...</td>\n",
       "      <td>D3.ru</td>\n",
       "      <td>dru dirtyru collaborative blog runet online pl...</td>\n",
       "    </tr>\n",
       "    <tr>\n",
       "      <th>5238</th>\n",
       "      <td>TeX Directory Structure In typesetting softwar...</td>\n",
       "      <td>TeX Directory Structure</td>\n",
       "      <td>tex directory structure typesetting software t...</td>\n",
       "    </tr>\n",
       "    <tr>\n",
       "      <th>1088</th>\n",
       "      <td>Artificial ants In computer science, Artificia...</td>\n",
       "      <td>Artificial ants</td>\n",
       "      <td>artificial ant computer science artificial ant...</td>\n",
       "    </tr>\n",
       "    <tr>\n",
       "      <th>4953</th>\n",
       "      <td>Webmail Webmail (or web-based email) is any em...</td>\n",
       "      <td>Webmail</td>\n",
       "      <td>webmail webmail webbas email email client impl...</td>\n",
       "    </tr>\n",
       "    <tr>\n",
       "      <th>4612</th>\n",
       "      <td>WikiHow wikiHow is an online wiki-style commun...</td>\n",
       "      <td>WikiHow</td>\n",
       "      <td>wikihow wikihow online wikistyle community con...</td>\n",
       "    </tr>\n",
       "  </tbody>\n",
       "</table>\n",
       "</div>"
      ],
      "text/plain": [
       "                                              page_text  \\\n",
       "2659  OpenGate OpenGate is a communications platform...   \n",
       "3040  ClearBooks Clear Books is a cloud-based (SaaS)...   \n",
       "3094  Agorum core agorum core is a free Open-Source ...   \n",
       "1588  Autoencoder An autoencoder, autoassociator or ...   \n",
       "4246  EFileCabinet eFileCabinet is a company headqua...   \n",
       "2433  D3.ru Dirty.ru is one of the first collaborati...   \n",
       "5238  TeX Directory Structure In typesetting softwar...   \n",
       "1088  Artificial ants In computer science, Artificia...   \n",
       "4953  Webmail Webmail (or web-based email) is any em...   \n",
       "4612  WikiHow wikiHow is an online wiki-style commun...   \n",
       "\n",
       "                   page_title  \\\n",
       "2659                 OpenGate   \n",
       "3040               ClearBooks   \n",
       "3094              Agorum core   \n",
       "1588              Autoencoder   \n",
       "4246             EFileCabinet   \n",
       "2433                    D3.ru   \n",
       "5238  TeX Directory Structure   \n",
       "1088          Artificial ants   \n",
       "4953                  Webmail   \n",
       "4612                  WikiHow   \n",
       "\n",
       "                                             clean_text  \n",
       "2659  opengate opengate communications platform desi...  \n",
       "3040  clearbook clear book cloudbased saas accountin...  \n",
       "3094  agorum core agorum core free opensource enterp...  \n",
       "1588  autoencoder autoencoder autoassociator diabolo...  \n",
       "4246  efilecabinet efilecabinet company headquarter ...  \n",
       "2433  dru dirtyru collaborative blog runet online pl...  \n",
       "5238  tex directory structure typesetting software t...  \n",
       "1088  artificial ant computer science artificial ant...  \n",
       "4953  webmail webmail webbas email email client impl...  \n",
       "4612  wikihow wikihow online wikistyle community con...  "
      ]
     },
     "execution_count": 21,
     "metadata": {},
     "output_type": "execute_result"
    }
   ],
   "source": [
    "df[['page_text','page_title','clean_text']].sample(10)"
   ]
  },
  {
   "cell_type": "markdown",
   "metadata": {},
   "source": [
    "### TFIDF LSA - Label Encode The Title"
   ]
  },
  {
   "cell_type": "code",
   "execution_count": 22,
   "metadata": {
    "collapsed": true
   },
   "outputs": [],
   "source": [
    "from sklearn.preprocessing import LabelEncoder"
   ]
  },
  {
   "cell_type": "code",
   "execution_count": 23,
   "metadata": {
    "collapsed": true
   },
   "outputs": [],
   "source": [
    "le = LabelEncoder()\n",
    "df['page_title_numerical'] = le.fit_transform(df['page_title'])"
   ]
  },
  {
   "cell_type": "code",
   "execution_count": 24,
   "metadata": {},
   "outputs": [
    {
     "data": {
      "text/html": [
       "<div>\n",
       "<table border=\"1\" class=\"dataframe\">\n",
       "  <thead>\n",
       "    <tr style=\"text-align: right;\">\n",
       "      <th></th>\n",
       "      <th>clean_text</th>\n",
       "      <th>page_title</th>\n",
       "      <th>page_title_numerical</th>\n",
       "    </tr>\n",
       "  </thead>\n",
       "  <tbody>\n",
       "    <tr>\n",
       "      <th>1643</th>\n",
       "      <td>computer reservation system computer reservati...</td>\n",
       "      <td>Computer reservation system</td>\n",
       "      <td>694</td>\n",
       "    </tr>\n",
       "    <tr>\n",
       "      <th>4250</th>\n",
       "      <td>ibm connection ibm connection webenterprise so...</td>\n",
       "      <td>IBM Connections</td>\n",
       "      <td>1626</td>\n",
       "    </tr>\n",
       "    <tr>\n",
       "      <th>3559</th>\n",
       "      <td>radiological information system radiological i...</td>\n",
       "      <td>Radiological information system</td>\n",
       "      <td>3053</td>\n",
       "    </tr>\n",
       "    <tr>\n",
       "      <th>5221</th>\n",
       "      <td>luatex luatex texbased computer typesetting sy...</td>\n",
       "      <td>LuaTeX</td>\n",
       "      <td>2070</td>\n",
       "    </tr>\n",
       "    <tr>\n",
       "      <th>2569</th>\n",
       "      <td>oracle enterprise resource planning cloud orac...</td>\n",
       "      <td>Oracle Enterprise Resource Planning Cloud</td>\n",
       "      <td>2682</td>\n",
       "    </tr>\n",
       "  </tbody>\n",
       "</table>\n",
       "</div>"
      ],
      "text/plain": [
       "                                             clean_text  \\\n",
       "1643  computer reservation system computer reservati...   \n",
       "4250  ibm connection ibm connection webenterprise so...   \n",
       "3559  radiological information system radiological i...   \n",
       "5221  luatex luatex texbased computer typesetting sy...   \n",
       "2569  oracle enterprise resource planning cloud orac...   \n",
       "\n",
       "                                     page_title  page_title_numerical  \n",
       "1643                Computer reservation system                   694  \n",
       "4250                            IBM Connections                  1626  \n",
       "3559            Radiological information system                  3053  \n",
       "5221                                     LuaTeX                  2070  \n",
       "2569  Oracle Enterprise Resource Planning Cloud                  2682  "
      ]
     },
     "execution_count": 24,
     "metadata": {},
     "output_type": "execute_result"
    }
   ],
   "source": [
    "df[['clean_text','page_title','page_title_numerical']].sample(5)"
   ]
  },
  {
   "cell_type": "markdown",
   "metadata": {},
   "source": [
    "### Prepare the Document Term Matrix - TFDIF Vectorizer"
   ]
  },
  {
   "cell_type": "code",
   "execution_count": 25,
   "metadata": {
    "collapsed": true
   },
   "outputs": [],
   "source": [
    "from sklearn.feature_extraction.text import TfidfVectorizer"
   ]
  },
  {
   "cell_type": "code",
   "execution_count": 26,
   "metadata": {
    "collapsed": true
   },
   "outputs": [],
   "source": [
    "tfidf_vectorizer = TfidfVectorizer(min_df = 1, stop_words = 'english')"
   ]
  },
  {
   "cell_type": "code",
   "execution_count": 27,
   "metadata": {
    "collapsed": true
   },
   "outputs": [],
   "source": [
    "document_term_matrix_sps = tfidf_vectorizer.fit_transform(df['clean_text'])"
   ]
  },
  {
   "cell_type": "code",
   "execution_count": 28,
   "metadata": {},
   "outputs": [
    {
     "data": {
      "text/plain": [
       "<6409x28073 sparse matrix of type '<class 'numpy.float64'>'\n",
       "\twith 303370 stored elements in Compressed Sparse Row format>"
      ]
     },
     "execution_count": 28,
     "metadata": {},
     "output_type": "execute_result"
    }
   ],
   "source": [
    "document_term_matrix_sps"
   ]
  },
  {
   "cell_type": "code",
   "execution_count": 29,
   "metadata": {
    "collapsed": true
   },
   "outputs": [],
   "source": [
    "document_term_matrix_df = pd.DataFrame(document_term_matrix_sps.toarray(),\n",
    "                                       index=df.index,\n",
    "                                       columns=tfidf_vectorizer.get_feature_names())"
   ]
  },
  {
   "cell_type": "markdown",
   "metadata": {},
   "source": [
    "### Pickle files for further analysis in next notebook\n",
    "\n",
    "Please move onto part 2.2 notebook"
   ]
  },
  {
   "cell_type": "code",
   "execution_count": 30,
   "metadata": {
    "collapsed": true
   },
   "outputs": [],
   "source": [
    "from sklearn.externals import joblib"
   ]
  },
  {
   "cell_type": "code",
   "execution_count": null,
   "metadata": {
    "collapsed": true
   },
   "outputs": [],
   "source": [
    "joblib.dump(tfidf_vectorizer, 'tfidf_vectorizer')\n",
    "joblib.dump(document_term_matrix_sps, 'document_term_matrix_sps')\n",
    "joblib.dump(df,'df')"
   ]
  },
  {
   "cell_type": "code",
   "execution_count": null,
   "metadata": {
    "collapsed": true
   },
   "outputs": [],
   "source": []
  }
 ],
 "metadata": {
  "kernelspec": {
   "display_name": "Python 3",
   "language": "python",
   "name": "python3"
  },
  "language_info": {
   "codemirror_mode": {
    "name": "ipython",
    "version": 3
   },
   "file_extension": ".py",
   "mimetype": "text/x-python",
   "name": "python",
   "nbconvert_exporter": "python",
   "pygments_lexer": "ipython3",
   "version": "3.5.2"
  }
 },
 "nbformat": 4,
 "nbformat_minor": 2
}
